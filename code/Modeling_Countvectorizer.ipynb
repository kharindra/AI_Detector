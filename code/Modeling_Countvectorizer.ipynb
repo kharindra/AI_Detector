{
 "cells": [
  {
   "cell_type": "markdown",
   "id": "bad9d965-50e8-494e-b5a8-c93f15d24f77",
   "metadata": {},
   "source": [
    "## CountVectorizer"
   ]
  },
  {
   "cell_type": "code",
   "execution_count": 1,
   "id": "725bcb05-e29f-4150-bad3-cb1d5d9f20c5",
   "metadata": {},
   "outputs": [],
   "source": [
    "## Import libraries\n",
    "import pandas as pd\n",
    "import numpy as np\n",
    "import warnings\n",
    "warnings.filterwarnings('ignore')\n",
    "\n",
    "import nltk\n",
    "from nltk.corpus import stopwords\n",
    "import matplotlib.pyplot as plt\n",
    "import seaborn as sns\n",
    "import matplotlib.gridspec as gs\n",
    "import pickle\n",
    "\n",
    "from sklearn.svm import LinearSVC\n",
    "from sklearn.ensemble import AdaBoostClassifier\n",
    "from sklearn.neighbors import KNeighborsClassifier\n",
    "from sklearn.metrics import confusion_matrix, ConfusionMatrixDisplay\n",
    "from sklearn.model_selection import train_test_split,GridSearchCV\n",
    "from sklearn.feature_extraction.text import TfidfVectorizer,CountVectorizer\n",
    "from sklearn.linear_model import LogisticRegressionCV\n",
    "from sklearn.ensemble import RandomForestClassifier\n",
    "from sklearn.pipeline import Pipeline\n",
    "from sklearn.naive_bayes import MultinomialNB, BernoulliNB ,GaussianNB\n",
    "from sklearn.metrics import accuracy_score, classification_report"
   ]
  },
  {
   "cell_type": "markdown",
   "id": "568bfd4e-91f0-482d-8c00-d33e1d917c2a",
   "metadata": {},
   "source": [
    "**The models that we are going to use here:**\n",
    "\n",
    "- LogisticRegressionCV\n",
    "- MultinomialNB\n",
    "- BernoulliNB\n",
    "- KNN Classifier\n",
    "- RandomForest Classifier\n",
    "- AdaBoost Classifier\n",
    "- SVM Classifier"
   ]
  },
  {
   "cell_type": "code",
   "execution_count": 2,
   "id": "7f30fcf6-2195-4c7a-9d2a-264fcb1f7dc7",
   "metadata": {},
   "outputs": [],
   "source": [
    "## Load the data\n",
    "df= pd.read_csv('./data/human_ai.csv')"
   ]
  },
  {
   "cell_type": "code",
   "execution_count": 3,
   "id": "f3ad4591-9cdc-4bb8-98b9-78d76b8ea5e7",
   "metadata": {},
   "outputs": [
    {
     "data": {
      "text/html": [
       "<div>\n",
       "<style scoped>\n",
       "    .dataframe tbody tr th:only-of-type {\n",
       "        vertical-align: middle;\n",
       "    }\n",
       "\n",
       "    .dataframe tbody tr th {\n",
       "        vertical-align: top;\n",
       "    }\n",
       "\n",
       "    .dataframe thead th {\n",
       "        text-align: right;\n",
       "    }\n",
       "</style>\n",
       "<table border=\"1\" class=\"dataframe\">\n",
       "  <thead>\n",
       "    <tr style=\"text-align: right;\">\n",
       "      <th></th>\n",
       "      <th>question</th>\n",
       "      <th>Answer</th>\n",
       "      <th>human_ai</th>\n",
       "    </tr>\n",
       "  </thead>\n",
       "  <tbody>\n",
       "    <tr>\n",
       "      <th>0</th>\n",
       "      <td>Men's shoulder-to-hip ratios influence neuroph...</td>\n",
       "      <td>Y'all, the point isn't that they confirmed tha...</td>\n",
       "      <td>0</td>\n",
       "    </tr>\n",
       "    <tr>\n",
       "      <th>1</th>\n",
       "      <td>Pro-circle arguments for a new futuristic city...</td>\n",
       "      <td>Who would willingly live in a super long priso...</td>\n",
       "      <td>0</td>\n",
       "    </tr>\n",
       "    <tr>\n",
       "      <th>2</th>\n",
       "      <td>Researchers have successfully transferred a ge...</td>\n",
       "      <td>For those unfamiliar, tobacco is a plant that ...</td>\n",
       "      <td>0</td>\n",
       "    </tr>\n",
       "    <tr>\n",
       "      <th>3</th>\n",
       "      <td>Boosting the ‘warm glow’ feeling that people e...</td>\n",
       "      <td>I think there’s missing information in that he...</td>\n",
       "      <td>0</td>\n",
       "    </tr>\n",
       "    <tr>\n",
       "      <th>4</th>\n",
       "      <td>Social myths on nuclear waste being targeted i...</td>\n",
       "      <td>Great news. The war against nuclear power, fun...</td>\n",
       "      <td>0</td>\n",
       "    </tr>\n",
       "  </tbody>\n",
       "</table>\n",
       "</div>"
      ],
      "text/plain": [
       "                                            question  \\\n",
       "0  Men's shoulder-to-hip ratios influence neuroph...   \n",
       "1  Pro-circle arguments for a new futuristic city...   \n",
       "2  Researchers have successfully transferred a ge...   \n",
       "3  Boosting the ‘warm glow’ feeling that people e...   \n",
       "4  Social myths on nuclear waste being targeted i...   \n",
       "\n",
       "                                              Answer  human_ai  \n",
       "0  Y'all, the point isn't that they confirmed tha...         0  \n",
       "1  Who would willingly live in a super long priso...         0  \n",
       "2  For those unfamiliar, tobacco is a plant that ...         0  \n",
       "3  I think there’s missing information in that he...         0  \n",
       "4  Great news. The war against nuclear power, fun...         0  "
      ]
     },
     "execution_count": 3,
     "metadata": {},
     "output_type": "execute_result"
    }
   ],
   "source": [
    "df.head()"
   ]
  },
  {
   "cell_type": "code",
   "execution_count": 4,
   "id": "3d80e8cd-4b7a-4b65-a8f1-6960dccd6274",
   "metadata": {},
   "outputs": [
    {
     "data": {
      "text/plain": [
       "(12412, 3)"
      ]
     },
     "execution_count": 4,
     "metadata": {},
     "output_type": "execute_result"
    }
   ],
   "source": [
    "df.shape"
   ]
  },
  {
   "cell_type": "markdown",
   "id": "9ef1f723-af22-4642-b5f6-255a062b3a1c",
   "metadata": {},
   "source": [
    "## Removing non english words in answer"
   ]
  },
  {
   "cell_type": "code",
   "execution_count": 5,
   "id": "54dcd095-e3e4-432a-8a34-afb574a900d0",
   "metadata": {},
   "outputs": [
    {
     "data": {
      "text/plain": [
       "(12412,)"
      ]
     },
     "execution_count": 5,
     "metadata": {},
     "output_type": "execute_result"
    }
   ],
   "source": [
    "df['Answer'].shape"
   ]
  },
  {
   "cell_type": "code",
   "execution_count": 6,
   "id": "0bec85f3-a772-445d-8c60-f887a03f2068",
   "metadata": {},
   "outputs": [],
   "source": [
    "answers = [df['Answer'][i] for i in range(len(df['Answer']))]"
   ]
  },
  {
   "cell_type": "code",
   "execution_count": 7,
   "id": "8621b7dc-7a8b-4319-a4b3-5fe5ad91b1ab",
   "metadata": {},
   "outputs": [],
   "source": [
    "words = set(nltk.corpus.words.words())\n",
    "\n",
    "only_english = []\n",
    "for j in answers:\n",
    "    only_english.append(' '.join(w for w in nltk.wordpunct_tokenize(j) if w.lower() in words or not w.isalpha()))"
   ]
  },
  {
   "cell_type": "markdown",
   "id": "58f12bf8-c311-4e7d-b2b7-f61388a85e87",
   "metadata": {},
   "source": [
    "cite : https://stackoverflow.com/questions/41290028/removing-non-english-words-from-text-using-python"
   ]
  },
  {
   "cell_type": "code",
   "execution_count": 8,
   "id": "3f0e3c26-76b3-489c-8c7f-04f641d6ae46",
   "metadata": {},
   "outputs": [],
   "source": [
    "df['english_answer'] = only_english"
   ]
  },
  {
   "cell_type": "code",
   "execution_count": 9,
   "id": "728bac86-2730-4f1d-bb1a-6158774a16ae",
   "metadata": {},
   "outputs": [
    {
     "data": {
      "text/html": [
       "<div>\n",
       "<style scoped>\n",
       "    .dataframe tbody tr th:only-of-type {\n",
       "        vertical-align: middle;\n",
       "    }\n",
       "\n",
       "    .dataframe tbody tr th {\n",
       "        vertical-align: top;\n",
       "    }\n",
       "\n",
       "    .dataframe thead th {\n",
       "        text-align: right;\n",
       "    }\n",
       "</style>\n",
       "<table border=\"1\" class=\"dataframe\">\n",
       "  <thead>\n",
       "    <tr style=\"text-align: right;\">\n",
       "      <th></th>\n",
       "      <th>question</th>\n",
       "      <th>Answer</th>\n",
       "      <th>human_ai</th>\n",
       "      <th>english_answer</th>\n",
       "    </tr>\n",
       "  </thead>\n",
       "  <tbody>\n",
       "    <tr>\n",
       "      <th>0</th>\n",
       "      <td>Men's shoulder-to-hip ratios influence neuroph...</td>\n",
       "      <td>Y'all, the point isn't that they confirmed tha...</td>\n",
       "      <td>0</td>\n",
       "      <td>Y ' all , the point ' t that they confirmed th...</td>\n",
       "    </tr>\n",
       "    <tr>\n",
       "      <th>1</th>\n",
       "      <td>Pro-circle arguments for a new futuristic city...</td>\n",
       "      <td>Who would willingly live in a super long priso...</td>\n",
       "      <td>0</td>\n",
       "      <td>Who would willingly live in a super long priso...</td>\n",
       "    </tr>\n",
       "    <tr>\n",
       "      <th>2</th>\n",
       "      <td>Researchers have successfully transferred a ge...</td>\n",
       "      <td>For those unfamiliar, tobacco is a plant that ...</td>\n",
       "      <td>0</td>\n",
       "      <td>For those unfamiliar , tobacco is a plant that...</td>\n",
       "    </tr>\n",
       "    <tr>\n",
       "      <th>3</th>\n",
       "      <td>Boosting the ‘warm glow’ feeling that people e...</td>\n",
       "      <td>I think there’s missing information in that he...</td>\n",
       "      <td>0</td>\n",
       "      <td>I think there ’ s missing information in that ...</td>\n",
       "    </tr>\n",
       "    <tr>\n",
       "      <th>4</th>\n",
       "      <td>Social myths on nuclear waste being targeted i...</td>\n",
       "      <td>Great news. The war against nuclear power, fun...</td>\n",
       "      <td>0</td>\n",
       "      <td>Great news . The war against nuclear power , f...</td>\n",
       "    </tr>\n",
       "  </tbody>\n",
       "</table>\n",
       "</div>"
      ],
      "text/plain": [
       "                                            question  \\\n",
       "0  Men's shoulder-to-hip ratios influence neuroph...   \n",
       "1  Pro-circle arguments for a new futuristic city...   \n",
       "2  Researchers have successfully transferred a ge...   \n",
       "3  Boosting the ‘warm glow’ feeling that people e...   \n",
       "4  Social myths on nuclear waste being targeted i...   \n",
       "\n",
       "                                              Answer  human_ai  \\\n",
       "0  Y'all, the point isn't that they confirmed tha...         0   \n",
       "1  Who would willingly live in a super long priso...         0   \n",
       "2  For those unfamiliar, tobacco is a plant that ...         0   \n",
       "3  I think there’s missing information in that he...         0   \n",
       "4  Great news. The war against nuclear power, fun...         0   \n",
       "\n",
       "                                      english_answer  \n",
       "0  Y ' all , the point ' t that they confirmed th...  \n",
       "1  Who would willingly live in a super long priso...  \n",
       "2  For those unfamiliar , tobacco is a plant that...  \n",
       "3  I think there ’ s missing information in that ...  \n",
       "4  Great news . The war against nuclear power , f...  "
      ]
     },
     "execution_count": 9,
     "metadata": {},
     "output_type": "execute_result"
    }
   ],
   "source": [
    "df.head()"
   ]
  },
  {
   "cell_type": "code",
   "execution_count": 10,
   "id": "1c3efe87-a92b-4c84-b77f-67ea0b272c99",
   "metadata": {},
   "outputs": [
    {
     "data": {
      "text/plain": [
       "(12412, 4)"
      ]
     },
     "execution_count": 10,
     "metadata": {},
     "output_type": "execute_result"
    }
   ],
   "source": [
    "df.shape"
   ]
  },
  {
   "cell_type": "markdown",
   "id": "828ad06b-ff93-424f-a418-1a95f29c079b",
   "metadata": {},
   "source": [
    "# Identify nulls "
   ]
  },
  {
   "cell_type": "code",
   "execution_count": 11,
   "id": "cdbe0c3a-6c46-4f31-b92a-390431a8f938",
   "metadata": {},
   "outputs": [
    {
     "data": {
      "text/plain": [
       "question          0\n",
       "Answer            0\n",
       "human_ai          0\n",
       "english_answer    0\n",
       "dtype: int64"
      ]
     },
     "execution_count": 11,
     "metadata": {},
     "output_type": "execute_result"
    }
   ],
   "source": [
    "df.isna().sum()"
   ]
  },
  {
   "cell_type": "code",
   "execution_count": 12,
   "id": "2543936e-13b9-4507-8fe4-997dc1f5951e",
   "metadata": {},
   "outputs": [],
   "source": [
    "## Already removed nulls during the data cleaning process. (refer the Dataframe for modeling notebook)"
   ]
  },
  {
   "cell_type": "code",
   "execution_count": 13,
   "id": "49d9aedb-cc87-4538-8221-5331100f0d30",
   "metadata": {},
   "outputs": [],
   "source": [
    "## define X and y\n",
    "X = pd.Series(df['english_answer'])\n",
    "y = df['human_ai']"
   ]
  },
  {
   "cell_type": "code",
   "execution_count": 14,
   "id": "eaa1f3c7-b918-46af-be02-1f198129bb66",
   "metadata": {},
   "outputs": [],
   "source": [
    "# Dataset size"
   ]
  },
  {
   "cell_type": "code",
   "execution_count": 15,
   "id": "00b6149f-db85-4e26-b680-580143d01b1b",
   "metadata": {},
   "outputs": [
    {
     "data": {
      "text/plain": [
       "((12412,), (12412,))"
      ]
     },
     "execution_count": 15,
     "metadata": {},
     "output_type": "execute_result"
    }
   ],
   "source": [
    "X.shape, y.shape"
   ]
  },
  {
   "cell_type": "code",
   "execution_count": 16,
   "id": "e7c9374c-de80-457d-9278-908bbdedaceb",
   "metadata": {},
   "outputs": [
    {
     "data": {
      "text/plain": [
       "human_ai\n",
       "0    0.5\n",
       "1    0.5\n",
       "Name: proportion, dtype: float64"
      ]
     },
     "execution_count": 16,
     "metadata": {},
     "output_type": "execute_result"
    }
   ],
   "source": [
    "#check the baseline score\n",
    "y.value_counts(normalize=True)"
   ]
  },
  {
   "cell_type": "markdown",
   "id": "98087dbc-8144-4362-b118-3f7117f17d36",
   "metadata": {},
   "source": [
    "# Top 20 Occurring Words (Only for Human Response)"
   ]
  },
  {
   "cell_type": "code",
   "execution_count": 17,
   "id": "00f9cad7-4651-4d8c-a5ff-8806a6f120d5",
   "metadata": {},
   "outputs": [],
   "source": [
    "# Retreive human only answers after removing non english words"
   ]
  },
  {
   "cell_type": "code",
   "execution_count": 18,
   "id": "c66bd8fa-9fbe-4620-83e7-0b40fda1e049",
   "metadata": {},
   "outputs": [],
   "source": [
    "human = df[df['human_ai'] == 0]"
   ]
  },
  {
   "cell_type": "code",
   "execution_count": 19,
   "id": "a4ff93c7-126d-49cc-af76-58b776dd4c07",
   "metadata": {},
   "outputs": [],
   "source": [
    "human = pd.Series(human['english_answer'])"
   ]
  },
  {
   "cell_type": "code",
   "execution_count": 20,
   "id": "69692dc1-2c42-4992-995d-c306bf4f415c",
   "metadata": {},
   "outputs": [],
   "source": [
    "# Instantiate a CountVectorizer.\n",
    "cvec = CountVectorizer()\n",
    "# Transform the corpus.\n",
    "human = cvec.fit_transform(human)"
   ]
  },
  {
   "cell_type": "code",
   "execution_count": 21,
   "id": "c72dd141-6a90-4340-93b6-ce9d5d704b11",
   "metadata": {},
   "outputs": [],
   "source": [
    "human_features = cvec.get_feature_names_out()"
   ]
  },
  {
   "cell_type": "code",
   "execution_count": 22,
   "id": "434dac8d-4d45-4f41-8042-4690a1248296",
   "metadata": {},
   "outputs": [],
   "source": [
    "# Convert X_train into a DataFrame.\n",
    "\n",
    "human_df = pd.DataFrame(human.todense(), \n",
    "                          columns=human_features)"
   ]
  },
  {
   "cell_type": "code",
   "execution_count": 102,
   "id": "2bad89e1-31d1-48a1-a316-7ce6db03d1e1",
   "metadata": {},
   "outputs": [
    {
     "data": {
      "image/png": "[encoded data removed]",
      "text/plain": [
       "<Figure size 1000x600 with 1 Axes>"
      ]
     },
     "metadata": {},
     "output_type": "display_data"
    }
   ],
   "source": [
    "# Sort and select the top 20 occurring words\n",
    "top_words = human_df.sum().sort_values().tail(20)\n",
    "\n",
    "# Create a bar plot using Seaborn\n",
    "plt.figure(figsize=(10, 6))  # Set the figure size\n",
    "sns.barplot(x=top_words.values, y=top_words.index, palette='viridis')\n",
    "\n",
    "# Add labels and a title\n",
    "plt.xlabel('Frequency')\n",
    "plt.ylabel('Words')\n",
    "plt.title('Top 20 Occurring Words (Human Response)')\n",
    "\n",
    "# Show the plot\n",
    "plt.show()"
   ]
  },
  {
   "cell_type": "markdown",
   "id": "91377136-1127-4bc8-8ca8-d0fd12fcb9db",
   "metadata": {},
   "source": [
    "# Top 20 Occurring Words (Only for AI Response)"
   ]
  },
  {
   "cell_type": "code",
   "execution_count": 24,
   "id": "9df38810-0c9f-416c-8dd5-2dc52a20a031",
   "metadata": {},
   "outputs": [],
   "source": [
    "ai = df[df['human_ai'] == 1]"
   ]
  },
  {
   "cell_type": "code",
   "execution_count": 25,
   "id": "5c5d3414-8878-4ff2-959e-c3d116d94c40",
   "metadata": {},
   "outputs": [],
   "source": [
    "ai = pd.Series(ai['english_answer'])"
   ]
  },
  {
   "cell_type": "code",
   "execution_count": 26,
   "id": "ac770243-13ed-441b-b64f-6b419f4ffc40",
   "metadata": {},
   "outputs": [],
   "source": [
    "# Instantiate a CountVectorizer.\n",
    "cvec = CountVectorizer()\n",
    "# Transform the corpus.\n",
    "ai = cvec.fit_transform(ai)"
   ]
  },
  {
   "cell_type": "code",
   "execution_count": 27,
   "id": "0b9b5287-ba0c-4cb4-bd35-7c5db8ce5bcb",
   "metadata": {},
   "outputs": [],
   "source": [
    "ai_features = cvec.get_feature_names_out()"
   ]
  },
  {
   "cell_type": "code",
   "execution_count": 28,
   "id": "11d4d758-46fb-46ef-af44-5e1247f7387d",
   "metadata": {},
   "outputs": [],
   "source": [
    "# Convert ai into a DataFrame.\n",
    "\n",
    "ai_df = pd.DataFrame(ai.todense(), \n",
    "                          columns=ai_features)"
   ]
  },
  {
   "cell_type": "code",
   "execution_count": 29,
   "id": "6efbc2b7-2e97-4627-bdd7-7cefd1f7f971",
   "metadata": {},
   "outputs": [
    {
     "data": {
      "image/png": "[encoded data removed]",
      "text/plain": [
       "<Figure size 1000x600 with 1 Axes>"
      ]
     },
     "metadata": {},
     "output_type": "display_data"
    }
   ],
   "source": [
    "# Sort and select the top 20 occurring words\n",
    "top_words = ai_df.sum().sort_values().tail(20)\n",
    "\n",
    "# Create a bar plot using Seaborn\n",
    "plt.figure(figsize=(10, 6))  # Set the figure size\n",
    "sns.barplot(x=top_words.values, y=top_words.index, palette='viridis')\n",
    "\n",
    "# Add labels and a title\n",
    "plt.xlabel('Frequency')\n",
    "plt.ylabel('Words')\n",
    "plt.title('Top 20 Occurring Words (AI Response)')\n",
    "\n",
    "# Show the plot\n",
    "plt.show()"
   ]
  },
  {
   "cell_type": "code",
   "execution_count": 30,
   "id": "e0850009-8f9e-4a45-95f6-36dcda20619d",
   "metadata": {},
   "outputs": [],
   "source": [
    "#Split the data into training and testing sets\n",
    "X_train, X_test, y_train, y_test = train_test_split(X, y, test_size=0.2, random_state=42)"
   ]
  },
  {
   "cell_type": "markdown",
   "id": "ffb6516a-969c-4f6b-9ad6-78adf7ea9334",
   "metadata": {},
   "source": [
    "### Instantiate a CountVectorizer."
   ]
  },
  {
   "cell_type": "code",
   "execution_count": 31,
   "id": "9f55d54d-c0e5-4c69-9bae-00da0a9fcf60",
   "metadata": {},
   "outputs": [],
   "source": [
    "# Instantiate a CountVectorizer.\n",
    "cvec = CountVectorizer()\n",
    "# Transform the corpus.\n",
    "X_train = cvec.fit_transform(X_train)\n",
    "X_test = cvec.transform(X_test)"
   ]
  },
  {
   "cell_type": "code",
   "execution_count": 32,
   "id": "e43aabab-bf5a-4b72-8b6c-4013fa95f26a",
   "metadata": {},
   "outputs": [],
   "source": [
    "columns=cvec.get_feature_names_out()"
   ]
  },
  {
   "cell_type": "code",
   "execution_count": 33,
   "id": "24895ed2-181c-4d42-a4fc-efaaddf20dcd",
   "metadata": {},
   "outputs": [],
   "source": [
    "# Convert X_train into a DataFrame.\n",
    "\n",
    "X_train_df = pd.DataFrame(X_train.todense(), \n",
    "                          columns=cvec.get_feature_names_out())"
   ]
  },
  {
   "cell_type": "code",
   "execution_count": 34,
   "id": "a98ad663-cffc-4bc5-8ccf-a3f8b81ceb80",
   "metadata": {},
   "outputs": [
    {
     "data": {
      "image/png": "[encoded data removed]",
      "text/plain": [
       "<Figure size 1000x600 with 1 Axes>"
      ]
     },
     "metadata": {},
     "output_type": "display_data"
    }
   ],
   "source": [
    "# Sort and select the top 20 occurring words when considering both the human and ai responses\n",
    "top_words = X_train_df.sum().sort_values().tail(20)\n",
    "\n",
    "# Create a bar plot using Seaborn\n",
    "plt.figure(figsize=(10, 6))  # Set the figure size\n",
    "sns.barplot(x=top_words.values, y=top_words.index, palette='viridis')\n",
    "\n",
    "# Add labels and a title\n",
    "plt.xlabel('Frequency')\n",
    "plt.ylabel('Words')\n",
    "plt.title('Top 20 Occurring Words')\n",
    "\n",
    "\n",
    "#plt.savefig(\"./img/Cvec/Top_20_Occurring_Words.jpg\", dpi=300)\n",
    "# Show the plot\n",
    "plt.show()"
   ]
  },
  {
   "cell_type": "markdown",
   "id": "86338542-6787-4ee8-9823-ac4ce3822257",
   "metadata": {},
   "source": [
    "### Redefine training and testing sets."
   ]
  },
  {
   "cell_type": "code",
   "execution_count": 35,
   "id": "ee97b2f2-be5a-474e-ac50-33e00036d557",
   "metadata": {},
   "outputs": [],
   "source": [
    "X_train, X_test, y_train, y_test = train_test_split(X,\n",
    "                                                    y,\n",
    "                                                    test_size=0.2,\n",
    "                                                    random_state=42)"
   ]
  },
  {
   "cell_type": "code",
   "execution_count": 36,
   "id": "66662160-502c-4a95-b323-2cc776c06a1c",
   "metadata": {},
   "outputs": [
    {
     "data": {
      "text/plain": [
       "array(['00', '000', '0009', ..., 'zoom', 'zt88pebtw', 'zt9c'],\n",
       "      dtype=object)"
      ]
     },
     "execution_count": 36,
     "metadata": {},
     "output_type": "execute_result"
    }
   ],
   "source": [
    "columns"
   ]
  },
  {
   "cell_type": "code",
   "execution_count": 37,
   "id": "3e9cdfae-69dc-4e3c-b0fd-553f6ea26e9e",
   "metadata": {},
   "outputs": [],
   "source": [
    "english_stopwords = stopwords.words('english')"
   ]
  },
  {
   "cell_type": "markdown",
   "id": "4673c44d-e575-4e74-b1bb-d375cd5478ba",
   "metadata": {},
   "source": [
    "## Function for model evaluation"
   ]
  },
  {
   "cell_type": "code",
   "execution_count": 38,
   "id": "b981ffc0-f093-4f14-be63-2acfc2d59ffa",
   "metadata": {},
   "outputs": [],
   "source": [
    "def evaluation(name_of_the_model ,y_test,preds,gs_model):\n",
    "    ## find the confusion matrix\n",
    "    cm = confusion_matrix(y_test,preds)\n",
    "    tp = cm[1][1]; #True positives\n",
    "    tn = cm[0][0]; #True negatives\n",
    "    fp = cm[0][1]; #False positives\n",
    "    fn = cm[1][0]; #False negatives\n",
    "\n",
    "    #Calculate Accuracy, Sensitivity, Specificity, and Precision\n",
    "    #Accuracy = round((tp + tn) /(tp + tn + fn + fp),3)\n",
    "    Sensitivity = round(tp/(tp+fn),3)\n",
    "    Specificity = round(tn/(tn+fp),3)\n",
    "    Precision = round(tp / (tp + fp),3)\n",
    "\n",
    "    #Model scores for train and test\n",
    "\n",
    "    train_score = round(gs_model.score(X_train, y_train),3)\n",
    "    test_score = round(gs_model.score(X_test,y_test),3)\n",
    "\n",
    "    #Create a dataframe to compare the results\n",
    "    df = pd.DataFrame(\n",
    "        {'Model' :name_of_the_model,\n",
    "        'Score on train':train_score ,\n",
    "        'Score on test': test_score,\n",
    "         'Sensitivity':Sensitivity,\n",
    "         'Specificity':Specificity,\n",
    "         'Precision' : Precision\n",
    "        },index=[0]\n",
    "    )\n",
    "\n",
    "    return df #Display the dataframe"
   ]
  },
  {
   "cell_type": "code",
   "execution_count": 39,
   "id": "e9f2bada-0b12-4eeb-befe-15aaff3ace7f",
   "metadata": {},
   "outputs": [],
   "source": [
    "## Function for plotting the confusion matrix"
   ]
  },
  {
   "cell_type": "code",
   "execution_count": 40,
   "id": "46ba4526-a7e9-4ad3-9305-eeabc3112290",
   "metadata": {},
   "outputs": [],
   "source": [
    "def plot_confusion(y_test,preds,gs_model):\n",
    "    return ConfusionMatrixDisplay(confusion_matrix=confusion_matrix(y_test, preds, labels=gs_model.classes_), \n",
    "                              display_labels=['Human[0]','AI[1]']).plot();"
   ]
  },
  {
   "cell_type": "markdown",
   "id": "522f6c5b-c5f7-4375-ba87-fd125958b92d",
   "metadata": {},
   "source": [
    "# LogisticRegressionCV"
   ]
  },
  {
   "cell_type": "code",
   "execution_count": 41,
   "id": "1e3edf52-bb16-4f10-914a-2b46e7a0deea",
   "metadata": {},
   "outputs": [],
   "source": [
    "# Let's set a pipeline up with two stages:\n",
    "pipe_logr = Pipeline([\n",
    "    ('cvec', CountVectorizer()),\n",
    "    ('logr', LogisticRegressionCV(max_iter=5000,solver = 'lbfgs'))\n",
    "])"
   ]
  },
  {
   "cell_type": "code",
   "execution_count": 42,
   "id": "f6965691-dfe6-4a19-b2fc-079c57ca9028",
   "metadata": {},
   "outputs": [],
   "source": [
    "pipe_params_logr = {\n",
    "    'cvec__max_features' : [5000],\n",
    "    'cvec__min_df' : [5],#[3,5]\n",
    "    'cvec__max_df' : [0.9],#0.95],\n",
    "    'cvec__ngram_range' : [(1,2)],#(1,1)],\n",
    "    'cvec__stop_words' : [ None, 'english'],\n",
    "    #'logr__solver': ['lbfgs', 'liblinear'],\n",
    "    #'logr__penalty' : ['l1', 'l2']\n",
    "}"
   ]
  },
  {
   "cell_type": "code",
   "execution_count": 43,
   "id": "4b7abac1-66af-4657-9253-8b54df5a9d84",
   "metadata": {},
   "outputs": [],
   "source": [
    "# Instantiate GridSearchCV for LogisticRegressionCV\n",
    "gs_logr = GridSearchCV(pipe_logr,     # what object are we optimizing?\n",
    "                  pipe_params_logr,   # what parameters values are we searching?\n",
    "                  cv=5)               # 5-fold cross-validation."
   ]
  },
  {
   "cell_type": "code",
   "execution_count": 44,
   "id": "26a39a50-01f2-4c7e-9b61-5e6ef731bace",
   "metadata": {},
   "outputs": [
    {
     "data": {
      "text/html": [
       "<style>#sk-container-id-1 {color: black;background-color: white;}#sk-container-id-1 pre{padding: 0;}#sk-container-id-1 div.sk-toggleable {background-color: white;}#sk-container-id-1 label.sk-toggleable__label {cursor: pointer;display: block;width: 100%;margin-bottom: 0;padding: 0.3em;box-sizing: border-box;text-align: center;}#sk-container-id-1 label.sk-toggleable__label-arrow:before {content: \"▸\";float: left;margin-right: 0.25em;color: #696969;}#sk-container-id-1 label.sk-toggleable__label-arrow:hover:before {color: black;}#sk-container-id-1 div.sk-estimator:hover label.sk-toggleable__label-arrow:before {color: black;}#sk-container-id-1 div.sk-toggleable__content {max-height: 0;max-width: 0;overflow: hidden;text-align: left;background-color: #f0f8ff;}#sk-container-id-1 div.sk-toggleable__content pre {margin: 0.2em;color: black;border-radius: 0.25em;background-color: #f0f8ff;}#sk-container-id-1 input.sk-toggleable__control:checked~div.sk-toggleable__content {max-height: 200px;max-width: 100%;overflow: auto;}#sk-container-id-1 input.sk-toggleable__control:checked~label.sk-toggleable__label-arrow:before {content: \"▾\";}#sk-container-id-1 div.sk-estimator input.sk-toggleable__control:checked~label.sk-toggleable__label {background-color: #d4ebff;}#sk-container-id-1 div.sk-label input.sk-toggleable__control:checked~label.sk-toggleable__label {background-color: #d4ebff;}#sk-container-id-1 input.sk-hidden--visually {border: 0;clip: rect(1px 1px 1px 1px);clip: rect(1px, 1px, 1px, 1px);height: 1px;margin: -1px;overflow: hidden;padding: 0;position: absolute;width: 1px;}#sk-container-id-1 div.sk-estimator {font-family: monospace;background-color: #f0f8ff;border: 1px dotted black;border-radius: 0.25em;box-sizing: border-box;margin-bottom: 0.5em;}#sk-container-id-1 div.sk-estimator:hover {background-color: #d4ebff;}#sk-container-id-1 div.sk-parallel-item::after {content: \"\";width: 100%;border-bottom: 1px solid gray;flex-grow: 1;}#sk-container-id-1 div.sk-label:hover label.sk-toggleable__label {background-color: #d4ebff;}#sk-container-id-1 div.sk-serial::before {content: \"\";position: absolute;border-left: 1px solid gray;box-sizing: border-box;top: 0;bottom: 0;left: 50%;z-index: 0;}#sk-container-id-1 div.sk-serial {display: flex;flex-direction: column;align-items: center;background-color: white;padding-right: 0.2em;padding-left: 0.2em;position: relative;}#sk-container-id-1 div.sk-item {position: relative;z-index: 1;}#sk-container-id-1 div.sk-parallel {display: flex;align-items: stretch;justify-content: center;background-color: white;position: relative;}#sk-container-id-1 div.sk-item::before, #sk-container-id-1 div.sk-parallel-item::before {content: \"\";position: absolute;border-left: 1px solid gray;box-sizing: border-box;top: 0;bottom: 0;left: 50%;z-index: -1;}#sk-container-id-1 div.sk-parallel-item {display: flex;flex-direction: column;z-index: 1;position: relative;background-color: white;}#sk-container-id-1 div.sk-parallel-item:first-child::after {align-self: flex-end;width: 50%;}#sk-container-id-1 div.sk-parallel-item:last-child::after {align-self: flex-start;width: 50%;}#sk-container-id-1 div.sk-parallel-item:only-child::after {width: 0;}#sk-container-id-1 div.sk-dashed-wrapped {border: 1px dashed gray;margin: 0 0.4em 0.5em 0.4em;box-sizing: border-box;padding-bottom: 0.4em;background-color: white;}#sk-container-id-1 div.sk-label label {font-family: monospace;font-weight: bold;display: inline-block;line-height: 1.2em;}#sk-container-id-1 div.sk-label-container {text-align: center;}#sk-container-id-1 div.sk-container {/* jupyter's `normalize.less` sets `[hidden] { display: none; }` but bootstrap.min.css set `[hidden] { display: none !important; }` so we also need the `!important` here to be able to override the default hidden behavior on the sphinx rendered scikit-learn.org. See: https://github.com/scikit-learn/scikit-learn/issues/21755 */display: inline-block !important;position: relative;}#sk-container-id-1 div.sk-text-repr-fallback {display: none;}</style><div id=\"sk-container-id-1\" class=\"sk-top-container\"><div class=\"sk-text-repr-fallback\"><pre>GridSearchCV(cv=5,\n",
       "             estimator=Pipeline(steps=[(&#x27;cvec&#x27;, CountVectorizer()),\n",
       "                                       (&#x27;logr&#x27;,\n",
       "                                        LogisticRegressionCV(max_iter=5000))]),\n",
       "             param_grid={&#x27;cvec__max_df&#x27;: [0.9], &#x27;cvec__max_features&#x27;: [5000],\n",
       "                         &#x27;cvec__min_df&#x27;: [5], &#x27;cvec__ngram_range&#x27;: [(1, 2)],\n",
       "                         &#x27;cvec__stop_words&#x27;: [None, &#x27;english&#x27;]})</pre><b>In a Jupyter environment, please rerun this cell to show the HTML representation or trust the notebook. <br />On GitHub, the HTML representation is unable to render, please try loading this page with nbviewer.org.</b></div><div class=\"sk-container\" hidden><div class=\"sk-item sk-dashed-wrapped\"><div class=\"sk-label-container\"><div class=\"sk-label sk-toggleable\"><input class=\"sk-toggleable__control sk-hidden--visually\" id=\"sk-estimator-id-1\" type=\"checkbox\" ><label for=\"sk-estimator-id-1\" class=\"sk-toggleable__label sk-toggleable__label-arrow\">GridSearchCV</label><div class=\"sk-toggleable__content\"><pre>GridSearchCV(cv=5,\n",
       "             estimator=Pipeline(steps=[(&#x27;cvec&#x27;, CountVectorizer()),\n",
       "                                       (&#x27;logr&#x27;,\n",
       "                                        LogisticRegressionCV(max_iter=5000))]),\n",
       "             param_grid={&#x27;cvec__max_df&#x27;: [0.9], &#x27;cvec__max_features&#x27;: [5000],\n",
       "                         &#x27;cvec__min_df&#x27;: [5], &#x27;cvec__ngram_range&#x27;: [(1, 2)],\n",
       "                         &#x27;cvec__stop_words&#x27;: [None, &#x27;english&#x27;]})</pre></div></div></div><div class=\"sk-parallel\"><div class=\"sk-parallel-item\"><div class=\"sk-item\"><div class=\"sk-label-container\"><div class=\"sk-label sk-toggleable\"><input class=\"sk-toggleable__control sk-hidden--visually\" id=\"sk-estimator-id-2\" type=\"checkbox\" ><label for=\"sk-estimator-id-2\" class=\"sk-toggleable__label sk-toggleable__label-arrow\">estimator: Pipeline</label><div class=\"sk-toggleable__content\"><pre>Pipeline(steps=[(&#x27;cvec&#x27;, CountVectorizer()),\n",
       "                (&#x27;logr&#x27;, LogisticRegressionCV(max_iter=5000))])</pre></div></div></div><div class=\"sk-serial\"><div class=\"sk-item\"><div class=\"sk-serial\"><div class=\"sk-item\"><div class=\"sk-estimator sk-toggleable\"><input class=\"sk-toggleable__control sk-hidden--visually\" id=\"sk-estimator-id-3\" type=\"checkbox\" ><label for=\"sk-estimator-id-3\" class=\"sk-toggleable__label sk-toggleable__label-arrow\">CountVectorizer</label><div class=\"sk-toggleable__content\"><pre>CountVectorizer()</pre></div></div></div><div class=\"sk-item\"><div class=\"sk-estimator sk-toggleable\"><input class=\"sk-toggleable__control sk-hidden--visually\" id=\"sk-estimator-id-4\" type=\"checkbox\" ><label for=\"sk-estimator-id-4\" class=\"sk-toggleable__label sk-toggleable__label-arrow\">LogisticRegressionCV</label><div class=\"sk-toggleable__content\"><pre>LogisticRegressionCV(max_iter=5000)</pre></div></div></div></div></div></div></div></div></div></div></div></div>"
      ],
      "text/plain": [
       "GridSearchCV(cv=5,\n",
       "             estimator=Pipeline(steps=[('cvec', CountVectorizer()),\n",
       "                                       ('logr',\n",
       "                                        LogisticRegressionCV(max_iter=5000))]),\n",
       "             param_grid={'cvec__max_df': [0.9], 'cvec__max_features': [5000],\n",
       "                         'cvec__min_df': [5], 'cvec__ngram_range': [(1, 2)],\n",
       "                         'cvec__stop_words': [None, 'english']})"
      ]
     },
     "execution_count": 44,
     "metadata": {},
     "output_type": "execute_result"
    }
   ],
   "source": [
    "# Fit GridSearch to training data.\n",
    "gs_logr.fit(X_train,y_train)"
   ]
  },
  {
   "cell_type": "code",
   "execution_count": 45,
   "id": "43705802-33b2-4e69-9ebc-08755cbebe68",
   "metadata": {},
   "outputs": [
    {
     "data": {
      "text/plain": [
       "{'cvec__max_df': 0.9,\n",
       " 'cvec__max_features': 5000,\n",
       " 'cvec__min_df': 5,\n",
       " 'cvec__ngram_range': (1, 2),\n",
       " 'cvec__stop_words': None}"
      ]
     },
     "execution_count": 45,
     "metadata": {},
     "output_type": "execute_result"
    }
   ],
   "source": [
    "gs_logr.best_params_"
   ]
  },
  {
   "cell_type": "code",
   "execution_count": 46,
   "id": "aa6374a2-ad1c-43f3-b670-e4436049b25f",
   "metadata": {},
   "outputs": [],
   "source": [
    "# Get predictions\n",
    "preds_logr = gs_logr.predict(X_test)"
   ]
  },
  {
   "cell_type": "code",
   "execution_count": 47,
   "id": "ace81a78-0d34-42ad-8cc6-d1e7213a1a95",
   "metadata": {},
   "outputs": [
    {
     "data": {
      "text/html": [
       "<div>\n",
       "<style scoped>\n",
       "    .dataframe tbody tr th:only-of-type {\n",
       "        vertical-align: middle;\n",
       "    }\n",
       "\n",
       "    .dataframe tbody tr th {\n",
       "        vertical-align: top;\n",
       "    }\n",
       "\n",
       "    .dataframe thead th {\n",
       "        text-align: right;\n",
       "    }\n",
       "</style>\n",
       "<table border=\"1\" class=\"dataframe\">\n",
       "  <thead>\n",
       "    <tr style=\"text-align: right;\">\n",
       "      <th></th>\n",
       "      <th>Model</th>\n",
       "      <th>Score on train</th>\n",
       "      <th>Score on test</th>\n",
       "      <th>Sensitivity</th>\n",
       "      <th>Specificity</th>\n",
       "      <th>Precision</th>\n",
       "    </tr>\n",
       "  </thead>\n",
       "  <tbody>\n",
       "    <tr>\n",
       "      <th>0</th>\n",
       "      <td>logr</td>\n",
       "      <td>0.959</td>\n",
       "      <td>0.895</td>\n",
       "      <td>0.843</td>\n",
       "      <td>0.944</td>\n",
       "      <td>0.934</td>\n",
       "    </tr>\n",
       "  </tbody>\n",
       "</table>\n",
       "</div>"
      ],
      "text/plain": [
       "  Model  Score on train  Score on test  Sensitivity  Specificity  Precision\n",
       "0  logr           0.959          0.895        0.843        0.944      0.934"
      ]
     },
     "execution_count": 47,
     "metadata": {},
     "output_type": "execute_result"
    }
   ],
   "source": [
    "logr = evaluation('logr',y_test,preds_logr,gs_logr)\n",
    "logr"
   ]
  },
  {
   "cell_type": "code",
   "execution_count": 48,
   "id": "0308a89b-89e7-4c46-bf7a-944d125ed579",
   "metadata": {},
   "outputs": [
    {
     "data": {
      "image/png": "[encoded data removed]",
      "text/plain": [
       "<Figure size 640x480 with 2 Axes>"
      ]
     },
     "metadata": {},
     "output_type": "display_data"
    }
   ],
   "source": [
    "plot_confusion(y_test,preds_logr,gs_logr);\n",
    "plt.title('Confusion matrix from Logr');\n",
    "plt.savefig(\"./img/Cvec/Confusion_matrix_from_Logr.jpg\", dpi=300)"
   ]
  },
  {
   "cell_type": "markdown",
   "id": "71ec01b9-2c14-4011-b73f-c64c73ce173f",
   "metadata": {},
   "source": [
    "From the confusion matrix, we see that the true positives and true negatives are significantly higher compared to the false positives and the false negatives, which means the model can predict the AI texts more accurately and is confirmed from the above evaluation table for the model when looking at the sensitivity, specificity, and precision of the model."
   ]
  },
  {
   "cell_type": "markdown",
   "id": "25b35bda-72f7-4efb-80b3-0704d1e9477d",
   "metadata": {},
   "source": [
    "# RandomForestClassifier"
   ]
  },
  {
   "cell_type": "code",
   "execution_count": 49,
   "id": "b5e68b1e-ec95-415d-b190-1d3e57c692f0",
   "metadata": {},
   "outputs": [],
   "source": [
    "# Let's set a pipeline up with two stages:\n",
    "pipe_rfc = Pipeline([\n",
    "    ('cvec', CountVectorizer()),\n",
    "    ('rfc', RandomForestClassifier())\n",
    "])"
   ]
  },
  {
   "cell_type": "code",
   "execution_count": 50,
   "id": "a0a469ad-180b-43a5-90c9-e4c838e92160",
   "metadata": {},
   "outputs": [],
   "source": [
    "pipe_params_rfc = {\n",
    "    'cvec__max_features' : [5000],#2000, 3000, 4000, 5000],\n",
    "    'cvec__min_df' : [5], #[3,5]\n",
    "    'cvec__max_df' : [0.9], #[0.9,0.95]\n",
    "    'cvec__ngram_range' : [(1,2)], #[(1,1),(1,2)]\n",
    "    'cvec__stop_words' : [ None, 'english']\n",
    "}"
   ]
  },
  {
   "cell_type": "code",
   "execution_count": 51,
   "id": "98674885-cbe6-44c3-9e3b-334f1713cf77",
   "metadata": {},
   "outputs": [],
   "source": [
    "# Instantiate GridSearchCV for RandomForestClassifier\n",
    "gs_rfc = GridSearchCV(pipe_rfc,     # what object are we optimizing?\n",
    "                  pipe_params_rfc,   # what parameters values are we searching?\n",
    "                  cv=5)               # 5-fold cross-validation."
   ]
  },
  {
   "cell_type": "code",
   "execution_count": 52,
   "id": "a6d5202b-9fcb-45d9-9635-2acdec052b97",
   "metadata": {},
   "outputs": [
    {
     "data": {
      "text/html": [
       "<style>#sk-container-id-2 {color: black;background-color: white;}#sk-container-id-2 pre{padding: 0;}#sk-container-id-2 div.sk-toggleable {background-color: white;}#sk-container-id-2 label.sk-toggleable__label {cursor: pointer;display: block;width: 100%;margin-bottom: 0;padding: 0.3em;box-sizing: border-box;text-align: center;}#sk-container-id-2 label.sk-toggleable__label-arrow:before {content: \"▸\";float: left;margin-right: 0.25em;color: #696969;}#sk-container-id-2 label.sk-toggleable__label-arrow:hover:before {color: black;}#sk-container-id-2 div.sk-estimator:hover label.sk-toggleable__label-arrow:before {color: black;}#sk-container-id-2 div.sk-toggleable__content {max-height: 0;max-width: 0;overflow: hidden;text-align: left;background-color: #f0f8ff;}#sk-container-id-2 div.sk-toggleable__content pre {margin: 0.2em;color: black;border-radius: 0.25em;background-color: #f0f8ff;}#sk-container-id-2 input.sk-toggleable__control:checked~div.sk-toggleable__content {max-height: 200px;max-width: 100%;overflow: auto;}#sk-container-id-2 input.sk-toggleable__control:checked~label.sk-toggleable__label-arrow:before {content: \"▾\";}#sk-container-id-2 div.sk-estimator input.sk-toggleable__control:checked~label.sk-toggleable__label {background-color: #d4ebff;}#sk-container-id-2 div.sk-label input.sk-toggleable__control:checked~label.sk-toggleable__label {background-color: #d4ebff;}#sk-container-id-2 input.sk-hidden--visually {border: 0;clip: rect(1px 1px 1px 1px);clip: rect(1px, 1px, 1px, 1px);height: 1px;margin: -1px;overflow: hidden;padding: 0;position: absolute;width: 1px;}#sk-container-id-2 div.sk-estimator {font-family: monospace;background-color: #f0f8ff;border: 1px dotted black;border-radius: 0.25em;box-sizing: border-box;margin-bottom: 0.5em;}#sk-container-id-2 div.sk-estimator:hover {background-color: #d4ebff;}#sk-container-id-2 div.sk-parallel-item::after {content: \"\";width: 100%;border-bottom: 1px solid gray;flex-grow: 1;}#sk-container-id-2 div.sk-label:hover label.sk-toggleable__label {background-color: #d4ebff;}#sk-container-id-2 div.sk-serial::before {content: \"\";position: absolute;border-left: 1px solid gray;box-sizing: border-box;top: 0;bottom: 0;left: 50%;z-index: 0;}#sk-container-id-2 div.sk-serial {display: flex;flex-direction: column;align-items: center;background-color: white;padding-right: 0.2em;padding-left: 0.2em;position: relative;}#sk-container-id-2 div.sk-item {position: relative;z-index: 1;}#sk-container-id-2 div.sk-parallel {display: flex;align-items: stretch;justify-content: center;background-color: white;position: relative;}#sk-container-id-2 div.sk-item::before, #sk-container-id-2 div.sk-parallel-item::before {content: \"\";position: absolute;border-left: 1px solid gray;box-sizing: border-box;top: 0;bottom: 0;left: 50%;z-index: -1;}#sk-container-id-2 div.sk-parallel-item {display: flex;flex-direction: column;z-index: 1;position: relative;background-color: white;}#sk-container-id-2 div.sk-parallel-item:first-child::after {align-self: flex-end;width: 50%;}#sk-container-id-2 div.sk-parallel-item:last-child::after {align-self: flex-start;width: 50%;}#sk-container-id-2 div.sk-parallel-item:only-child::after {width: 0;}#sk-container-id-2 div.sk-dashed-wrapped {border: 1px dashed gray;margin: 0 0.4em 0.5em 0.4em;box-sizing: border-box;padding-bottom: 0.4em;background-color: white;}#sk-container-id-2 div.sk-label label {font-family: monospace;font-weight: bold;display: inline-block;line-height: 1.2em;}#sk-container-id-2 div.sk-label-container {text-align: center;}#sk-container-id-2 div.sk-container {/* jupyter's `normalize.less` sets `[hidden] { display: none; }` but bootstrap.min.css set `[hidden] { display: none !important; }` so we also need the `!important` here to be able to override the default hidden behavior on the sphinx rendered scikit-learn.org. See: https://github.com/scikit-learn/scikit-learn/issues/21755 */display: inline-block !important;position: relative;}#sk-container-id-2 div.sk-text-repr-fallback {display: none;}</style><div id=\"sk-container-id-2\" class=\"sk-top-container\"><div class=\"sk-text-repr-fallback\"><pre>GridSearchCV(cv=5,\n",
       "             estimator=Pipeline(steps=[(&#x27;cvec&#x27;, CountVectorizer()),\n",
       "                                       (&#x27;rfc&#x27;, RandomForestClassifier())]),\n",
       "             param_grid={&#x27;cvec__max_df&#x27;: [0.9], &#x27;cvec__max_features&#x27;: [5000],\n",
       "                         &#x27;cvec__min_df&#x27;: [5], &#x27;cvec__ngram_range&#x27;: [(1, 2)],\n",
       "                         &#x27;cvec__stop_words&#x27;: [None, &#x27;english&#x27;]})</pre><b>In a Jupyter environment, please rerun this cell to show the HTML representation or trust the notebook. <br />On GitHub, the HTML representation is unable to render, please try loading this page with nbviewer.org.</b></div><div class=\"sk-container\" hidden><div class=\"sk-item sk-dashed-wrapped\"><div class=\"sk-label-container\"><div class=\"sk-label sk-toggleable\"><input class=\"sk-toggleable__control sk-hidden--visually\" id=\"sk-estimator-id-5\" type=\"checkbox\" ><label for=\"sk-estimator-id-5\" class=\"sk-toggleable__label sk-toggleable__label-arrow\">GridSearchCV</label><div class=\"sk-toggleable__content\"><pre>GridSearchCV(cv=5,\n",
       "             estimator=Pipeline(steps=[(&#x27;cvec&#x27;, CountVectorizer()),\n",
       "                                       (&#x27;rfc&#x27;, RandomForestClassifier())]),\n",
       "             param_grid={&#x27;cvec__max_df&#x27;: [0.9], &#x27;cvec__max_features&#x27;: [5000],\n",
       "                         &#x27;cvec__min_df&#x27;: [5], &#x27;cvec__ngram_range&#x27;: [(1, 2)],\n",
       "                         &#x27;cvec__stop_words&#x27;: [None, &#x27;english&#x27;]})</pre></div></div></div><div class=\"sk-parallel\"><div class=\"sk-parallel-item\"><div class=\"sk-item\"><div class=\"sk-label-container\"><div class=\"sk-label sk-toggleable\"><input class=\"sk-toggleable__control sk-hidden--visually\" id=\"sk-estimator-id-6\" type=\"checkbox\" ><label for=\"sk-estimator-id-6\" class=\"sk-toggleable__label sk-toggleable__label-arrow\">estimator: Pipeline</label><div class=\"sk-toggleable__content\"><pre>Pipeline(steps=[(&#x27;cvec&#x27;, CountVectorizer()), (&#x27;rfc&#x27;, RandomForestClassifier())])</pre></div></div></div><div class=\"sk-serial\"><div class=\"sk-item\"><div class=\"sk-serial\"><div class=\"sk-item\"><div class=\"sk-estimator sk-toggleable\"><input class=\"sk-toggleable__control sk-hidden--visually\" id=\"sk-estimator-id-7\" type=\"checkbox\" ><label for=\"sk-estimator-id-7\" class=\"sk-toggleable__label sk-toggleable__label-arrow\">CountVectorizer</label><div class=\"sk-toggleable__content\"><pre>CountVectorizer()</pre></div></div></div><div class=\"sk-item\"><div class=\"sk-estimator sk-toggleable\"><input class=\"sk-toggleable__control sk-hidden--visually\" id=\"sk-estimator-id-8\" type=\"checkbox\" ><label for=\"sk-estimator-id-8\" class=\"sk-toggleable__label sk-toggleable__label-arrow\">RandomForestClassifier</label><div class=\"sk-toggleable__content\"><pre>RandomForestClassifier()</pre></div></div></div></div></div></div></div></div></div></div></div></div>"
      ],
      "text/plain": [
       "GridSearchCV(cv=5,\n",
       "             estimator=Pipeline(steps=[('cvec', CountVectorizer()),\n",
       "                                       ('rfc', RandomForestClassifier())]),\n",
       "             param_grid={'cvec__max_df': [0.9], 'cvec__max_features': [5000],\n",
       "                         'cvec__min_df': [5], 'cvec__ngram_range': [(1, 2)],\n",
       "                         'cvec__stop_words': [None, 'english']})"
      ]
     },
     "execution_count": 52,
     "metadata": {},
     "output_type": "execute_result"
    }
   ],
   "source": [
    "# Fit GridSearch to training data.\n",
    "gs_rfc.fit(X_train,y_train)"
   ]
  },
  {
   "cell_type": "code",
   "execution_count": 53,
   "id": "7929ccaa-321d-4f7d-8db5-c2a27bcad0b7",
   "metadata": {},
   "outputs": [
    {
     "data": {
      "text/plain": [
       "{'cvec__max_df': 0.9,\n",
       " 'cvec__max_features': 5000,\n",
       " 'cvec__min_df': 5,\n",
       " 'cvec__ngram_range': (1, 2),\n",
       " 'cvec__stop_words': None}"
      ]
     },
     "execution_count": 53,
     "metadata": {},
     "output_type": "execute_result"
    }
   ],
   "source": [
    "gs_rfc.best_params_"
   ]
  },
  {
   "cell_type": "code",
   "execution_count": 54,
   "id": "f949844c-1872-4997-aaab-01cfba8ec9ec",
   "metadata": {},
   "outputs": [],
   "source": [
    "# Get predictions\n",
    "preds_rfc = gs_rfc.predict(X_test)"
   ]
  },
  {
   "cell_type": "code",
   "execution_count": 55,
   "id": "5c9b6310-456d-4f1e-8129-3c69e386d34d",
   "metadata": {},
   "outputs": [
    {
     "data": {
      "text/html": [
       "<div>\n",
       "<style scoped>\n",
       "    .dataframe tbody tr th:only-of-type {\n",
       "        vertical-align: middle;\n",
       "    }\n",
       "\n",
       "    .dataframe tbody tr th {\n",
       "        vertical-align: top;\n",
       "    }\n",
       "\n",
       "    .dataframe thead th {\n",
       "        text-align: right;\n",
       "    }\n",
       "</style>\n",
       "<table border=\"1\" class=\"dataframe\">\n",
       "  <thead>\n",
       "    <tr style=\"text-align: right;\">\n",
       "      <th></th>\n",
       "      <th>Model</th>\n",
       "      <th>Score on train</th>\n",
       "      <th>Score on test</th>\n",
       "      <th>Sensitivity</th>\n",
       "      <th>Specificity</th>\n",
       "      <th>Precision</th>\n",
       "    </tr>\n",
       "  </thead>\n",
       "  <tbody>\n",
       "    <tr>\n",
       "      <th>0</th>\n",
       "      <td>Randomfc</td>\n",
       "      <td>0.997</td>\n",
       "      <td>0.887</td>\n",
       "      <td>0.881</td>\n",
       "      <td>0.893</td>\n",
       "      <td>0.885</td>\n",
       "    </tr>\n",
       "  </tbody>\n",
       "</table>\n",
       "</div>"
      ],
      "text/plain": [
       "      Model  Score on train  Score on test  Sensitivity  Specificity  \\\n",
       "0  Randomfc           0.997          0.887        0.881        0.893   \n",
       "\n",
       "   Precision  \n",
       "0      0.885  "
      ]
     },
     "execution_count": 55,
     "metadata": {},
     "output_type": "execute_result"
    }
   ],
   "source": [
    "Randomfc=evaluation('Randomfc',y_test,preds_rfc,gs_rfc)\n",
    "Randomfc"
   ]
  },
  {
   "cell_type": "code",
   "execution_count": 56,
   "id": "003072c2-e655-4755-bce8-ddcd74afd5ce",
   "metadata": {},
   "outputs": [
    {
     "data": {
      "image/png": "[encoded data removed]",
      "text/plain": [
       "<Figure size 640x480 with 2 Axes>"
      ]
     },
     "metadata": {},
     "output_type": "display_data"
    }
   ],
   "source": [
    "plot_confusion(y_test,preds_rfc,gs_rfc);\n",
    "plt.title('Confusion matrix from Randomfc');\n",
    "plt.savefig(\"./img/Cvec/Confusion_matrix_from_Randomfc.jpg\", dpi=300)"
   ]
  },
  {
   "cell_type": "markdown",
   "id": "f3e7d841-638f-4984-bba5-08372aff6e80",
   "metadata": {},
   "source": [
    "From the confusion matrix, we see that the true positives and true negatives are significantly higher compared to the false positives and the false negatives, which means the model can predict the AI texts more accurately and is confirmed from the above evaluation table for the model when looking at the sensitivity, specificity, and precision of the model."
   ]
  },
  {
   "cell_type": "markdown",
   "id": "bd8bb3f1-c083-40e0-88c5-a8aedcf97be7",
   "metadata": {},
   "source": [
    "# KNN Classifier"
   ]
  },
  {
   "cell_type": "code",
   "execution_count": 57,
   "id": "08d72fc6-1e35-400f-b8e0-651724a205c9",
   "metadata": {},
   "outputs": [],
   "source": [
    "# Let's set a pipeline up with two stages:\n",
    "pipe_knn = Pipeline([\n",
    "    ('cvec', CountVectorizer()),\n",
    "    ('knn', KNeighborsClassifier())\n",
    "])"
   ]
  },
  {
   "cell_type": "code",
   "execution_count": 58,
   "id": "7e34208b-5087-41b4-a3e3-088a7b0f402e",
   "metadata": {},
   "outputs": [],
   "source": [
    "pipe_params_knn = {\n",
    "    'cvec__max_features' : [2000],#, 3000, 4000, 5000],\n",
    "    'cvec__min_df' : [5],#[3,5]\n",
    "    'cvec__max_df' : [0.9],#[0.9,0.95]\n",
    "    'cvec__ngram_range' : [(1,2)],#[(1,1),(1,2)]\n",
    "    'cvec__stop_words' : [ None, 'english'],\n",
    "    'knn__n_neighbors' : [3]#[3,4,5,6,7,8,9,10]\n",
    "}"
   ]
  },
  {
   "cell_type": "code",
   "execution_count": 59,
   "id": "c02e4e04-1790-4d55-b941-8cf7ea2d7732",
   "metadata": {},
   "outputs": [],
   "source": [
    "# Instantiate GridSearchCV for KNN Classifier\n",
    "gs_knn = GridSearchCV(pipe_knn,     # what object are we optimizing?\n",
    "                  pipe_params_knn,   # what parameters values are we searching?\n",
    "                  cv=5)               # 5-fold cross-validation."
   ]
  },
  {
   "cell_type": "code",
   "execution_count": 60,
   "id": "972cbaa7-d73c-4b10-b2f7-204baf6db7aa",
   "metadata": {},
   "outputs": [
    {
     "data": {
      "text/html": [
       "<style>#sk-container-id-3 {color: black;background-color: white;}#sk-container-id-3 pre{padding: 0;}#sk-container-id-3 div.sk-toggleable {background-color: white;}#sk-container-id-3 label.sk-toggleable__label {cursor: pointer;display: block;width: 100%;margin-bottom: 0;padding: 0.3em;box-sizing: border-box;text-align: center;}#sk-container-id-3 label.sk-toggleable__label-arrow:before {content: \"▸\";float: left;margin-right: 0.25em;color: #696969;}#sk-container-id-3 label.sk-toggleable__label-arrow:hover:before {color: black;}#sk-container-id-3 div.sk-estimator:hover label.sk-toggleable__label-arrow:before {color: black;}#sk-container-id-3 div.sk-toggleable__content {max-height: 0;max-width: 0;overflow: hidden;text-align: left;background-color: #f0f8ff;}#sk-container-id-3 div.sk-toggleable__content pre {margin: 0.2em;color: black;border-radius: 0.25em;background-color: #f0f8ff;}#sk-container-id-3 input.sk-toggleable__control:checked~div.sk-toggleable__content {max-height: 200px;max-width: 100%;overflow: auto;}#sk-container-id-3 input.sk-toggleable__control:checked~label.sk-toggleable__label-arrow:before {content: \"▾\";}#sk-container-id-3 div.sk-estimator input.sk-toggleable__control:checked~label.sk-toggleable__label {background-color: #d4ebff;}#sk-container-id-3 div.sk-label input.sk-toggleable__control:checked~label.sk-toggleable__label {background-color: #d4ebff;}#sk-container-id-3 input.sk-hidden--visually {border: 0;clip: rect(1px 1px 1px 1px);clip: rect(1px, 1px, 1px, 1px);height: 1px;margin: -1px;overflow: hidden;padding: 0;position: absolute;width: 1px;}#sk-container-id-3 div.sk-estimator {font-family: monospace;background-color: #f0f8ff;border: 1px dotted black;border-radius: 0.25em;box-sizing: border-box;margin-bottom: 0.5em;}#sk-container-id-3 div.sk-estimator:hover {background-color: #d4ebff;}#sk-container-id-3 div.sk-parallel-item::after {content: \"\";width: 100%;border-bottom: 1px solid gray;flex-grow: 1;}#sk-container-id-3 div.sk-label:hover label.sk-toggleable__label {background-color: #d4ebff;}#sk-container-id-3 div.sk-serial::before {content: \"\";position: absolute;border-left: 1px solid gray;box-sizing: border-box;top: 0;bottom: 0;left: 50%;z-index: 0;}#sk-container-id-3 div.sk-serial {display: flex;flex-direction: column;align-items: center;background-color: white;padding-right: 0.2em;padding-left: 0.2em;position: relative;}#sk-container-id-3 div.sk-item {position: relative;z-index: 1;}#sk-container-id-3 div.sk-parallel {display: flex;align-items: stretch;justify-content: center;background-color: white;position: relative;}#sk-container-id-3 div.sk-item::before, #sk-container-id-3 div.sk-parallel-item::before {content: \"\";position: absolute;border-left: 1px solid gray;box-sizing: border-box;top: 0;bottom: 0;left: 50%;z-index: -1;}#sk-container-id-3 div.sk-parallel-item {display: flex;flex-direction: column;z-index: 1;position: relative;background-color: white;}#sk-container-id-3 div.sk-parallel-item:first-child::after {align-self: flex-end;width: 50%;}#sk-container-id-3 div.sk-parallel-item:last-child::after {align-self: flex-start;width: 50%;}#sk-container-id-3 div.sk-parallel-item:only-child::after {width: 0;}#sk-container-id-3 div.sk-dashed-wrapped {border: 1px dashed gray;margin: 0 0.4em 0.5em 0.4em;box-sizing: border-box;padding-bottom: 0.4em;background-color: white;}#sk-container-id-3 div.sk-label label {font-family: monospace;font-weight: bold;display: inline-block;line-height: 1.2em;}#sk-container-id-3 div.sk-label-container {text-align: center;}#sk-container-id-3 div.sk-container {/* jupyter's `normalize.less` sets `[hidden] { display: none; }` but bootstrap.min.css set `[hidden] { display: none !important; }` so we also need the `!important` here to be able to override the default hidden behavior on the sphinx rendered scikit-learn.org. See: https://github.com/scikit-learn/scikit-learn/issues/21755 */display: inline-block !important;position: relative;}#sk-container-id-3 div.sk-text-repr-fallback {display: none;}</style><div id=\"sk-container-id-3\" class=\"sk-top-container\"><div class=\"sk-text-repr-fallback\"><pre>GridSearchCV(cv=5,\n",
       "             estimator=Pipeline(steps=[(&#x27;cvec&#x27;, CountVectorizer()),\n",
       "                                       (&#x27;knn&#x27;, KNeighborsClassifier())]),\n",
       "             param_grid={&#x27;cvec__max_df&#x27;: [0.9], &#x27;cvec__max_features&#x27;: [2000],\n",
       "                         &#x27;cvec__min_df&#x27;: [5], &#x27;cvec__ngram_range&#x27;: [(1, 2)],\n",
       "                         &#x27;cvec__stop_words&#x27;: [None, &#x27;english&#x27;],\n",
       "                         &#x27;knn__n_neighbors&#x27;: [3]})</pre><b>In a Jupyter environment, please rerun this cell to show the HTML representation or trust the notebook. <br />On GitHub, the HTML representation is unable to render, please try loading this page with nbviewer.org.</b></div><div class=\"sk-container\" hidden><div class=\"sk-item sk-dashed-wrapped\"><div class=\"sk-label-container\"><div class=\"sk-label sk-toggleable\"><input class=\"sk-toggleable__control sk-hidden--visually\" id=\"sk-estimator-id-9\" type=\"checkbox\" ><label for=\"sk-estimator-id-9\" class=\"sk-toggleable__label sk-toggleable__label-arrow\">GridSearchCV</label><div class=\"sk-toggleable__content\"><pre>GridSearchCV(cv=5,\n",
       "             estimator=Pipeline(steps=[(&#x27;cvec&#x27;, CountVectorizer()),\n",
       "                                       (&#x27;knn&#x27;, KNeighborsClassifier())]),\n",
       "             param_grid={&#x27;cvec__max_df&#x27;: [0.9], &#x27;cvec__max_features&#x27;: [2000],\n",
       "                         &#x27;cvec__min_df&#x27;: [5], &#x27;cvec__ngram_range&#x27;: [(1, 2)],\n",
       "                         &#x27;cvec__stop_words&#x27;: [None, &#x27;english&#x27;],\n",
       "                         &#x27;knn__n_neighbors&#x27;: [3]})</pre></div></div></div><div class=\"sk-parallel\"><div class=\"sk-parallel-item\"><div class=\"sk-item\"><div class=\"sk-label-container\"><div class=\"sk-label sk-toggleable\"><input class=\"sk-toggleable__control sk-hidden--visually\" id=\"sk-estimator-id-10\" type=\"checkbox\" ><label for=\"sk-estimator-id-10\" class=\"sk-toggleable__label sk-toggleable__label-arrow\">estimator: Pipeline</label><div class=\"sk-toggleable__content\"><pre>Pipeline(steps=[(&#x27;cvec&#x27;, CountVectorizer()), (&#x27;knn&#x27;, KNeighborsClassifier())])</pre></div></div></div><div class=\"sk-serial\"><div class=\"sk-item\"><div class=\"sk-serial\"><div class=\"sk-item\"><div class=\"sk-estimator sk-toggleable\"><input class=\"sk-toggleable__control sk-hidden--visually\" id=\"sk-estimator-id-11\" type=\"checkbox\" ><label for=\"sk-estimator-id-11\" class=\"sk-toggleable__label sk-toggleable__label-arrow\">CountVectorizer</label><div class=\"sk-toggleable__content\"><pre>CountVectorizer()</pre></div></div></div><div class=\"sk-item\"><div class=\"sk-estimator sk-toggleable\"><input class=\"sk-toggleable__control sk-hidden--visually\" id=\"sk-estimator-id-12\" type=\"checkbox\" ><label for=\"sk-estimator-id-12\" class=\"sk-toggleable__label sk-toggleable__label-arrow\">KNeighborsClassifier</label><div class=\"sk-toggleable__content\"><pre>KNeighborsClassifier()</pre></div></div></div></div></div></div></div></div></div></div></div></div>"
      ],
      "text/plain": [
       "GridSearchCV(cv=5,\n",
       "             estimator=Pipeline(steps=[('cvec', CountVectorizer()),\n",
       "                                       ('knn', KNeighborsClassifier())]),\n",
       "             param_grid={'cvec__max_df': [0.9], 'cvec__max_features': [2000],\n",
       "                         'cvec__min_df': [5], 'cvec__ngram_range': [(1, 2)],\n",
       "                         'cvec__stop_words': [None, 'english'],\n",
       "                         'knn__n_neighbors': [3]})"
      ]
     },
     "execution_count": 60,
     "metadata": {},
     "output_type": "execute_result"
    }
   ],
   "source": [
    "# Fit GridSearch to training data.\n",
    "gs_knn.fit(X_train,y_train)"
   ]
  },
  {
   "cell_type": "code",
   "execution_count": 61,
   "id": "f50ceff1-101c-419f-8868-6569a835008d",
   "metadata": {},
   "outputs": [
    {
     "data": {
      "text/plain": [
       "{'cvec__max_df': 0.9,\n",
       " 'cvec__max_features': 2000,\n",
       " 'cvec__min_df': 5,\n",
       " 'cvec__ngram_range': (1, 2),\n",
       " 'cvec__stop_words': None,\n",
       " 'knn__n_neighbors': 3}"
      ]
     },
     "execution_count": 61,
     "metadata": {},
     "output_type": "execute_result"
    }
   ],
   "source": [
    "gs_knn.best_params_"
   ]
  },
  {
   "cell_type": "code",
   "execution_count": 62,
   "id": "5897963f-a91b-4c7b-a2ae-396c4add9633",
   "metadata": {},
   "outputs": [],
   "source": [
    "# Get predictions\n",
    "preds_knn = gs_knn.predict(X_test)"
   ]
  },
  {
   "cell_type": "code",
   "execution_count": 63,
   "id": "2b2b7024-2fda-4cbe-ba9c-c43dbb5c6dfe",
   "metadata": {},
   "outputs": [
    {
     "data": {
      "text/html": [
       "<div>\n",
       "<style scoped>\n",
       "    .dataframe tbody tr th:only-of-type {\n",
       "        vertical-align: middle;\n",
       "    }\n",
       "\n",
       "    .dataframe tbody tr th {\n",
       "        vertical-align: top;\n",
       "    }\n",
       "\n",
       "    .dataframe thead th {\n",
       "        text-align: right;\n",
       "    }\n",
       "</style>\n",
       "<table border=\"1\" class=\"dataframe\">\n",
       "  <thead>\n",
       "    <tr style=\"text-align: right;\">\n",
       "      <th></th>\n",
       "      <th>Model</th>\n",
       "      <th>Score on train</th>\n",
       "      <th>Score on test</th>\n",
       "      <th>Sensitivity</th>\n",
       "      <th>Specificity</th>\n",
       "      <th>Precision</th>\n",
       "    </tr>\n",
       "  </thead>\n",
       "  <tbody>\n",
       "    <tr>\n",
       "      <th>0</th>\n",
       "      <td>KNN</td>\n",
       "      <td>0.879</td>\n",
       "      <td>0.804</td>\n",
       "      <td>0.695</td>\n",
       "      <td>0.906</td>\n",
       "      <td>0.874</td>\n",
       "    </tr>\n",
       "  </tbody>\n",
       "</table>\n",
       "</div>"
      ],
      "text/plain": [
       "  Model  Score on train  Score on test  Sensitivity  Specificity  Precision\n",
       "0   KNN           0.879          0.804        0.695        0.906      0.874"
      ]
     },
     "execution_count": 63,
     "metadata": {},
     "output_type": "execute_result"
    }
   ],
   "source": [
    "knn = evaluation('KNN',y_test,preds_knn,gs_knn)\n",
    "knn"
   ]
  },
  {
   "cell_type": "code",
   "execution_count": 64,
   "id": "0c856ce0-b13c-4cfb-a0ba-4f86d49c3f60",
   "metadata": {},
   "outputs": [
    {
     "data": {
      "image/png": "[encoded data removed]",
      "text/plain": [
       "<Figure size 640x480 with 2 Axes>"
      ]
     },
     "metadata": {},
     "output_type": "display_data"
    }
   ],
   "source": [
    "plot_confusion(y_test,preds_knn,gs_knn);\n",
    "plt.title('Confusion matrix from KNN');\n",
    "plt.savefig(\"./img/Cvec/Confusion_matrix_from_KNN.jpg\", dpi=300)"
   ]
  },
  {
   "cell_type": "markdown",
   "id": "065becee-0214-465c-9a59-ad197c70ff26",
   "metadata": {},
   "source": [
    "From the confusion matrix, we see that the true positives and true negatives are significantly higher compared to the false positives and the false negatives, which means the model can predict the AI texts more accurately and is confirmed from the above evaluation table for the model when looking at the sensitivity, specificity, and precision of the model. However, compared to the models above, there is a significantly high number of false negatives, which is proven by the lower sensitivity of the model."
   ]
  },
  {
   "cell_type": "markdown",
   "id": "572ec078-850b-4b2b-a008-538cf11a2954",
   "metadata": {},
   "source": [
    "# MultinomialNB"
   ]
  },
  {
   "cell_type": "code",
   "execution_count": 65,
   "id": "3ea5bb09-e993-4e58-a336-5673a5b8eefb",
   "metadata": {},
   "outputs": [],
   "source": [
    "# Let's set a pipeline up with two stages:\n",
    "pipe_mnb = Pipeline([\n",
    "    ('cvec', CountVectorizer()),\n",
    "    ('mnb', MultinomialNB())\n",
    "])"
   ]
  },
  {
   "cell_type": "code",
   "execution_count": 66,
   "id": "496bba0a-8cb2-43c1-8a7d-0cf7b8c6a10b",
   "metadata": {},
   "outputs": [],
   "source": [
    "pipe_params_mnb = {\n",
    "    'cvec__max_features' : [5000],#2000, 3000, 4000, 5000],\n",
    "    'cvec__min_df' : [5],#[3,5]\n",
    "    'cvec__max_df' : [0.9],#[0.9,0.95]\n",
    "    'cvec__ngram_range' : [(1,1)],#[(1,1),(1,2)]\n",
    "    'cvec__stop_words' : [ None, 'english']\n",
    "}"
   ]
  },
  {
   "cell_type": "code",
   "execution_count": 67,
   "id": "50788220-af1e-47db-be9d-d82007d08ce8",
   "metadata": {},
   "outputs": [],
   "source": [
    "# Instantiate GridSearchCV for MultinomialNB\n",
    "gs_mnb = GridSearchCV(pipe_mnb,     # what object are we optimizing?\n",
    "                  pipe_params_mnb,   # what parameters values are we searching?\n",
    "                  cv=5)               # 5-fold cross-validation."
   ]
  },
  {
   "cell_type": "code",
   "execution_count": 68,
   "id": "0881e900-8e17-4ead-bd46-c39495dbdb5f",
   "metadata": {},
   "outputs": [
    {
     "data": {
      "text/html": [
       "<style>#sk-container-id-4 {color: black;background-color: white;}#sk-container-id-4 pre{padding: 0;}#sk-container-id-4 div.sk-toggleable {background-color: white;}#sk-container-id-4 label.sk-toggleable__label {cursor: pointer;display: block;width: 100%;margin-bottom: 0;padding: 0.3em;box-sizing: border-box;text-align: center;}#sk-container-id-4 label.sk-toggleable__label-arrow:before {content: \"▸\";float: left;margin-right: 0.25em;color: #696969;}#sk-container-id-4 label.sk-toggleable__label-arrow:hover:before {color: black;}#sk-container-id-4 div.sk-estimator:hover label.sk-toggleable__label-arrow:before {color: black;}#sk-container-id-4 div.sk-toggleable__content {max-height: 0;max-width: 0;overflow: hidden;text-align: left;background-color: #f0f8ff;}#sk-container-id-4 div.sk-toggleable__content pre {margin: 0.2em;color: black;border-radius: 0.25em;background-color: #f0f8ff;}#sk-container-id-4 input.sk-toggleable__control:checked~div.sk-toggleable__content {max-height: 200px;max-width: 100%;overflow: auto;}#sk-container-id-4 input.sk-toggleable__control:checked~label.sk-toggleable__label-arrow:before {content: \"▾\";}#sk-container-id-4 div.sk-estimator input.sk-toggleable__control:checked~label.sk-toggleable__label {background-color: #d4ebff;}#sk-container-id-4 div.sk-label input.sk-toggleable__control:checked~label.sk-toggleable__label {background-color: #d4ebff;}#sk-container-id-4 input.sk-hidden--visually {border: 0;clip: rect(1px 1px 1px 1px);clip: rect(1px, 1px, 1px, 1px);height: 1px;margin: -1px;overflow: hidden;padding: 0;position: absolute;width: 1px;}#sk-container-id-4 div.sk-estimator {font-family: monospace;background-color: #f0f8ff;border: 1px dotted black;border-radius: 0.25em;box-sizing: border-box;margin-bottom: 0.5em;}#sk-container-id-4 div.sk-estimator:hover {background-color: #d4ebff;}#sk-container-id-4 div.sk-parallel-item::after {content: \"\";width: 100%;border-bottom: 1px solid gray;flex-grow: 1;}#sk-container-id-4 div.sk-label:hover label.sk-toggleable__label {background-color: #d4ebff;}#sk-container-id-4 div.sk-serial::before {content: \"\";position: absolute;border-left: 1px solid gray;box-sizing: border-box;top: 0;bottom: 0;left: 50%;z-index: 0;}#sk-container-id-4 div.sk-serial {display: flex;flex-direction: column;align-items: center;background-color: white;padding-right: 0.2em;padding-left: 0.2em;position: relative;}#sk-container-id-4 div.sk-item {position: relative;z-index: 1;}#sk-container-id-4 div.sk-parallel {display: flex;align-items: stretch;justify-content: center;background-color: white;position: relative;}#sk-container-id-4 div.sk-item::before, #sk-container-id-4 div.sk-parallel-item::before {content: \"\";position: absolute;border-left: 1px solid gray;box-sizing: border-box;top: 0;bottom: 0;left: 50%;z-index: -1;}#sk-container-id-4 div.sk-parallel-item {display: flex;flex-direction: column;z-index: 1;position: relative;background-color: white;}#sk-container-id-4 div.sk-parallel-item:first-child::after {align-self: flex-end;width: 50%;}#sk-container-id-4 div.sk-parallel-item:last-child::after {align-self: flex-start;width: 50%;}#sk-container-id-4 div.sk-parallel-item:only-child::after {width: 0;}#sk-container-id-4 div.sk-dashed-wrapped {border: 1px dashed gray;margin: 0 0.4em 0.5em 0.4em;box-sizing: border-box;padding-bottom: 0.4em;background-color: white;}#sk-container-id-4 div.sk-label label {font-family: monospace;font-weight: bold;display: inline-block;line-height: 1.2em;}#sk-container-id-4 div.sk-label-container {text-align: center;}#sk-container-id-4 div.sk-container {/* jupyter's `normalize.less` sets `[hidden] { display: none; }` but bootstrap.min.css set `[hidden] { display: none !important; }` so we also need the `!important` here to be able to override the default hidden behavior on the sphinx rendered scikit-learn.org. See: https://github.com/scikit-learn/scikit-learn/issues/21755 */display: inline-block !important;position: relative;}#sk-container-id-4 div.sk-text-repr-fallback {display: none;}</style><div id=\"sk-container-id-4\" class=\"sk-top-container\"><div class=\"sk-text-repr-fallback\"><pre>GridSearchCV(cv=5,\n",
       "             estimator=Pipeline(steps=[(&#x27;cvec&#x27;, CountVectorizer()),\n",
       "                                       (&#x27;mnb&#x27;, MultinomialNB())]),\n",
       "             param_grid={&#x27;cvec__max_df&#x27;: [0.9], &#x27;cvec__max_features&#x27;: [5000],\n",
       "                         &#x27;cvec__min_df&#x27;: [5], &#x27;cvec__ngram_range&#x27;: [(1, 1)],\n",
       "                         &#x27;cvec__stop_words&#x27;: [None, &#x27;english&#x27;]})</pre><b>In a Jupyter environment, please rerun this cell to show the HTML representation or trust the notebook. <br />On GitHub, the HTML representation is unable to render, please try loading this page with nbviewer.org.</b></div><div class=\"sk-container\" hidden><div class=\"sk-item sk-dashed-wrapped\"><div class=\"sk-label-container\"><div class=\"sk-label sk-toggleable\"><input class=\"sk-toggleable__control sk-hidden--visually\" id=\"sk-estimator-id-13\" type=\"checkbox\" ><label for=\"sk-estimator-id-13\" class=\"sk-toggleable__label sk-toggleable__label-arrow\">GridSearchCV</label><div class=\"sk-toggleable__content\"><pre>GridSearchCV(cv=5,\n",
       "             estimator=Pipeline(steps=[(&#x27;cvec&#x27;, CountVectorizer()),\n",
       "                                       (&#x27;mnb&#x27;, MultinomialNB())]),\n",
       "             param_grid={&#x27;cvec__max_df&#x27;: [0.9], &#x27;cvec__max_features&#x27;: [5000],\n",
       "                         &#x27;cvec__min_df&#x27;: [5], &#x27;cvec__ngram_range&#x27;: [(1, 1)],\n",
       "                         &#x27;cvec__stop_words&#x27;: [None, &#x27;english&#x27;]})</pre></div></div></div><div class=\"sk-parallel\"><div class=\"sk-parallel-item\"><div class=\"sk-item\"><div class=\"sk-label-container\"><div class=\"sk-label sk-toggleable\"><input class=\"sk-toggleable__control sk-hidden--visually\" id=\"sk-estimator-id-14\" type=\"checkbox\" ><label for=\"sk-estimator-id-14\" class=\"sk-toggleable__label sk-toggleable__label-arrow\">estimator: Pipeline</label><div class=\"sk-toggleable__content\"><pre>Pipeline(steps=[(&#x27;cvec&#x27;, CountVectorizer()), (&#x27;mnb&#x27;, MultinomialNB())])</pre></div></div></div><div class=\"sk-serial\"><div class=\"sk-item\"><div class=\"sk-serial\"><div class=\"sk-item\"><div class=\"sk-estimator sk-toggleable\"><input class=\"sk-toggleable__control sk-hidden--visually\" id=\"sk-estimator-id-15\" type=\"checkbox\" ><label for=\"sk-estimator-id-15\" class=\"sk-toggleable__label sk-toggleable__label-arrow\">CountVectorizer</label><div class=\"sk-toggleable__content\"><pre>CountVectorizer()</pre></div></div></div><div class=\"sk-item\"><div class=\"sk-estimator sk-toggleable\"><input class=\"sk-toggleable__control sk-hidden--visually\" id=\"sk-estimator-id-16\" type=\"checkbox\" ><label for=\"sk-estimator-id-16\" class=\"sk-toggleable__label sk-toggleable__label-arrow\">MultinomialNB</label><div class=\"sk-toggleable__content\"><pre>MultinomialNB()</pre></div></div></div></div></div></div></div></div></div></div></div></div>"
      ],
      "text/plain": [
       "GridSearchCV(cv=5,\n",
       "             estimator=Pipeline(steps=[('cvec', CountVectorizer()),\n",
       "                                       ('mnb', MultinomialNB())]),\n",
       "             param_grid={'cvec__max_df': [0.9], 'cvec__max_features': [5000],\n",
       "                         'cvec__min_df': [5], 'cvec__ngram_range': [(1, 1)],\n",
       "                         'cvec__stop_words': [None, 'english']})"
      ]
     },
     "execution_count": 68,
     "metadata": {},
     "output_type": "execute_result"
    }
   ],
   "source": [
    "# Fit GridSearch to training data.\n",
    "gs_mnb.fit(X_train,y_train)"
   ]
  },
  {
   "cell_type": "code",
   "execution_count": 69,
   "id": "4a5a682c-c087-400d-be32-dbd4c430ad02",
   "metadata": {},
   "outputs": [
    {
     "data": {
      "text/plain": [
       "{'cvec__max_df': 0.9,\n",
       " 'cvec__max_features': 5000,\n",
       " 'cvec__min_df': 5,\n",
       " 'cvec__ngram_range': (1, 1),\n",
       " 'cvec__stop_words': None}"
      ]
     },
     "execution_count": 69,
     "metadata": {},
     "output_type": "execute_result"
    }
   ],
   "source": [
    "gs_mnb.best_params_"
   ]
  },
  {
   "cell_type": "code",
   "execution_count": 70,
   "id": "8932ce6b-8c12-4070-a5ef-3f75a22fd14e",
   "metadata": {},
   "outputs": [],
   "source": [
    "# Get predictions\n",
    "preds_mnb = gs_mnb.predict(X_test)"
   ]
  },
  {
   "cell_type": "code",
   "execution_count": 71,
   "id": "05b55754-2f72-44c6-91d4-54301bba3704",
   "metadata": {},
   "outputs": [
    {
     "data": {
      "text/html": [
       "<div>\n",
       "<style scoped>\n",
       "    .dataframe tbody tr th:only-of-type {\n",
       "        vertical-align: middle;\n",
       "    }\n",
       "\n",
       "    .dataframe tbody tr th {\n",
       "        vertical-align: top;\n",
       "    }\n",
       "\n",
       "    .dataframe thead th {\n",
       "        text-align: right;\n",
       "    }\n",
       "</style>\n",
       "<table border=\"1\" class=\"dataframe\">\n",
       "  <thead>\n",
       "    <tr style=\"text-align: right;\">\n",
       "      <th></th>\n",
       "      <th>Model</th>\n",
       "      <th>Score on train</th>\n",
       "      <th>Score on test</th>\n",
       "      <th>Sensitivity</th>\n",
       "      <th>Specificity</th>\n",
       "      <th>Precision</th>\n",
       "    </tr>\n",
       "  </thead>\n",
       "  <tbody>\n",
       "    <tr>\n",
       "      <th>0</th>\n",
       "      <td>MultinomialNB</td>\n",
       "      <td>0.842</td>\n",
       "      <td>0.815</td>\n",
       "      <td>0.883</td>\n",
       "      <td>0.751</td>\n",
       "      <td>0.769</td>\n",
       "    </tr>\n",
       "  </tbody>\n",
       "</table>\n",
       "</div>"
      ],
      "text/plain": [
       "           Model  Score on train  Score on test  Sensitivity  Specificity  \\\n",
       "0  MultinomialNB           0.842          0.815        0.883        0.751   \n",
       "\n",
       "   Precision  \n",
       "0      0.769  "
      ]
     },
     "execution_count": 71,
     "metadata": {},
     "output_type": "execute_result"
    }
   ],
   "source": [
    "mnb = evaluation('MultinomialNB',y_test,preds_mnb,gs_mnb)\n",
    "mnb"
   ]
  },
  {
   "cell_type": "code",
   "execution_count": 72,
   "id": "22ec2bf4-37a0-40b7-9264-d2a424a17333",
   "metadata": {},
   "outputs": [
    {
     "data": {
      "image/png": "[encoded data removed]",
      "text/plain": [
       "<Figure size 640x480 with 2 Axes>"
      ]
     },
     "metadata": {},
     "output_type": "display_data"
    }
   ],
   "source": [
    "plot_confusion(y_test,preds_mnb,gs_mnb);\n",
    "plt.title('Confusion matrix from MultinomialNB');\n",
    "plt.savefig(\"./img/Cvec/Confusion_matrix_from_MultinomialNB.jpg\", dpi=300)"
   ]
  },
  {
   "cell_type": "markdown",
   "id": "4694effb-6f2d-4406-ab49-0e691d97d136",
   "metadata": {},
   "source": [
    "From the confusion matrix, we see that the true positives and true negatives are significantly higher compared to the false positives and the false negatives, which means the model can predict the AI texts more accurately and is confirmed from the above evaluation table for the model when looking at the sensitivity, specificity, and precision of the model. However, compared to the models above, there is a significantly high number of false positives, which is proven by the lower specificity of the model."
   ]
  },
  {
   "cell_type": "markdown",
   "id": "64931d25-b57d-4f9e-8e8e-d5e79170556f",
   "metadata": {},
   "source": [
    "# BernoulliNB"
   ]
  },
  {
   "cell_type": "code",
   "execution_count": 73,
   "id": "fb4c7a41-e051-475f-82fa-816351cdd768",
   "metadata": {},
   "outputs": [],
   "source": [
    "# Let's set a pipeline up with two stages:\n",
    "pipe_bnb = Pipeline([\n",
    "    ('cvec', CountVectorizer()),\n",
    "    ('bnb', BernoulliNB())\n",
    "])"
   ]
  },
  {
   "cell_type": "code",
   "execution_count": 74,
   "id": "971f17b7-24fb-449b-9e4e-0f7ddf9be9d5",
   "metadata": {},
   "outputs": [],
   "source": [
    "pipe_params_bnb = {\n",
    "    'cvec__max_features' : [5000],#2000, 3000, 4000, 5000],\n",
    "    'cvec__min_df' : [5],#[3,5]\n",
    "    'cvec__max_df' : [0.9],#[0.9,0.95]\n",
    "    'cvec__ngram_range' : [(1,2)],#[(1,1),(1,2)]\n",
    "    'cvec__stop_words' : [ None, 'english']\n",
    "}"
   ]
  },
  {
   "cell_type": "code",
   "execution_count": 75,
   "id": "8e003527-28ef-4016-ad6a-884dd8b3b978",
   "metadata": {},
   "outputs": [],
   "source": [
    "# Instantiate GridSearchCV for BernoulliNB\n",
    "gs_bnb = GridSearchCV(pipe_bnb,     # what object are we optimizing?\n",
    "                  pipe_params_bnb,   # what parameters values are we searching?\n",
    "                  cv=5)               # 5-fold cross-validation."
   ]
  },
  {
   "cell_type": "code",
   "execution_count": 76,
   "id": "3600c2ee-0a84-4dff-954d-2c37e8d11daa",
   "metadata": {},
   "outputs": [
    {
     "data": {
      "text/html": [
       "<style>#sk-container-id-5 {color: black;background-color: white;}#sk-container-id-5 pre{padding: 0;}#sk-container-id-5 div.sk-toggleable {background-color: white;}#sk-container-id-5 label.sk-toggleable__label {cursor: pointer;display: block;width: 100%;margin-bottom: 0;padding: 0.3em;box-sizing: border-box;text-align: center;}#sk-container-id-5 label.sk-toggleable__label-arrow:before {content: \"▸\";float: left;margin-right: 0.25em;color: #696969;}#sk-container-id-5 label.sk-toggleable__label-arrow:hover:before {color: black;}#sk-container-id-5 div.sk-estimator:hover label.sk-toggleable__label-arrow:before {color: black;}#sk-container-id-5 div.sk-toggleable__content {max-height: 0;max-width: 0;overflow: hidden;text-align: left;background-color: #f0f8ff;}#sk-container-id-5 div.sk-toggleable__content pre {margin: 0.2em;color: black;border-radius: 0.25em;background-color: #f0f8ff;}#sk-container-id-5 input.sk-toggleable__control:checked~div.sk-toggleable__content {max-height: 200px;max-width: 100%;overflow: auto;}#sk-container-id-5 input.sk-toggleable__control:checked~label.sk-toggleable__label-arrow:before {content: \"▾\";}#sk-container-id-5 div.sk-estimator input.sk-toggleable__control:checked~label.sk-toggleable__label {background-color: #d4ebff;}#sk-container-id-5 div.sk-label input.sk-toggleable__control:checked~label.sk-toggleable__label {background-color: #d4ebff;}#sk-container-id-5 input.sk-hidden--visually {border: 0;clip: rect(1px 1px 1px 1px);clip: rect(1px, 1px, 1px, 1px);height: 1px;margin: -1px;overflow: hidden;padding: 0;position: absolute;width: 1px;}#sk-container-id-5 div.sk-estimator {font-family: monospace;background-color: #f0f8ff;border: 1px dotted black;border-radius: 0.25em;box-sizing: border-box;margin-bottom: 0.5em;}#sk-container-id-5 div.sk-estimator:hover {background-color: #d4ebff;}#sk-container-id-5 div.sk-parallel-item::after {content: \"\";width: 100%;border-bottom: 1px solid gray;flex-grow: 1;}#sk-container-id-5 div.sk-label:hover label.sk-toggleable__label {background-color: #d4ebff;}#sk-container-id-5 div.sk-serial::before {content: \"\";position: absolute;border-left: 1px solid gray;box-sizing: border-box;top: 0;bottom: 0;left: 50%;z-index: 0;}#sk-container-id-5 div.sk-serial {display: flex;flex-direction: column;align-items: center;background-color: white;padding-right: 0.2em;padding-left: 0.2em;position: relative;}#sk-container-id-5 div.sk-item {position: relative;z-index: 1;}#sk-container-id-5 div.sk-parallel {display: flex;align-items: stretch;justify-content: center;background-color: white;position: relative;}#sk-container-id-5 div.sk-item::before, #sk-container-id-5 div.sk-parallel-item::before {content: \"\";position: absolute;border-left: 1px solid gray;box-sizing: border-box;top: 0;bottom: 0;left: 50%;z-index: -1;}#sk-container-id-5 div.sk-parallel-item {display: flex;flex-direction: column;z-index: 1;position: relative;background-color: white;}#sk-container-id-5 div.sk-parallel-item:first-child::after {align-self: flex-end;width: 50%;}#sk-container-id-5 div.sk-parallel-item:last-child::after {align-self: flex-start;width: 50%;}#sk-container-id-5 div.sk-parallel-item:only-child::after {width: 0;}#sk-container-id-5 div.sk-dashed-wrapped {border: 1px dashed gray;margin: 0 0.4em 0.5em 0.4em;box-sizing: border-box;padding-bottom: 0.4em;background-color: white;}#sk-container-id-5 div.sk-label label {font-family: monospace;font-weight: bold;display: inline-block;line-height: 1.2em;}#sk-container-id-5 div.sk-label-container {text-align: center;}#sk-container-id-5 div.sk-container {/* jupyter's `normalize.less` sets `[hidden] { display: none; }` but bootstrap.min.css set `[hidden] { display: none !important; }` so we also need the `!important` here to be able to override the default hidden behavior on the sphinx rendered scikit-learn.org. See: https://github.com/scikit-learn/scikit-learn/issues/21755 */display: inline-block !important;position: relative;}#sk-container-id-5 div.sk-text-repr-fallback {display: none;}</style><div id=\"sk-container-id-5\" class=\"sk-top-container\"><div class=\"sk-text-repr-fallback\"><pre>GridSearchCV(cv=5,\n",
       "             estimator=Pipeline(steps=[(&#x27;cvec&#x27;, CountVectorizer()),\n",
       "                                       (&#x27;bnb&#x27;, BernoulliNB())]),\n",
       "             param_grid={&#x27;cvec__max_df&#x27;: [0.9], &#x27;cvec__max_features&#x27;: [5000],\n",
       "                         &#x27;cvec__min_df&#x27;: [5], &#x27;cvec__ngram_range&#x27;: [(1, 2)],\n",
       "                         &#x27;cvec__stop_words&#x27;: [None, &#x27;english&#x27;]})</pre><b>In a Jupyter environment, please rerun this cell to show the HTML representation or trust the notebook. <br />On GitHub, the HTML representation is unable to render, please try loading this page with nbviewer.org.</b></div><div class=\"sk-container\" hidden><div class=\"sk-item sk-dashed-wrapped\"><div class=\"sk-label-container\"><div class=\"sk-label sk-toggleable\"><input class=\"sk-toggleable__control sk-hidden--visually\" id=\"sk-estimator-id-17\" type=\"checkbox\" ><label for=\"sk-estimator-id-17\" class=\"sk-toggleable__label sk-toggleable__label-arrow\">GridSearchCV</label><div class=\"sk-toggleable__content\"><pre>GridSearchCV(cv=5,\n",
       "             estimator=Pipeline(steps=[(&#x27;cvec&#x27;, CountVectorizer()),\n",
       "                                       (&#x27;bnb&#x27;, BernoulliNB())]),\n",
       "             param_grid={&#x27;cvec__max_df&#x27;: [0.9], &#x27;cvec__max_features&#x27;: [5000],\n",
       "                         &#x27;cvec__min_df&#x27;: [5], &#x27;cvec__ngram_range&#x27;: [(1, 2)],\n",
       "                         &#x27;cvec__stop_words&#x27;: [None, &#x27;english&#x27;]})</pre></div></div></div><div class=\"sk-parallel\"><div class=\"sk-parallel-item\"><div class=\"sk-item\"><div class=\"sk-label-container\"><div class=\"sk-label sk-toggleable\"><input class=\"sk-toggleable__control sk-hidden--visually\" id=\"sk-estimator-id-18\" type=\"checkbox\" ><label for=\"sk-estimator-id-18\" class=\"sk-toggleable__label sk-toggleable__label-arrow\">estimator: Pipeline</label><div class=\"sk-toggleable__content\"><pre>Pipeline(steps=[(&#x27;cvec&#x27;, CountVectorizer()), (&#x27;bnb&#x27;, BernoulliNB())])</pre></div></div></div><div class=\"sk-serial\"><div class=\"sk-item\"><div class=\"sk-serial\"><div class=\"sk-item\"><div class=\"sk-estimator sk-toggleable\"><input class=\"sk-toggleable__control sk-hidden--visually\" id=\"sk-estimator-id-19\" type=\"checkbox\" ><label for=\"sk-estimator-id-19\" class=\"sk-toggleable__label sk-toggleable__label-arrow\">CountVectorizer</label><div class=\"sk-toggleable__content\"><pre>CountVectorizer()</pre></div></div></div><div class=\"sk-item\"><div class=\"sk-estimator sk-toggleable\"><input class=\"sk-toggleable__control sk-hidden--visually\" id=\"sk-estimator-id-20\" type=\"checkbox\" ><label for=\"sk-estimator-id-20\" class=\"sk-toggleable__label sk-toggleable__label-arrow\">BernoulliNB</label><div class=\"sk-toggleable__content\"><pre>BernoulliNB()</pre></div></div></div></div></div></div></div></div></div></div></div></div>"
      ],
      "text/plain": [
       "GridSearchCV(cv=5,\n",
       "             estimator=Pipeline(steps=[('cvec', CountVectorizer()),\n",
       "                                       ('bnb', BernoulliNB())]),\n",
       "             param_grid={'cvec__max_df': [0.9], 'cvec__max_features': [5000],\n",
       "                         'cvec__min_df': [5], 'cvec__ngram_range': [(1, 2)],\n",
       "                         'cvec__stop_words': [None, 'english']})"
      ]
     },
     "execution_count": 76,
     "metadata": {},
     "output_type": "execute_result"
    }
   ],
   "source": [
    "# Fit GridSearch to training data.\n",
    "gs_bnb.fit(X_train,y_train)"
   ]
  },
  {
   "cell_type": "code",
   "execution_count": 77,
   "id": "6cfb7b46-b14a-4c4c-a614-0a1d9c190930",
   "metadata": {},
   "outputs": [
    {
     "data": {
      "text/plain": [
       "{'cvec__max_df': 0.9,\n",
       " 'cvec__max_features': 5000,\n",
       " 'cvec__min_df': 5,\n",
       " 'cvec__ngram_range': (1, 2),\n",
       " 'cvec__stop_words': 'english'}"
      ]
     },
     "execution_count": 77,
     "metadata": {},
     "output_type": "execute_result"
    }
   ],
   "source": [
    "gs_bnb.best_params_"
   ]
  },
  {
   "cell_type": "code",
   "execution_count": 78,
   "id": "2e45be9d-45f1-4787-9904-b2059e335d9e",
   "metadata": {},
   "outputs": [],
   "source": [
    "# Get predictions\n",
    "preds_bnb = gs_bnb.predict(X_test)"
   ]
  },
  {
   "cell_type": "code",
   "execution_count": 79,
   "id": "efeea52b-4c2f-4dd6-ac91-b53fc00c300d",
   "metadata": {},
   "outputs": [
    {
     "data": {
      "text/html": [
       "<div>\n",
       "<style scoped>\n",
       "    .dataframe tbody tr th:only-of-type {\n",
       "        vertical-align: middle;\n",
       "    }\n",
       "\n",
       "    .dataframe tbody tr th {\n",
       "        vertical-align: top;\n",
       "    }\n",
       "\n",
       "    .dataframe thead th {\n",
       "        text-align: right;\n",
       "    }\n",
       "</style>\n",
       "<table border=\"1\" class=\"dataframe\">\n",
       "  <thead>\n",
       "    <tr style=\"text-align: right;\">\n",
       "      <th></th>\n",
       "      <th>Model</th>\n",
       "      <th>Score on train</th>\n",
       "      <th>Score on test</th>\n",
       "      <th>Sensitivity</th>\n",
       "      <th>Specificity</th>\n",
       "      <th>Precision</th>\n",
       "    </tr>\n",
       "  </thead>\n",
       "  <tbody>\n",
       "    <tr>\n",
       "      <th>0</th>\n",
       "      <td>BernoulliNB</td>\n",
       "      <td>0.871</td>\n",
       "      <td>0.85</td>\n",
       "      <td>0.796</td>\n",
       "      <td>0.9</td>\n",
       "      <td>0.882</td>\n",
       "    </tr>\n",
       "  </tbody>\n",
       "</table>\n",
       "</div>"
      ],
      "text/plain": [
       "         Model  Score on train  Score on test  Sensitivity  Specificity  \\\n",
       "0  BernoulliNB           0.871           0.85        0.796          0.9   \n",
       "\n",
       "   Precision  \n",
       "0      0.882  "
      ]
     },
     "execution_count": 79,
     "metadata": {},
     "output_type": "execute_result"
    }
   ],
   "source": [
    "bnb=evaluation('BernoulliNB',y_test,preds_bnb,gs_bnb)\n",
    "bnb"
   ]
  },
  {
   "cell_type": "code",
   "execution_count": 80,
   "id": "5f0e4195-45b1-4573-8623-5962ec1416ba",
   "metadata": {},
   "outputs": [
    {
     "data": {
      "image/png": "[encoded data removed]",
      "text/plain": [
       "<Figure size 640x480 with 2 Axes>"
      ]
     },
     "metadata": {},
     "output_type": "display_data"
    }
   ],
   "source": [
    "plot_confusion(y_test,preds_bnb,gs_bnb);\n",
    "plt.title('Confusion matrix from BernoulliNB');\n",
    "plt.savefig(\"./img/Cvec/Confusion_matrix_from_BernoulliNB.jpg\", dpi=300)"
   ]
  },
  {
   "cell_type": "markdown",
   "id": "aaef95b8-15ba-40c1-b969-a718fdb857ba",
   "metadata": {},
   "source": [
    "From the confusion matrix, we see that the true positives and true negatives are significantly higher compared to the false positives and the false negatives, which means the model can predict the AI texts more accurately and is confirmed from the above evaluation table for the model when looking at the sensitivity, specificity, and precision of the model."
   ]
  },
  {
   "cell_type": "markdown",
   "id": "4c082bb9-8337-4f32-bd11-f35d0ff73b4d",
   "metadata": {},
   "source": [
    "# AdaBoostClassifier"
   ]
  },
  {
   "cell_type": "code",
   "execution_count": 81,
   "id": "5ea0c464-804d-41c1-b99f-e6b6c21fa28e",
   "metadata": {},
   "outputs": [],
   "source": [
    "# Let's set a pipeline up with two stages:\n",
    "pipe_abc = Pipeline([\n",
    "    ('cvec', CountVectorizer()),\n",
    "    ('abc', AdaBoostClassifier())\n",
    "])"
   ]
  },
  {
   "cell_type": "code",
   "execution_count": 82,
   "id": "7558b785-36f3-4e23-862f-b2343a259559",
   "metadata": {},
   "outputs": [],
   "source": [
    "pipe_params_abc = {\n",
    "    'cvec__max_features' : [3000],#2000, 3000, 4000, 5000],\n",
    "    'cvec__min_df' : [3],#[3,5]\n",
    "    'cvec__max_df' : [0.9],#[0.9,0.95]\n",
    "    'cvec__ngram_range' : [(1,2)],#[(1,1),(1,2)]\n",
    "    'cvec__stop_words' : [ None, 'english'],\n",
    "    'abc__n_estimators' : [100,200,300]\n",
    "}"
   ]
  },
  {
   "cell_type": "code",
   "execution_count": 83,
   "id": "24c91167-0250-401b-956d-e8884d73d5be",
   "metadata": {},
   "outputs": [],
   "source": [
    "# Instantiate GridSearchCV for AdaBoostClassifier\n",
    "gs_abc = GridSearchCV(pipe_abc,     # what object are we optimizing?\n",
    "                  pipe_params_abc,   # what parameters values are we searching?\n",
    "                  cv=5)               # 5-fold cross-validation."
   ]
  },
  {
   "cell_type": "code",
   "execution_count": 84,
   "id": "c8c6bf40-3dee-4d20-855a-66147ad234d1",
   "metadata": {},
   "outputs": [
    {
     "data": {
      "text/html": [
       "<style>#sk-container-id-6 {color: black;background-color: white;}#sk-container-id-6 pre{padding: 0;}#sk-container-id-6 div.sk-toggleable {background-color: white;}#sk-container-id-6 label.sk-toggleable__label {cursor: pointer;display: block;width: 100%;margin-bottom: 0;padding: 0.3em;box-sizing: border-box;text-align: center;}#sk-container-id-6 label.sk-toggleable__label-arrow:before {content: \"▸\";float: left;margin-right: 0.25em;color: #696969;}#sk-container-id-6 label.sk-toggleable__label-arrow:hover:before {color: black;}#sk-container-id-6 div.sk-estimator:hover label.sk-toggleable__label-arrow:before {color: black;}#sk-container-id-6 div.sk-toggleable__content {max-height: 0;max-width: 0;overflow: hidden;text-align: left;background-color: #f0f8ff;}#sk-container-id-6 div.sk-toggleable__content pre {margin: 0.2em;color: black;border-radius: 0.25em;background-color: #f0f8ff;}#sk-container-id-6 input.sk-toggleable__control:checked~div.sk-toggleable__content {max-height: 200px;max-width: 100%;overflow: auto;}#sk-container-id-6 input.sk-toggleable__control:checked~label.sk-toggleable__label-arrow:before {content: \"▾\";}#sk-container-id-6 div.sk-estimator input.sk-toggleable__control:checked~label.sk-toggleable__label {background-color: #d4ebff;}#sk-container-id-6 div.sk-label input.sk-toggleable__control:checked~label.sk-toggleable__label {background-color: #d4ebff;}#sk-container-id-6 input.sk-hidden--visually {border: 0;clip: rect(1px 1px 1px 1px);clip: rect(1px, 1px, 1px, 1px);height: 1px;margin: -1px;overflow: hidden;padding: 0;position: absolute;width: 1px;}#sk-container-id-6 div.sk-estimator {font-family: monospace;background-color: #f0f8ff;border: 1px dotted black;border-radius: 0.25em;box-sizing: border-box;margin-bottom: 0.5em;}#sk-container-id-6 div.sk-estimator:hover {background-color: #d4ebff;}#sk-container-id-6 div.sk-parallel-item::after {content: \"\";width: 100%;border-bottom: 1px solid gray;flex-grow: 1;}#sk-container-id-6 div.sk-label:hover label.sk-toggleable__label {background-color: #d4ebff;}#sk-container-id-6 div.sk-serial::before {content: \"\";position: absolute;border-left: 1px solid gray;box-sizing: border-box;top: 0;bottom: 0;left: 50%;z-index: 0;}#sk-container-id-6 div.sk-serial {display: flex;flex-direction: column;align-items: center;background-color: white;padding-right: 0.2em;padding-left: 0.2em;position: relative;}#sk-container-id-6 div.sk-item {position: relative;z-index: 1;}#sk-container-id-6 div.sk-parallel {display: flex;align-items: stretch;justify-content: center;background-color: white;position: relative;}#sk-container-id-6 div.sk-item::before, #sk-container-id-6 div.sk-parallel-item::before {content: \"\";position: absolute;border-left: 1px solid gray;box-sizing: border-box;top: 0;bottom: 0;left: 50%;z-index: -1;}#sk-container-id-6 div.sk-parallel-item {display: flex;flex-direction: column;z-index: 1;position: relative;background-color: white;}#sk-container-id-6 div.sk-parallel-item:first-child::after {align-self: flex-end;width: 50%;}#sk-container-id-6 div.sk-parallel-item:last-child::after {align-self: flex-start;width: 50%;}#sk-container-id-6 div.sk-parallel-item:only-child::after {width: 0;}#sk-container-id-6 div.sk-dashed-wrapped {border: 1px dashed gray;margin: 0 0.4em 0.5em 0.4em;box-sizing: border-box;padding-bottom: 0.4em;background-color: white;}#sk-container-id-6 div.sk-label label {font-family: monospace;font-weight: bold;display: inline-block;line-height: 1.2em;}#sk-container-id-6 div.sk-label-container {text-align: center;}#sk-container-id-6 div.sk-container {/* jupyter's `normalize.less` sets `[hidden] { display: none; }` but bootstrap.min.css set `[hidden] { display: none !important; }` so we also need the `!important` here to be able to override the default hidden behavior on the sphinx rendered scikit-learn.org. See: https://github.com/scikit-learn/scikit-learn/issues/21755 */display: inline-block !important;position: relative;}#sk-container-id-6 div.sk-text-repr-fallback {display: none;}</style><div id=\"sk-container-id-6\" class=\"sk-top-container\"><div class=\"sk-text-repr-fallback\"><pre>GridSearchCV(cv=5,\n",
       "             estimator=Pipeline(steps=[(&#x27;cvec&#x27;, CountVectorizer()),\n",
       "                                       (&#x27;abc&#x27;, AdaBoostClassifier())]),\n",
       "             param_grid={&#x27;abc__n_estimators&#x27;: [100, 200, 300],\n",
       "                         &#x27;cvec__max_df&#x27;: [0.9], &#x27;cvec__max_features&#x27;: [3000],\n",
       "                         &#x27;cvec__min_df&#x27;: [3], &#x27;cvec__ngram_range&#x27;: [(1, 2)],\n",
       "                         &#x27;cvec__stop_words&#x27;: [None, &#x27;english&#x27;]})</pre><b>In a Jupyter environment, please rerun this cell to show the HTML representation or trust the notebook. <br />On GitHub, the HTML representation is unable to render, please try loading this page with nbviewer.org.</b></div><div class=\"sk-container\" hidden><div class=\"sk-item sk-dashed-wrapped\"><div class=\"sk-label-container\"><div class=\"sk-label sk-toggleable\"><input class=\"sk-toggleable__control sk-hidden--visually\" id=\"sk-estimator-id-21\" type=\"checkbox\" ><label for=\"sk-estimator-id-21\" class=\"sk-toggleable__label sk-toggleable__label-arrow\">GridSearchCV</label><div class=\"sk-toggleable__content\"><pre>GridSearchCV(cv=5,\n",
       "             estimator=Pipeline(steps=[(&#x27;cvec&#x27;, CountVectorizer()),\n",
       "                                       (&#x27;abc&#x27;, AdaBoostClassifier())]),\n",
       "             param_grid={&#x27;abc__n_estimators&#x27;: [100, 200, 300],\n",
       "                         &#x27;cvec__max_df&#x27;: [0.9], &#x27;cvec__max_features&#x27;: [3000],\n",
       "                         &#x27;cvec__min_df&#x27;: [3], &#x27;cvec__ngram_range&#x27;: [(1, 2)],\n",
       "                         &#x27;cvec__stop_words&#x27;: [None, &#x27;english&#x27;]})</pre></div></div></div><div class=\"sk-parallel\"><div class=\"sk-parallel-item\"><div class=\"sk-item\"><div class=\"sk-label-container\"><div class=\"sk-label sk-toggleable\"><input class=\"sk-toggleable__control sk-hidden--visually\" id=\"sk-estimator-id-22\" type=\"checkbox\" ><label for=\"sk-estimator-id-22\" class=\"sk-toggleable__label sk-toggleable__label-arrow\">estimator: Pipeline</label><div class=\"sk-toggleable__content\"><pre>Pipeline(steps=[(&#x27;cvec&#x27;, CountVectorizer()), (&#x27;abc&#x27;, AdaBoostClassifier())])</pre></div></div></div><div class=\"sk-serial\"><div class=\"sk-item\"><div class=\"sk-serial\"><div class=\"sk-item\"><div class=\"sk-estimator sk-toggleable\"><input class=\"sk-toggleable__control sk-hidden--visually\" id=\"sk-estimator-id-23\" type=\"checkbox\" ><label for=\"sk-estimator-id-23\" class=\"sk-toggleable__label sk-toggleable__label-arrow\">CountVectorizer</label><div class=\"sk-toggleable__content\"><pre>CountVectorizer()</pre></div></div></div><div class=\"sk-item\"><div class=\"sk-estimator sk-toggleable\"><input class=\"sk-toggleable__control sk-hidden--visually\" id=\"sk-estimator-id-24\" type=\"checkbox\" ><label for=\"sk-estimator-id-24\" class=\"sk-toggleable__label sk-toggleable__label-arrow\">AdaBoostClassifier</label><div class=\"sk-toggleable__content\"><pre>AdaBoostClassifier()</pre></div></div></div></div></div></div></div></div></div></div></div></div>"
      ],
      "text/plain": [
       "GridSearchCV(cv=5,\n",
       "             estimator=Pipeline(steps=[('cvec', CountVectorizer()),\n",
       "                                       ('abc', AdaBoostClassifier())]),\n",
       "             param_grid={'abc__n_estimators': [100, 200, 300],\n",
       "                         'cvec__max_df': [0.9], 'cvec__max_features': [3000],\n",
       "                         'cvec__min_df': [3], 'cvec__ngram_range': [(1, 2)],\n",
       "                         'cvec__stop_words': [None, 'english']})"
      ]
     },
     "execution_count": 84,
     "metadata": {},
     "output_type": "execute_result"
    }
   ],
   "source": [
    "# Fit GridSearch to training data.\n",
    "gs_abc.fit(X_train,y_train)"
   ]
  },
  {
   "cell_type": "code",
   "execution_count": 85,
   "id": "ed02a074-1d4e-46de-aee3-66b58ac5822b",
   "metadata": {},
   "outputs": [
    {
     "data": {
      "text/plain": [
       "{'abc__n_estimators': 300,\n",
       " 'cvec__max_df': 0.9,\n",
       " 'cvec__max_features': 3000,\n",
       " 'cvec__min_df': 3,\n",
       " 'cvec__ngram_range': (1, 2),\n",
       " 'cvec__stop_words': None}"
      ]
     },
     "execution_count": 85,
     "metadata": {},
     "output_type": "execute_result"
    }
   ],
   "source": [
    "gs_abc.best_params_"
   ]
  },
  {
   "cell_type": "code",
   "execution_count": 86,
   "id": "4e2bdad2-7e45-4681-a03f-427cd1ab731d",
   "metadata": {},
   "outputs": [],
   "source": [
    "# Get predictions\n",
    "preds_abc = gs_abc.predict(X_test)"
   ]
  },
  {
   "cell_type": "code",
   "execution_count": 87,
   "id": "dfd970de-4f3a-404d-9352-faee8961c494",
   "metadata": {},
   "outputs": [
    {
     "data": {
      "text/plain": [
       "{'abc__n_estimators': 300,\n",
       " 'cvec__max_df': 0.9,\n",
       " 'cvec__max_features': 3000,\n",
       " 'cvec__min_df': 3,\n",
       " 'cvec__ngram_range': (1, 2),\n",
       " 'cvec__stop_words': None}"
      ]
     },
     "execution_count": 87,
     "metadata": {},
     "output_type": "execute_result"
    }
   ],
   "source": [
    "gs_abc.best_params_"
   ]
  },
  {
   "cell_type": "code",
   "execution_count": 88,
   "id": "89be8ba5-dda9-407d-954b-3ae02f365f91",
   "metadata": {},
   "outputs": [
    {
     "data": {
      "text/html": [
       "<div>\n",
       "<style scoped>\n",
       "    .dataframe tbody tr th:only-of-type {\n",
       "        vertical-align: middle;\n",
       "    }\n",
       "\n",
       "    .dataframe tbody tr th {\n",
       "        vertical-align: top;\n",
       "    }\n",
       "\n",
       "    .dataframe thead th {\n",
       "        text-align: right;\n",
       "    }\n",
       "</style>\n",
       "<table border=\"1\" class=\"dataframe\">\n",
       "  <thead>\n",
       "    <tr style=\"text-align: right;\">\n",
       "      <th></th>\n",
       "      <th>Model</th>\n",
       "      <th>Score on train</th>\n",
       "      <th>Score on test</th>\n",
       "      <th>Sensitivity</th>\n",
       "      <th>Specificity</th>\n",
       "      <th>Precision</th>\n",
       "    </tr>\n",
       "  </thead>\n",
       "  <tbody>\n",
       "    <tr>\n",
       "      <th>0</th>\n",
       "      <td>AdaBoostClassifier</td>\n",
       "      <td>0.922</td>\n",
       "      <td>0.886</td>\n",
       "      <td>0.843</td>\n",
       "      <td>0.926</td>\n",
       "      <td>0.914</td>\n",
       "    </tr>\n",
       "  </tbody>\n",
       "</table>\n",
       "</div>"
      ],
      "text/plain": [
       "                Model  Score on train  Score on test  Sensitivity  \\\n",
       "0  AdaBoostClassifier           0.922          0.886        0.843   \n",
       "\n",
       "   Specificity  Precision  \n",
       "0        0.926      0.914  "
      ]
     },
     "execution_count": 88,
     "metadata": {},
     "output_type": "execute_result"
    }
   ],
   "source": [
    "abc = evaluation('AdaBoostClassifier',y_test,preds_abc,gs_abc)\n",
    "abc"
   ]
  },
  {
   "cell_type": "code",
   "execution_count": 89,
   "id": "5ff8851e-de07-45c2-b5a6-4b51ee2cf7d2",
   "metadata": {},
   "outputs": [
    {
     "data": {
      "image/png": "[encoded data removed]",
      "text/plain": [
       "<Figure size 640x480 with 2 Axes>"
      ]
     },
     "metadata": {},
     "output_type": "display_data"
    }
   ],
   "source": [
    "plot_confusion(y_test,preds_abc,gs_abc);\n",
    "plt.title('Confusion matrix from AdaBoostClassifier');\n",
    "plt.savefig(\"./img/Cvec/Confusion matrix from AdaBoostClassifier.jpg\", dpi=300)"
   ]
  },
  {
   "cell_type": "markdown",
   "id": "badb0f39-acb7-4624-84d6-33ecdb9593b6",
   "metadata": {},
   "source": [
    "From the confusion matrix, we see that the true positives and true negatives are significantly higher compared to the false positives and the false negatives, which means the model can predict the AI texts more accurately and is confirmed from the above evaluation table for the model when looking at the sensitivity, specificity, and precision of the model."
   ]
  },
  {
   "cell_type": "markdown",
   "id": "4ebe11a1-c6bc-4202-a9aa-6aaa12cbf141",
   "metadata": {},
   "source": [
    "# LinearSVC"
   ]
  },
  {
   "cell_type": "code",
   "execution_count": 90,
   "id": "c89d9966-673c-407f-b52e-11087f7e3326",
   "metadata": {},
   "outputs": [],
   "source": [
    "# Let's set a pipeline up with two stages:\n",
    "pipe_svc = Pipeline([\n",
    "    ('cvec', CountVectorizer()),\n",
    "    ('svc', LinearSVC())\n",
    "])"
   ]
  },
  {
   "cell_type": "code",
   "execution_count": 91,
   "id": "1b901fa1-fbd4-4a28-9304-9a964f97f03f",
   "metadata": {},
   "outputs": [],
   "source": [
    "pipe_params_svc = {\n",
    "    'cvec__max_features' : [4000],#2000, 3000, 4000, 5000],\n",
    "    'cvec__min_df' : [5],#[3,5]\n",
    "    'cvec__max_df' : [0.9],#[0.9,0.95]\n",
    "    'cvec__ngram_range' : [(1,2)],#[(1,1),(1,2)]\n",
    "    'cvec__stop_words' : [ None, 'english'],\n",
    "    'svc__C' : np.linspace(0.0001, 1, 5)\n",
    "}"
   ]
  },
  {
   "cell_type": "code",
   "execution_count": 92,
   "id": "c7457e87-aec0-4c7c-bc0f-fefe755e67f5",
   "metadata": {},
   "outputs": [],
   "source": [
    "# Instantiate GridSearchCV for LinearSVC\n",
    "gs_svc = GridSearchCV(pipe_svc,     # what object are we optimizing?\n",
    "                  pipe_params_svc,   # what parameters values are we searching?\n",
    "                  cv=5)               # 5-fold cross-validation."
   ]
  },
  {
   "cell_type": "code",
   "execution_count": 93,
   "id": "4eaf1e57-82e7-4118-bc3c-3e65afe95411",
   "metadata": {},
   "outputs": [
    {
     "data": {
      "text/html": [
       "<style>#sk-container-id-7 {color: black;background-color: white;}#sk-container-id-7 pre{padding: 0;}#sk-container-id-7 div.sk-toggleable {background-color: white;}#sk-container-id-7 label.sk-toggleable__label {cursor: pointer;display: block;width: 100%;margin-bottom: 0;padding: 0.3em;box-sizing: border-box;text-align: center;}#sk-container-id-7 label.sk-toggleable__label-arrow:before {content: \"▸\";float: left;margin-right: 0.25em;color: #696969;}#sk-container-id-7 label.sk-toggleable__label-arrow:hover:before {color: black;}#sk-container-id-7 div.sk-estimator:hover label.sk-toggleable__label-arrow:before {color: black;}#sk-container-id-7 div.sk-toggleable__content {max-height: 0;max-width: 0;overflow: hidden;text-align: left;background-color: #f0f8ff;}#sk-container-id-7 div.sk-toggleable__content pre {margin: 0.2em;color: black;border-radius: 0.25em;background-color: #f0f8ff;}#sk-container-id-7 input.sk-toggleable__control:checked~div.sk-toggleable__content {max-height: 200px;max-width: 100%;overflow: auto;}#sk-container-id-7 input.sk-toggleable__control:checked~label.sk-toggleable__label-arrow:before {content: \"▾\";}#sk-container-id-7 div.sk-estimator input.sk-toggleable__control:checked~label.sk-toggleable__label {background-color: #d4ebff;}#sk-container-id-7 div.sk-label input.sk-toggleable__control:checked~label.sk-toggleable__label {background-color: #d4ebff;}#sk-container-id-7 input.sk-hidden--visually {border: 0;clip: rect(1px 1px 1px 1px);clip: rect(1px, 1px, 1px, 1px);height: 1px;margin: -1px;overflow: hidden;padding: 0;position: absolute;width: 1px;}#sk-container-id-7 div.sk-estimator {font-family: monospace;background-color: #f0f8ff;border: 1px dotted black;border-radius: 0.25em;box-sizing: border-box;margin-bottom: 0.5em;}#sk-container-id-7 div.sk-estimator:hover {background-color: #d4ebff;}#sk-container-id-7 div.sk-parallel-item::after {content: \"\";width: 100%;border-bottom: 1px solid gray;flex-grow: 1;}#sk-container-id-7 div.sk-label:hover label.sk-toggleable__label {background-color: #d4ebff;}#sk-container-id-7 div.sk-serial::before {content: \"\";position: absolute;border-left: 1px solid gray;box-sizing: border-box;top: 0;bottom: 0;left: 50%;z-index: 0;}#sk-container-id-7 div.sk-serial {display: flex;flex-direction: column;align-items: center;background-color: white;padding-right: 0.2em;padding-left: 0.2em;position: relative;}#sk-container-id-7 div.sk-item {position: relative;z-index: 1;}#sk-container-id-7 div.sk-parallel {display: flex;align-items: stretch;justify-content: center;background-color: white;position: relative;}#sk-container-id-7 div.sk-item::before, #sk-container-id-7 div.sk-parallel-item::before {content: \"\";position: absolute;border-left: 1px solid gray;box-sizing: border-box;top: 0;bottom: 0;left: 50%;z-index: -1;}#sk-container-id-7 div.sk-parallel-item {display: flex;flex-direction: column;z-index: 1;position: relative;background-color: white;}#sk-container-id-7 div.sk-parallel-item:first-child::after {align-self: flex-end;width: 50%;}#sk-container-id-7 div.sk-parallel-item:last-child::after {align-self: flex-start;width: 50%;}#sk-container-id-7 div.sk-parallel-item:only-child::after {width: 0;}#sk-container-id-7 div.sk-dashed-wrapped {border: 1px dashed gray;margin: 0 0.4em 0.5em 0.4em;box-sizing: border-box;padding-bottom: 0.4em;background-color: white;}#sk-container-id-7 div.sk-label label {font-family: monospace;font-weight: bold;display: inline-block;line-height: 1.2em;}#sk-container-id-7 div.sk-label-container {text-align: center;}#sk-container-id-7 div.sk-container {/* jupyter's `normalize.less` sets `[hidden] { display: none; }` but bootstrap.min.css set `[hidden] { display: none !important; }` so we also need the `!important` here to be able to override the default hidden behavior on the sphinx rendered scikit-learn.org. See: https://github.com/scikit-learn/scikit-learn/issues/21755 */display: inline-block !important;position: relative;}#sk-container-id-7 div.sk-text-repr-fallback {display: none;}</style><div id=\"sk-container-id-7\" class=\"sk-top-container\"><div class=\"sk-text-repr-fallback\"><pre>GridSearchCV(cv=5,\n",
       "             estimator=Pipeline(steps=[(&#x27;cvec&#x27;, CountVectorizer()),\n",
       "                                       (&#x27;svc&#x27;, LinearSVC())]),\n",
       "             param_grid={&#x27;cvec__max_df&#x27;: [0.9], &#x27;cvec__max_features&#x27;: [4000],\n",
       "                         &#x27;cvec__min_df&#x27;: [5], &#x27;cvec__ngram_range&#x27;: [(1, 2)],\n",
       "                         &#x27;cvec__stop_words&#x27;: [None, &#x27;english&#x27;],\n",
       "                         &#x27;svc__C&#x27;: array([1.00000e-04, 2.50075e-01, 5.00050e-01, 7.50025e-01, 1.00000e+00])})</pre><b>In a Jupyter environment, please rerun this cell to show the HTML representation or trust the notebook. <br />On GitHub, the HTML representation is unable to render, please try loading this page with nbviewer.org.</b></div><div class=\"sk-container\" hidden><div class=\"sk-item sk-dashed-wrapped\"><div class=\"sk-label-container\"><div class=\"sk-label sk-toggleable\"><input class=\"sk-toggleable__control sk-hidden--visually\" id=\"sk-estimator-id-25\" type=\"checkbox\" ><label for=\"sk-estimator-id-25\" class=\"sk-toggleable__label sk-toggleable__label-arrow\">GridSearchCV</label><div class=\"sk-toggleable__content\"><pre>GridSearchCV(cv=5,\n",
       "             estimator=Pipeline(steps=[(&#x27;cvec&#x27;, CountVectorizer()),\n",
       "                                       (&#x27;svc&#x27;, LinearSVC())]),\n",
       "             param_grid={&#x27;cvec__max_df&#x27;: [0.9], &#x27;cvec__max_features&#x27;: [4000],\n",
       "                         &#x27;cvec__min_df&#x27;: [5], &#x27;cvec__ngram_range&#x27;: [(1, 2)],\n",
       "                         &#x27;cvec__stop_words&#x27;: [None, &#x27;english&#x27;],\n",
       "                         &#x27;svc__C&#x27;: array([1.00000e-04, 2.50075e-01, 5.00050e-01, 7.50025e-01, 1.00000e+00])})</pre></div></div></div><div class=\"sk-parallel\"><div class=\"sk-parallel-item\"><div class=\"sk-item\"><div class=\"sk-label-container\"><div class=\"sk-label sk-toggleable\"><input class=\"sk-toggleable__control sk-hidden--visually\" id=\"sk-estimator-id-26\" type=\"checkbox\" ><label for=\"sk-estimator-id-26\" class=\"sk-toggleable__label sk-toggleable__label-arrow\">estimator: Pipeline</label><div class=\"sk-toggleable__content\"><pre>Pipeline(steps=[(&#x27;cvec&#x27;, CountVectorizer()), (&#x27;svc&#x27;, LinearSVC())])</pre></div></div></div><div class=\"sk-serial\"><div class=\"sk-item\"><div class=\"sk-serial\"><div class=\"sk-item\"><div class=\"sk-estimator sk-toggleable\"><input class=\"sk-toggleable__control sk-hidden--visually\" id=\"sk-estimator-id-27\" type=\"checkbox\" ><label for=\"sk-estimator-id-27\" class=\"sk-toggleable__label sk-toggleable__label-arrow\">CountVectorizer</label><div class=\"sk-toggleable__content\"><pre>CountVectorizer()</pre></div></div></div><div class=\"sk-item\"><div class=\"sk-estimator sk-toggleable\"><input class=\"sk-toggleable__control sk-hidden--visually\" id=\"sk-estimator-id-28\" type=\"checkbox\" ><label for=\"sk-estimator-id-28\" class=\"sk-toggleable__label sk-toggleable__label-arrow\">LinearSVC</label><div class=\"sk-toggleable__content\"><pre>LinearSVC()</pre></div></div></div></div></div></div></div></div></div></div></div></div>"
      ],
      "text/plain": [
       "GridSearchCV(cv=5,\n",
       "             estimator=Pipeline(steps=[('cvec', CountVectorizer()),\n",
       "                                       ('svc', LinearSVC())]),\n",
       "             param_grid={'cvec__max_df': [0.9], 'cvec__max_features': [4000],\n",
       "                         'cvec__min_df': [5], 'cvec__ngram_range': [(1, 2)],\n",
       "                         'cvec__stop_words': [None, 'english'],\n",
       "                         'svc__C': array([1.00000e-04, 2.50075e-01, 5.00050e-01, 7.50025e-01, 1.00000e+00])})"
      ]
     },
     "execution_count": 93,
     "metadata": {},
     "output_type": "execute_result"
    }
   ],
   "source": [
    "# Fit GridSearch to training data.\n",
    "gs_svc.fit(X_train,y_train)"
   ]
  },
  {
   "cell_type": "code",
   "execution_count": 94,
   "id": "4d3f425d-7997-49d6-9564-3c2a267c4f3e",
   "metadata": {},
   "outputs": [
    {
     "data": {
      "text/plain": [
       "{'cvec__max_df': 0.9,\n",
       " 'cvec__max_features': 4000,\n",
       " 'cvec__min_df': 5,\n",
       " 'cvec__ngram_range': (1, 2),\n",
       " 'cvec__stop_words': None,\n",
       " 'svc__C': 0.250075}"
      ]
     },
     "execution_count": 94,
     "metadata": {},
     "output_type": "execute_result"
    }
   ],
   "source": [
    "gs_svc.best_params_"
   ]
  },
  {
   "cell_type": "code",
   "execution_count": 95,
   "id": "7cbb005c-bcca-4350-84d7-2f253942e19d",
   "metadata": {},
   "outputs": [],
   "source": [
    "# Get predictions\n",
    "preds_svc = gs_svc.predict(X_test)"
   ]
  },
  {
   "cell_type": "code",
   "execution_count": 96,
   "id": "deffe6a1-584c-447d-9bfb-9be35c1668cb",
   "metadata": {},
   "outputs": [
    {
     "data": {
      "text/html": [
       "<div>\n",
       "<style scoped>\n",
       "    .dataframe tbody tr th:only-of-type {\n",
       "        vertical-align: middle;\n",
       "    }\n",
       "\n",
       "    .dataframe tbody tr th {\n",
       "        vertical-align: top;\n",
       "    }\n",
       "\n",
       "    .dataframe thead th {\n",
       "        text-align: right;\n",
       "    }\n",
       "</style>\n",
       "<table border=\"1\" class=\"dataframe\">\n",
       "  <thead>\n",
       "    <tr style=\"text-align: right;\">\n",
       "      <th></th>\n",
       "      <th>Model</th>\n",
       "      <th>Score on train</th>\n",
       "      <th>Score on test</th>\n",
       "      <th>Sensitivity</th>\n",
       "      <th>Specificity</th>\n",
       "      <th>Precision</th>\n",
       "    </tr>\n",
       "  </thead>\n",
       "  <tbody>\n",
       "    <tr>\n",
       "      <th>0</th>\n",
       "      <td>LinearSVC</td>\n",
       "      <td>0.98</td>\n",
       "      <td>0.882</td>\n",
       "      <td>0.838</td>\n",
       "      <td>0.924</td>\n",
       "      <td>0.912</td>\n",
       "    </tr>\n",
       "  </tbody>\n",
       "</table>\n",
       "</div>"
      ],
      "text/plain": [
       "       Model  Score on train  Score on test  Sensitivity  Specificity  \\\n",
       "0  LinearSVC            0.98          0.882        0.838        0.924   \n",
       "\n",
       "   Precision  \n",
       "0      0.912  "
      ]
     },
     "execution_count": 96,
     "metadata": {},
     "output_type": "execute_result"
    }
   ],
   "source": [
    "svc = evaluation('LinearSVC',y_test,preds_svc,gs_svc)\n",
    "svc"
   ]
  },
  {
   "cell_type": "code",
   "execution_count": 97,
   "id": "0fe4a32a-31f6-4220-aad4-85f01c601cfc",
   "metadata": {},
   "outputs": [
    {
     "data": {
      "image/png": "[encoded data removed]",
      "text/plain": [
       "<Figure size 640x480 with 2 Axes>"
      ]
     },
     "metadata": {},
     "output_type": "display_data"
    }
   ],
   "source": [
    "plot_confusion(y_test,preds_svc,gs_svc);\n",
    "plt.title('Confusion matrix from LinearSVC');\n",
    "plt.savefig(\"./img/Cvec/Confusion_matrix_from_LinearSVC.jpg\", dpi=300)"
   ]
  },
  {
   "cell_type": "markdown",
   "id": "7ac345d3-ce2b-4a4a-a520-050760015fe4",
   "metadata": {},
   "source": [
    "From the confusion matrix, we see that the true positives and true negatives are significantly higher compared to the false positives and the false negatives, which means the model can predict the AI texts more accurately and is confirmed from the above evaluation table for the model when looking at the sensitivity, specificity, and precision of the model."
   ]
  },
  {
   "cell_type": "markdown",
   "id": "6315269c-93be-43e4-839c-4c441cda2e8a",
   "metadata": {},
   "source": [
    "### Illustrate all scores in one table"
   ]
  },
  {
   "cell_type": "code",
   "execution_count": 98,
   "id": "7706aa2f-a350-424d-9aaf-5d9cf4b1d50b",
   "metadata": {},
   "outputs": [],
   "source": [
    "Table = pd.concat([logr,Randomfc,knn,mnb,bnb,abc,svc],ignore_index=True)"
   ]
  },
  {
   "cell_type": "code",
   "execution_count": 99,
   "id": "962e7d18-71ba-49af-ab90-ff676dbe5fb9",
   "metadata": {},
   "outputs": [
    {
     "data": {
      "text/html": [
       "<div>\n",
       "<style scoped>\n",
       "    .dataframe tbody tr th:only-of-type {\n",
       "        vertical-align: middle;\n",
       "    }\n",
       "\n",
       "    .dataframe tbody tr th {\n",
       "        vertical-align: top;\n",
       "    }\n",
       "\n",
       "    .dataframe thead th {\n",
       "        text-align: right;\n",
       "    }\n",
       "</style>\n",
       "<table border=\"1\" class=\"dataframe\">\n",
       "  <thead>\n",
       "    <tr style=\"text-align: right;\">\n",
       "      <th></th>\n",
       "      <th>Score on train</th>\n",
       "      <th>Score on test</th>\n",
       "      <th>Sensitivity</th>\n",
       "      <th>Specificity</th>\n",
       "      <th>Precision</th>\n",
       "    </tr>\n",
       "    <tr>\n",
       "      <th>Model</th>\n",
       "      <th></th>\n",
       "      <th></th>\n",
       "      <th></th>\n",
       "      <th></th>\n",
       "      <th></th>\n",
       "    </tr>\n",
       "  </thead>\n",
       "  <tbody>\n",
       "    <tr>\n",
       "      <th>logr</th>\n",
       "      <td>0.959</td>\n",
       "      <td>0.895</td>\n",
       "      <td>0.843</td>\n",
       "      <td>0.944</td>\n",
       "      <td>0.934</td>\n",
       "    </tr>\n",
       "    <tr>\n",
       "      <th>Randomfc</th>\n",
       "      <td>0.997</td>\n",
       "      <td>0.887</td>\n",
       "      <td>0.881</td>\n",
       "      <td>0.893</td>\n",
       "      <td>0.885</td>\n",
       "    </tr>\n",
       "    <tr>\n",
       "      <th>KNN</th>\n",
       "      <td>0.879</td>\n",
       "      <td>0.804</td>\n",
       "      <td>0.695</td>\n",
       "      <td>0.906</td>\n",
       "      <td>0.874</td>\n",
       "    </tr>\n",
       "    <tr>\n",
       "      <th>MultinomialNB</th>\n",
       "      <td>0.842</td>\n",
       "      <td>0.815</td>\n",
       "      <td>0.883</td>\n",
       "      <td>0.751</td>\n",
       "      <td>0.769</td>\n",
       "    </tr>\n",
       "    <tr>\n",
       "      <th>BernoulliNB</th>\n",
       "      <td>0.871</td>\n",
       "      <td>0.850</td>\n",
       "      <td>0.796</td>\n",
       "      <td>0.900</td>\n",
       "      <td>0.882</td>\n",
       "    </tr>\n",
       "    <tr>\n",
       "      <th>AdaBoostClassifier</th>\n",
       "      <td>0.922</td>\n",
       "      <td>0.886</td>\n",
       "      <td>0.843</td>\n",
       "      <td>0.926</td>\n",
       "      <td>0.914</td>\n",
       "    </tr>\n",
       "    <tr>\n",
       "      <th>LinearSVC</th>\n",
       "      <td>0.980</td>\n",
       "      <td>0.882</td>\n",
       "      <td>0.838</td>\n",
       "      <td>0.924</td>\n",
       "      <td>0.912</td>\n",
       "    </tr>\n",
       "  </tbody>\n",
       "</table>\n",
       "</div>"
      ],
      "text/plain": [
       "                    Score on train  Score on test  Sensitivity  Specificity  \\\n",
       "Model                                                                         \n",
       "logr                         0.959          0.895        0.843        0.944   \n",
       "Randomfc                     0.997          0.887        0.881        0.893   \n",
       "KNN                          0.879          0.804        0.695        0.906   \n",
       "MultinomialNB                0.842          0.815        0.883        0.751   \n",
       "BernoulliNB                  0.871          0.850        0.796        0.900   \n",
       "AdaBoostClassifier           0.922          0.886        0.843        0.926   \n",
       "LinearSVC                    0.980          0.882        0.838        0.924   \n",
       "\n",
       "                    Precision  \n",
       "Model                          \n",
       "logr                    0.934  \n",
       "Randomfc                0.885  \n",
       "KNN                     0.874  \n",
       "MultinomialNB           0.769  \n",
       "BernoulliNB             0.882  \n",
       "AdaBoostClassifier      0.914  \n",
       "LinearSVC               0.912  "
      ]
     },
     "execution_count": 99,
     "metadata": {},
     "output_type": "execute_result"
    }
   ],
   "source": [
    "Table.set_index('Model')"
   ]
  },
  {
   "cell_type": "markdown",
   "id": "ea1f8381-c537-4f60-8235-c83bc5ca6737",
   "metadata": {},
   "source": [
    "# Identify the best model"
   ]
  },
  {
   "cell_type": "code",
   "execution_count": 100,
   "id": "2ed09fe9-164e-41f7-a2b0-c2547e64fea9",
   "metadata": {},
   "outputs": [],
   "source": [
    "# Pickle the best fitted pipeline\n",
    "with open('./models/logr_pipe.pkl', 'wb') as f:\n",
    "    pickle.dump(pipe_logr, f)"
   ]
  },
  {
   "cell_type": "markdown",
   "id": "95fe4474-309c-4b5a-a08e-9096f9067730",
   "metadata": {},
   "source": [
    "**Ref: The idea for the model evaluation function and for the confusion matrix display function was taken from the GA lecture notebooks.**"
   ]
  }
 ],
 "metadata": {
  "kernelspec": {
   "display_name": "Python 3 (ipykernel)",
   "language": "python",
   "name": "python3"
  },
  "language_info": {
   "codemirror_mode": {
    "name": "ipython",
    "version": 3
   },
   "file_extension": ".py",
   "mimetype": "text/x-python",
   "name": "python",
   "nbconvert_exporter": "python",
   "pygments_lexer": "ipython3",
   "version": "3.9.17"
  }
 },
 "nbformat": 4,
 "nbformat_minor": 5
}

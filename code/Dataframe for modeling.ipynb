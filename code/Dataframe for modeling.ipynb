{
 "cells": [
  {
   "cell_type": "markdown",
   "id": "0ace158f-ce00-467f-983e-a1c42b22f35f",
   "metadata": {},
   "source": [
    "# Creating a dataframe with quesion answer pairs"
   ]
  },
  {
   "cell_type": "code",
   "execution_count": 1,
   "id": "f4868484-0923-4aab-ac03-c17829030625",
   "metadata": {},
   "outputs": [],
   "source": [
    "# Import all the Libraries\n",
    "import numpy as np\n",
    "import pandas as pd\n",
    "import html\n",
    "import re\n",
    "\n",
    "from sklearn.model_selection import train_test_split,GridSearchCV\n",
    "from sklearn.feature_extraction.text import TfidfVectorizer,CountVectorizer\n",
    "from sklearn.linear_model import LogisticRegressionCV\n",
    "from sklearn.metrics import accuracy_score, classification_report"
   ]
  },
  {
   "cell_type": "markdown",
   "id": "66f84a2a-7f15-437f-9129-9c3e9262f87b",
   "metadata": {},
   "source": [
    "**SubReddits**\n",
    "\n",
    "The following subreddits were chosen to collect question-answer pairs.\n",
    "\n",
    "- science\n",
    "- relationship_advice\n",
    "- funny\n",
    "- NoStupidQuestions\n",
    "- AskReddit\n",
    "- gaming\n",
    "- unresolvedmysteries\n",
    "- wewantplates\n",
    "- disneyvacation\n",
    "- talesfromretail\n",
    "- antiMLM\n",
    "- IDontWorkHereLady\n",
    "- nevertellmetheodds\n",
    "- publicfreakout"
   ]
  },
  {
   "cell_type": "code",
   "execution_count": 2,
   "id": "afda97dc-5471-4c8c-a2b9-82dfc346abc3",
   "metadata": {},
   "outputs": [],
   "source": [
    "SubReddits =    ['science',\n",
    "                'relationship_advice',\n",
    "                'funny',\n",
    "                'NoStupidQuestions',\n",
    "                'AskReddit',\n",
    "                'gaming',\n",
    "                'unresolvedmysteries',\n",
    "                'wewantplates',\n",
    "                'disneyvacation',\n",
    "                'talesfromretail',\n",
    "                'antiMLM',\n",
    "                'IDontWorkHereLady',\n",
    "                'nevertellmetheodds',\n",
    "                'publicfreakout']"
   ]
  },
  {
   "cell_type": "code",
   "execution_count": 4,
   "id": "435a4de0-e118-4656-97ee-6efcad4b54b9",
   "metadata": {},
   "outputs": [],
   "source": [
    "## Read all the SubReddits .csv files \n",
    "read_csv = [pd.read_csv(j) for j in ['../data/'+i+'.csv' for i in SubReddits]]"
   ]
  },
  {
   "cell_type": "code",
   "execution_count": 5,
   "id": "3c5ddddb-794a-461c-9fea-4122de82d835",
   "metadata": {},
   "outputs": [],
   "source": [
    "## Concat all dataframe into a single dataframe\n",
    "data=pd.concat([read_csv[i].drop(columns= ['Unnamed: 0']) for i in range(len(read_csv))])"
   ]
  },
  {
   "cell_type": "code",
   "execution_count": 6,
   "id": "98362cb4-c687-4672-ab89-6e0c95fbf718",
   "metadata": {},
   "outputs": [],
   "source": [
    "### Drop nans\n",
    "data.dropna(inplace= True)"
   ]
  },
  {
   "cell_type": "code",
   "execution_count": 7,
   "id": "77aabb0b-68dd-4e56-aeda-cbffbb22eee8",
   "metadata": {},
   "outputs": [],
   "source": [
    "# Reset the index to make it continuous\n",
    "data.reset_index(drop=True, inplace=True)"
   ]
  },
  {
   "cell_type": "code",
   "execution_count": 8,
   "id": "24559b34-3fd6-4311-8398-ad32cba8f553",
   "metadata": {},
   "outputs": [
    {
     "data": {
      "text/plain": [
       "(6206, 3)"
      ]
     },
     "execution_count": 8,
     "metadata": {},
     "output_type": "execute_result"
    }
   ],
   "source": [
    "data.shape"
   ]
  },
  {
   "cell_type": "code",
   "execution_count": 9,
   "id": "f5f9a308-3b67-40cb-a62a-467673b9cb55",
   "metadata": {},
   "outputs": [
    {
     "data": {
      "text/html": [
       "<div>\n",
       "<style scoped>\n",
       "    .dataframe tbody tr th:only-of-type {\n",
       "        vertical-align: middle;\n",
       "    }\n",
       "\n",
       "    .dataframe tbody tr th {\n",
       "        vertical-align: top;\n",
       "    }\n",
       "\n",
       "    .dataframe thead th {\n",
       "        text-align: right;\n",
       "    }\n",
       "</style>\n",
       "<table border=\"1\" class=\"dataframe\">\n",
       "  <thead>\n",
       "    <tr style=\"text-align: right;\">\n",
       "      <th></th>\n",
       "      <th>question</th>\n",
       "      <th>human_answer</th>\n",
       "      <th>ai_answer</th>\n",
       "    </tr>\n",
       "  </thead>\n",
       "  <tbody>\n",
       "    <tr>\n",
       "      <th>0</th>\n",
       "      <td>Men's shoulder-to-hip ratios influence neuroph...</td>\n",
       "      <td>Y'all, the point isn't that they confirmed tha...</td>\n",
       "      <td>. Men who have shoulder-to-hip ratios of 0.9 o...</td>\n",
       "    </tr>\n",
       "    <tr>\n",
       "      <th>1</th>\n",
       "      <td>Pro-circle arguments for a new futuristic city...</td>\n",
       "      <td>Who would willingly live in a super long priso...</td>\n",
       "      <td>1. This new futuristic city will create an unp...</td>\n",
       "    </tr>\n",
       "    <tr>\n",
       "      <th>2</th>\n",
       "      <td>Researchers have successfully transferred a ge...</td>\n",
       "      <td>For those unfamiliar, tobacco is a plant that ...</td>\n",
       "      <td>.\\n\\nYes, this is possible. Scientists have us...</td>\n",
       "    </tr>\n",
       "    <tr>\n",
       "      <th>3</th>\n",
       "      <td>Boosting the ‘warm glow’ feeling that people e...</td>\n",
       "      <td>I think there’s missing information in that he...</td>\n",
       "      <td>Warm-glow messaging can be used to encourage r...</td>\n",
       "    </tr>\n",
       "    <tr>\n",
       "      <th>4</th>\n",
       "      <td>Social myths on nuclear waste being targeted i...</td>\n",
       "      <td>Great news. The war against nuclear power, fun...</td>\n",
       "      <td>1. Nuclear waste is too dangerous to store saf...</td>\n",
       "    </tr>\n",
       "  </tbody>\n",
       "</table>\n",
       "</div>"
      ],
      "text/plain": [
       "                                            question  \\\n",
       "0  Men's shoulder-to-hip ratios influence neuroph...   \n",
       "1  Pro-circle arguments for a new futuristic city...   \n",
       "2  Researchers have successfully transferred a ge...   \n",
       "3  Boosting the ‘warm glow’ feeling that people e...   \n",
       "4  Social myths on nuclear waste being targeted i...   \n",
       "\n",
       "                                        human_answer  \\\n",
       "0  Y'all, the point isn't that they confirmed tha...   \n",
       "1  Who would willingly live in a super long priso...   \n",
       "2  For those unfamiliar, tobacco is a plant that ...   \n",
       "3  I think there’s missing information in that he...   \n",
       "4  Great news. The war against nuclear power, fun...   \n",
       "\n",
       "                                           ai_answer  \n",
       "0  . Men who have shoulder-to-hip ratios of 0.9 o...  \n",
       "1  1. This new futuristic city will create an unp...  \n",
       "2  .\\n\\nYes, this is possible. Scientists have us...  \n",
       "3  Warm-glow messaging can be used to encourage r...  \n",
       "4  1. Nuclear waste is too dangerous to store saf...  "
      ]
     },
     "execution_count": 9,
     "metadata": {},
     "output_type": "execute_result"
    }
   ],
   "source": [
    "data.head()"
   ]
  },
  {
   "cell_type": "markdown",
   "id": "1325f95a-d366-4a74-986d-912edf7166d6",
   "metadata": {},
   "source": [
    "##### If **Human** return 0,\n",
    "##### If **AI** return 1"
   ]
  },
  {
   "cell_type": "code",
   "execution_count": 10,
   "id": "25251e86-0eda-453f-8ef0-4317763702ca",
   "metadata": {},
   "outputs": [],
   "source": [
    "## Create a separate data frame for human answers\n",
    "data1 = pd.DataFrame({'question':data['question'], 'Answer':data['human_answer'], 'human_ai': 0})"
   ]
  },
  {
   "cell_type": "code",
   "execution_count": 11,
   "id": "88d6b3ea-1008-4557-86b6-509f2828b562",
   "metadata": {},
   "outputs": [],
   "source": [
    "## Create a separate data frame for ai answers\n",
    "data2 = pd.DataFrame({'question':data['question'], 'Answer':data['ai_answer'], 'human_ai': 1})"
   ]
  },
  {
   "cell_type": "code",
   "execution_count": 12,
   "id": "d0006e9b-ddee-40e7-92fd-5ed1fdad3d58",
   "metadata": {},
   "outputs": [],
   "source": [
    "## Concat the two dataframes\n",
    "df = pd.concat([data1,data2])\n",
    "# Reset the index to make it continuous\n",
    "df.reset_index(drop=True, inplace=True)"
   ]
  },
  {
   "cell_type": "code",
   "execution_count": 17,
   "id": "4263a4b4-7bea-4576-9944-55ae87a30d27",
   "metadata": {},
   "outputs": [],
   "source": [
    "df = df.loc[:,'Answer':]"
   ]
  },
  {
   "cell_type": "code",
   "execution_count": 21,
   "id": "bb2f4b87-a048-420e-85d6-fcc278958432",
   "metadata": {},
   "outputs": [],
   "source": [
    "df.columns = ['text','generated']"
   ]
  },
  {
   "cell_type": "code",
   "execution_count": 22,
   "id": "a2d5a875-57a9-4b73-acf4-6858864b6806",
   "metadata": {},
   "outputs": [
    {
     "data": {
      "text/html": [
       "<div>\n",
       "<style scoped>\n",
       "    .dataframe tbody tr th:only-of-type {\n",
       "        vertical-align: middle;\n",
       "    }\n",
       "\n",
       "    .dataframe tbody tr th {\n",
       "        vertical-align: top;\n",
       "    }\n",
       "\n",
       "    .dataframe thead th {\n",
       "        text-align: right;\n",
       "    }\n",
       "</style>\n",
       "<table border=\"1\" class=\"dataframe\">\n",
       "  <thead>\n",
       "    <tr style=\"text-align: right;\">\n",
       "      <th></th>\n",
       "      <th>text</th>\n",
       "      <th>generated</th>\n",
       "    </tr>\n",
       "  </thead>\n",
       "  <tbody>\n",
       "    <tr>\n",
       "      <th>0</th>\n",
       "      <td>Y'all, the point isn't that they confirmed tha...</td>\n",
       "      <td>0</td>\n",
       "    </tr>\n",
       "    <tr>\n",
       "      <th>1</th>\n",
       "      <td>Who would willingly live in a super long priso...</td>\n",
       "      <td>0</td>\n",
       "    </tr>\n",
       "    <tr>\n",
       "      <th>2</th>\n",
       "      <td>For those unfamiliar, tobacco is a plant that ...</td>\n",
       "      <td>0</td>\n",
       "    </tr>\n",
       "    <tr>\n",
       "      <th>3</th>\n",
       "      <td>I think there’s missing information in that he...</td>\n",
       "      <td>0</td>\n",
       "    </tr>\n",
       "    <tr>\n",
       "      <th>4</th>\n",
       "      <td>Great news. The war against nuclear power, fun...</td>\n",
       "      <td>0</td>\n",
       "    </tr>\n",
       "    <tr>\n",
       "      <th>...</th>\n",
       "      <td>...</td>\n",
       "      <td>...</td>\n",
       "    </tr>\n",
       "    <tr>\n",
       "      <th>12407</th>\n",
       "      <td>, but in the end, he was no match for his oppo...</td>\n",
       "      <td>1</td>\n",
       "    </tr>\n",
       "    <tr>\n",
       "      <th>12408</th>\n",
       "      <td>In Argentina, the police will typically appreh...</td>\n",
       "      <td>1</td>\n",
       "    </tr>\n",
       "    <tr>\n",
       "      <th>12409</th>\n",
       "      <td>This is a very serious crime and would be inve...</td>\n",
       "      <td>1</td>\n",
       "    </tr>\n",
       "    <tr>\n",
       "      <th>12410</th>\n",
       "      <td>We're all breaking down in different ways. Som...</td>\n",
       "      <td>1</td>\n",
       "    </tr>\n",
       "    <tr>\n",
       "      <th>12411</th>\n",
       "      <td>Karen, it's time for you to go home. It's gett...</td>\n",
       "      <td>1</td>\n",
       "    </tr>\n",
       "  </tbody>\n",
       "</table>\n",
       "<p>12412 rows × 2 columns</p>\n",
       "</div>"
      ],
      "text/plain": [
       "                                                    text  generated\n",
       "0      Y'all, the point isn't that they confirmed tha...          0\n",
       "1      Who would willingly live in a super long priso...          0\n",
       "2      For those unfamiliar, tobacco is a plant that ...          0\n",
       "3      I think there’s missing information in that he...          0\n",
       "4      Great news. The war against nuclear power, fun...          0\n",
       "...                                                  ...        ...\n",
       "12407  , but in the end, he was no match for his oppo...          1\n",
       "12408  In Argentina, the police will typically appreh...          1\n",
       "12409  This is a very serious crime and would be inve...          1\n",
       "12410  We're all breaking down in different ways. Som...          1\n",
       "12411  Karen, it's time for you to go home. It's gett...          1\n",
       "\n",
       "[12412 rows x 2 columns]"
      ]
     },
     "execution_count": 22,
     "metadata": {},
     "output_type": "execute_result"
    }
   ],
   "source": [
    "df"
   ]
  },
  {
   "cell_type": "code",
   "execution_count": 24,
   "id": "0fdf6d93-807d-4848-86a6-1da7e3268bcf",
   "metadata": {},
   "outputs": [],
   "source": [
    "# Save the dataframe\n",
    "df.to_csv('../data/human_ai.csv',index=False)"
   ]
  },
  {
   "cell_type": "code",
   "execution_count": 19,
   "id": "738d76f9-6d92-4567-a1b7-9e351d721eeb",
   "metadata": {},
   "outputs": [
    {
     "data": {
      "text/html": [
       "<div>\n",
       "<style scoped>\n",
       "    .dataframe tbody tr th:only-of-type {\n",
       "        vertical-align: middle;\n",
       "    }\n",
       "\n",
       "    .dataframe tbody tr th {\n",
       "        vertical-align: top;\n",
       "    }\n",
       "\n",
       "    .dataframe thead th {\n",
       "        text-align: right;\n",
       "    }\n",
       "</style>\n",
       "<table border=\"1\" class=\"dataframe\">\n",
       "  <thead>\n",
       "    <tr style=\"text-align: right;\">\n",
       "      <th></th>\n",
       "      <th>question</th>\n",
       "      <th>Answer</th>\n",
       "      <th>human_ai</th>\n",
       "    </tr>\n",
       "  </thead>\n",
       "  <tbody>\n",
       "    <tr>\n",
       "      <th>0</th>\n",
       "      <td>Men's shoulder-to-hip ratios influence neuroph...</td>\n",
       "      <td>Y'all, the point isn't that they confirmed tha...</td>\n",
       "      <td>0</td>\n",
       "    </tr>\n",
       "    <tr>\n",
       "      <th>1</th>\n",
       "      <td>Pro-circle arguments for a new futuristic city...</td>\n",
       "      <td>Who would willingly live in a super long priso...</td>\n",
       "      <td>0</td>\n",
       "    </tr>\n",
       "    <tr>\n",
       "      <th>2</th>\n",
       "      <td>Researchers have successfully transferred a ge...</td>\n",
       "      <td>For those unfamiliar, tobacco is a plant that ...</td>\n",
       "      <td>0</td>\n",
       "    </tr>\n",
       "    <tr>\n",
       "      <th>3</th>\n",
       "      <td>Boosting the ‘warm glow’ feeling that people e...</td>\n",
       "      <td>I think there’s missing information in that he...</td>\n",
       "      <td>0</td>\n",
       "    </tr>\n",
       "    <tr>\n",
       "      <th>4</th>\n",
       "      <td>Social myths on nuclear waste being targeted i...</td>\n",
       "      <td>Great news. The war against nuclear power, fun...</td>\n",
       "      <td>0</td>\n",
       "    </tr>\n",
       "    <tr>\n",
       "      <th>...</th>\n",
       "      <td>...</td>\n",
       "      <td>...</td>\n",
       "      <td>...</td>\n",
       "    </tr>\n",
       "    <tr>\n",
       "      <th>6201</th>\n",
       "      <td>I mean he certainly didn't go down without a f...</td>\n",
       "      <td>Lmao.  “That hurt” I bet that shit did.</td>\n",
       "      <td>0</td>\n",
       "    </tr>\n",
       "    <tr>\n",
       "      <th>6202</th>\n",
       "      <td>In Argentina they capture a thief, tie him up ...</td>\n",
       "      <td>Lmao. They threw him in there with ease like I...</td>\n",
       "      <td>0</td>\n",
       "    </tr>\n",
       "    <tr>\n",
       "      <th>6203</th>\n",
       "      <td>3 guys jump out of a car and rob a lady. (Chic...</td>\n",
       "      <td>That poor woman. What absolute scum those guys...</td>\n",
       "      <td>0</td>\n",
       "    </tr>\n",
       "    <tr>\n",
       "      <th>6204</th>\n",
       "      <td>We're all breaking down...</td>\n",
       "      <td>\"The government literally announces that alien...</td>\n",
       "      <td>0</td>\n",
       "    </tr>\n",
       "    <tr>\n",
       "      <th>6205</th>\n",
       "      <td>Karen Go Home</td>\n",
       "      <td>Back away, banana breath! What the hell did yo...</td>\n",
       "      <td>0</td>\n",
       "    </tr>\n",
       "  </tbody>\n",
       "</table>\n",
       "<p>6206 rows × 3 columns</p>\n",
       "</div>"
      ],
      "text/plain": [
       "                                               question  \\\n",
       "0     Men's shoulder-to-hip ratios influence neuroph...   \n",
       "1     Pro-circle arguments for a new futuristic city...   \n",
       "2     Researchers have successfully transferred a ge...   \n",
       "3     Boosting the ‘warm glow’ feeling that people e...   \n",
       "4     Social myths on nuclear waste being targeted i...   \n",
       "...                                                 ...   \n",
       "6201  I mean he certainly didn't go down without a f...   \n",
       "6202  In Argentina they capture a thief, tie him up ...   \n",
       "6203  3 guys jump out of a car and rob a lady. (Chic...   \n",
       "6204                         We're all breaking down...   \n",
       "6205                                      Karen Go Home   \n",
       "\n",
       "                                                 Answer  human_ai  \n",
       "0     Y'all, the point isn't that they confirmed tha...         0  \n",
       "1     Who would willingly live in a super long priso...         0  \n",
       "2     For those unfamiliar, tobacco is a plant that ...         0  \n",
       "3     I think there’s missing information in that he...         0  \n",
       "4     Great news. The war against nuclear power, fun...         0  \n",
       "...                                                 ...       ...  \n",
       "6201            Lmao.  “That hurt” I bet that shit did.         0  \n",
       "6202  Lmao. They threw him in there with ease like I...         0  \n",
       "6203  That poor woman. What absolute scum those guys...         0  \n",
       "6204  \"The government literally announces that alien...         0  \n",
       "6205  Back away, banana breath! What the hell did yo...         0  \n",
       "\n",
       "[6206 rows x 3 columns]"
      ]
     },
     "execution_count": 19,
     "metadata": {},
     "output_type": "execute_result"
    }
   ],
   "source": [
    "data1"
   ]
  },
  {
   "cell_type": "code",
   "execution_count": 20,
   "id": "5f5a7b1d-4071-4406-a227-7d9e336fff38",
   "metadata": {},
   "outputs": [
    {
     "data": {
      "text/html": [
       "<div>\n",
       "<style scoped>\n",
       "    .dataframe tbody tr th:only-of-type {\n",
       "        vertical-align: middle;\n",
       "    }\n",
       "\n",
       "    .dataframe tbody tr th {\n",
       "        vertical-align: top;\n",
       "    }\n",
       "\n",
       "    .dataframe thead th {\n",
       "        text-align: right;\n",
       "    }\n",
       "</style>\n",
       "<table border=\"1\" class=\"dataframe\">\n",
       "  <thead>\n",
       "    <tr style=\"text-align: right;\">\n",
       "      <th></th>\n",
       "      <th>question</th>\n",
       "      <th>Answer</th>\n",
       "      <th>human_ai</th>\n",
       "    </tr>\n",
       "  </thead>\n",
       "  <tbody>\n",
       "    <tr>\n",
       "      <th>0</th>\n",
       "      <td>Men's shoulder-to-hip ratios influence neuroph...</td>\n",
       "      <td>. Men who have shoulder-to-hip ratios of 0.9 o...</td>\n",
       "      <td>1</td>\n",
       "    </tr>\n",
       "    <tr>\n",
       "      <th>1</th>\n",
       "      <td>Pro-circle arguments for a new futuristic city...</td>\n",
       "      <td>1. This new futuristic city will create an unp...</td>\n",
       "      <td>1</td>\n",
       "    </tr>\n",
       "    <tr>\n",
       "      <th>2</th>\n",
       "      <td>Researchers have successfully transferred a ge...</td>\n",
       "      <td>.\\n\\nYes, this is possible. Scientists have us...</td>\n",
       "      <td>1</td>\n",
       "    </tr>\n",
       "    <tr>\n",
       "      <th>3</th>\n",
       "      <td>Boosting the ‘warm glow’ feeling that people e...</td>\n",
       "      <td>Warm-glow messaging can be used to encourage r...</td>\n",
       "      <td>1</td>\n",
       "    </tr>\n",
       "    <tr>\n",
       "      <th>4</th>\n",
       "      <td>Social myths on nuclear waste being targeted i...</td>\n",
       "      <td>1. Nuclear waste is too dangerous to store saf...</td>\n",
       "      <td>1</td>\n",
       "    </tr>\n",
       "    <tr>\n",
       "      <th>...</th>\n",
       "      <td>...</td>\n",
       "      <td>...</td>\n",
       "      <td>...</td>\n",
       "    </tr>\n",
       "    <tr>\n",
       "      <th>6201</th>\n",
       "      <td>I mean he certainly didn't go down without a f...</td>\n",
       "      <td>, but in the end, he was no match for his oppo...</td>\n",
       "      <td>1</td>\n",
       "    </tr>\n",
       "    <tr>\n",
       "      <th>6202</th>\n",
       "      <td>In Argentina they capture a thief, tie him up ...</td>\n",
       "      <td>In Argentina, the police will typically appreh...</td>\n",
       "      <td>1</td>\n",
       "    </tr>\n",
       "    <tr>\n",
       "      <th>6203</th>\n",
       "      <td>3 guys jump out of a car and rob a lady. (Chic...</td>\n",
       "      <td>This is a very serious crime and would be inve...</td>\n",
       "      <td>1</td>\n",
       "    </tr>\n",
       "    <tr>\n",
       "      <th>6204</th>\n",
       "      <td>We're all breaking down...</td>\n",
       "      <td>We're all breaking down in different ways. Som...</td>\n",
       "      <td>1</td>\n",
       "    </tr>\n",
       "    <tr>\n",
       "      <th>6205</th>\n",
       "      <td>Karen Go Home</td>\n",
       "      <td>Karen, it's time for you to go home. It's gett...</td>\n",
       "      <td>1</td>\n",
       "    </tr>\n",
       "  </tbody>\n",
       "</table>\n",
       "<p>6206 rows × 3 columns</p>\n",
       "</div>"
      ],
      "text/plain": [
       "                                               question  \\\n",
       "0     Men's shoulder-to-hip ratios influence neuroph...   \n",
       "1     Pro-circle arguments for a new futuristic city...   \n",
       "2     Researchers have successfully transferred a ge...   \n",
       "3     Boosting the ‘warm glow’ feeling that people e...   \n",
       "4     Social myths on nuclear waste being targeted i...   \n",
       "...                                                 ...   \n",
       "6201  I mean he certainly didn't go down without a f...   \n",
       "6202  In Argentina they capture a thief, tie him up ...   \n",
       "6203  3 guys jump out of a car and rob a lady. (Chic...   \n",
       "6204                         We're all breaking down...   \n",
       "6205                                      Karen Go Home   \n",
       "\n",
       "                                                 Answer  human_ai  \n",
       "0     . Men who have shoulder-to-hip ratios of 0.9 o...         1  \n",
       "1     1. This new futuristic city will create an unp...         1  \n",
       "2     .\\n\\nYes, this is possible. Scientists have us...         1  \n",
       "3     Warm-glow messaging can be used to encourage r...         1  \n",
       "4     1. Nuclear waste is too dangerous to store saf...         1  \n",
       "...                                                 ...       ...  \n",
       "6201  , but in the end, he was no match for his oppo...         1  \n",
       "6202  In Argentina, the police will typically appreh...         1  \n",
       "6203  This is a very serious crime and would be inve...         1  \n",
       "6204  We're all breaking down in different ways. Som...         1  \n",
       "6205  Karen, it's time for you to go home. It's gett...         1  \n",
       "\n",
       "[6206 rows x 3 columns]"
      ]
     },
     "execution_count": 20,
     "metadata": {},
     "output_type": "execute_result"
    }
   ],
   "source": [
    "data2"
   ]
  },
  {
   "cell_type": "code",
   "execution_count": null,
   "id": "a7c49e7d-b89a-4823-a034-7f07bda574f7",
   "metadata": {},
   "outputs": [],
   "source": []
  },
  {
   "cell_type": "code",
   "execution_count": null,
   "id": "5d9affdd-927c-4abd-a784-1778035a6e68",
   "metadata": {},
   "outputs": [],
   "source": []
  },
  {
   "cell_type": "code",
   "execution_count": null,
   "id": "0d97844c-d608-4feb-b5e0-6c560a75c46d",
   "metadata": {},
   "outputs": [],
   "source": []
  },
  {
   "cell_type": "code",
   "execution_count": null,
   "id": "af7f55f7-dfa0-44e1-b110-92f0091ead5d",
   "metadata": {},
   "outputs": [],
   "source": []
  },
  {
   "cell_type": "code",
   "execution_count": null,
   "id": "0bda8b17-97e0-4786-b54f-4b528d1d1566",
   "metadata": {},
   "outputs": [],
   "source": []
  },
  {
   "cell_type": "code",
   "execution_count": null,
   "id": "e5a4d87e-4c32-4036-b51e-40a9d0d4f9f7",
   "metadata": {},
   "outputs": [],
   "source": []
  },
  {
   "cell_type": "code",
   "execution_count": null,
   "id": "ffff18e4-5ee7-4c70-a3b6-94a95f0c9a93",
   "metadata": {},
   "outputs": [],
   "source": []
  },
  {
   "cell_type": "code",
   "execution_count": null,
   "id": "dbbd72f9-f4ac-4dda-8bdc-f96ca63b23f5",
   "metadata": {},
   "outputs": [],
   "source": []
  },
  {
   "cell_type": "code",
   "execution_count": 22,
   "id": "d909a899-f929-430d-bed9-3b7703653a43",
   "metadata": {},
   "outputs": [
    {
     "data": {
      "text/plain": [
       "'.\\n\\nYes, this is possible. Scientists have used genetic engineering techniques to create a variety of plants that are sterile, meaning they lack the ability to produce pollen and viable seeds. These plants have been created in a variety of crops, including tobacco. The genetic modification used to create these plants involves the introduction of a gene that disrupts the plant’s reproductive cycle, preventing it from producing pollen and viable seeds. This technique is commonly used to produce hybrid plants, which have desirable traits but are unable to reproduce.'"
      ]
     },
     "execution_count": 22,
     "metadata": {},
     "output_type": "execute_result"
    }
   ],
   "source": [
    "html.unescape(result['ai_answer'][2])"
   ]
  },
  {
   "cell_type": "code",
   "execution_count": 23,
   "id": "aa78ade7-bbdb-452b-8cd3-d5febfd31517",
   "metadata": {},
   "outputs": [
    {
     "data": {
      "text/plain": [
       "'. Yes, this is possible. Scientists have used genetic engineering techniques to create a variety of plants that are sterile, meaning they lack the ability to produce pollen and viable seeds. These plants have been created in a variety of crops, including tobacco. The genetic modification used to create these plants involves the introduction of a gene that disrupts the plant’s reproductive cycle, preventing it from producing pollen and viable seeds. This technique is commonly used to produce hybrid plants, which have desirable traits but are unable to reproduce.'"
      ]
     },
     "execution_count": 23,
     "metadata": {},
     "output_type": "execute_result"
    }
   ],
   "source": [
    "re.sub(r'([.!?])\\n\\n', r'\\1 ', result['ai_answer'][2])"
   ]
  },
  {
   "cell_type": "code",
   "execution_count": 24,
   "id": "df2a6b70-564d-4dcf-864f-e7d938105382",
   "metadata": {},
   "outputs": [
    {
     "data": {
      "text/plain": [
       "'We wish you the best in life and dont worry man\\U0001fae1'"
      ]
     },
     "execution_count": 24,
     "metadata": {},
     "output_type": "execute_result"
    }
   ],
   "source": [
    "result['human_answer'][556]"
   ]
  },
  {
   "cell_type": "code",
   "execution_count": 27,
   "id": "f41d5bc8-7fe1-4b74-abde-67024f89dc9e",
   "metadata": {},
   "outputs": [],
   "source": [
    "import numpy as np"
   ]
  },
  {
   "cell_type": "code",
   "execution_count": 28,
   "id": "991a27fd-08f9-4069-8bc9-dbc9eaf1adeb",
   "metadata": {},
   "outputs": [],
   "source": [
    "alphas = np.logspace(-4, 2, 100)"
   ]
  },
  {
   "cell_type": "code",
   "execution_count": 29,
   "id": "a5fcc87f-61b3-4627-8992-4bef7b9eed2c",
   "metadata": {},
   "outputs": [
    {
     "data": {
      "text/plain": [
       "array([1.00000000e-04, 1.14975700e-04, 1.32194115e-04, 1.51991108e-04,\n",
       "       1.74752840e-04, 2.00923300e-04, 2.31012970e-04, 2.65608778e-04,\n",
       "       3.05385551e-04, 3.51119173e-04, 4.03701726e-04, 4.64158883e-04,\n",
       "       5.33669923e-04, 6.13590727e-04, 7.05480231e-04, 8.11130831e-04,\n",
       "       9.32603347e-04, 1.07226722e-03, 1.23284674e-03, 1.41747416e-03,\n",
       "       1.62975083e-03, 1.87381742e-03, 2.15443469e-03, 2.47707636e-03,\n",
       "       2.84803587e-03, 3.27454916e-03, 3.76493581e-03, 4.32876128e-03,\n",
       "       4.97702356e-03, 5.72236766e-03, 6.57933225e-03, 7.56463328e-03,\n",
       "       8.69749003e-03, 1.00000000e-02, 1.14975700e-02, 1.32194115e-02,\n",
       "       1.51991108e-02, 1.74752840e-02, 2.00923300e-02, 2.31012970e-02,\n",
       "       2.65608778e-02, 3.05385551e-02, 3.51119173e-02, 4.03701726e-02,\n",
       "       4.64158883e-02, 5.33669923e-02, 6.13590727e-02, 7.05480231e-02,\n",
       "       8.11130831e-02, 9.32603347e-02, 1.07226722e-01, 1.23284674e-01,\n",
       "       1.41747416e-01, 1.62975083e-01, 1.87381742e-01, 2.15443469e-01,\n",
       "       2.47707636e-01, 2.84803587e-01, 3.27454916e-01, 3.76493581e-01,\n",
       "       4.32876128e-01, 4.97702356e-01, 5.72236766e-01, 6.57933225e-01,\n",
       "       7.56463328e-01, 8.69749003e-01, 1.00000000e+00, 1.14975700e+00,\n",
       "       1.32194115e+00, 1.51991108e+00, 1.74752840e+00, 2.00923300e+00,\n",
       "       2.31012970e+00, 2.65608778e+00, 3.05385551e+00, 3.51119173e+00,\n",
       "       4.03701726e+00, 4.64158883e+00, 5.33669923e+00, 6.13590727e+00,\n",
       "       7.05480231e+00, 8.11130831e+00, 9.32603347e+00, 1.07226722e+01,\n",
       "       1.23284674e+01, 1.41747416e+01, 1.62975083e+01, 1.87381742e+01,\n",
       "       2.15443469e+01, 2.47707636e+01, 2.84803587e+01, 3.27454916e+01,\n",
       "       3.76493581e+01, 4.32876128e+01, 4.97702356e+01, 5.72236766e+01,\n",
       "       6.57933225e+01, 7.56463328e+01, 8.69749003e+01, 1.00000000e+02])"
      ]
     },
     "execution_count": 29,
     "metadata": {},
     "output_type": "execute_result"
    }
   ],
   "source": [
    "alphas"
   ]
  },
  {
   "cell_type": "code",
   "execution_count": 30,
   "id": "fe63952d-cdaf-4db9-b679-3ea96ad62700",
   "metadata": {},
   "outputs": [
    {
     "data": {
      "text/plain": [
       "100.0"
      ]
     },
     "execution_count": 30,
     "metadata": {},
     "output_type": "execute_result"
    }
   ],
   "source": [
    "1.00000000e+02"
   ]
  },
  {
   "cell_type": "code",
   "execution_count": null,
   "id": "171a70d8-0ee1-4ad0-91a8-fe899a559cf3",
   "metadata": {},
   "outputs": [],
   "source": []
  }
 ],
 "metadata": {
  "kernelspec": {
   "display_name": "Python 3 (ipykernel)",
   "language": "python",
   "name": "python3"
  },
  "language_info": {
   "codemirror_mode": {
    "name": "ipython",
    "version": 3
   },
   "file_extension": ".py",
   "mimetype": "text/x-python",
   "name": "python",
   "nbconvert_exporter": "python",
   "pygments_lexer": "ipython3",
   "version": "3.9.17"
  }
 },
 "nbformat": 4,
 "nbformat_minor": 5
}

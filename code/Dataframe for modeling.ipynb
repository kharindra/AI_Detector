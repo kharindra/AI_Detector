{
 "cells": [
  {
   "cell_type": "markdown",
   "id": "0ace158f-ce00-467f-983e-a1c42b22f35f",
   "metadata": {},
   "source": [
    "# Creating a dataframe with quesion answer pairs"
   ]
  },
  {
   "cell_type": "code",
   "execution_count": 2,
   "id": "f4868484-0923-4aab-ac03-c17829030625",
   "metadata": {},
   "outputs": [],
   "source": [
    "# Import all the Libraries\n",
    "import numpy as np\n",
    "import pandas as pd\n",
    "import html\n",
    "import re\n",
    "\n",
    "from sklearn.model_selection import train_test_split,GridSearchCV\n",
    "from sklearn.feature_extraction.text import TfidfVectorizer,CountVectorizer\n",
    "from sklearn.linear_model import LogisticRegressionCV\n",
    "from sklearn.metrics import accuracy_score, classification_report"
   ]
  },
  {
   "cell_type": "markdown",
   "id": "66f84a2a-7f15-437f-9129-9c3e9262f87b",
   "metadata": {},
   "source": [
    "**SubReddits**\n",
    "\n",
    "The following subreddits were chosen to collect question-answer pairs.\n",
    "\n",
    "- science\n",
    "- relationship_advice\n",
    "- funny\n",
    "- NoStupidQuestions\n",
    "- AskReddit\n",
    "- gaming\n",
    "- unresolvedmysteries\n",
    "- wewantplates\n",
    "- disneyvacation\n",
    "- talesfromretail\n",
    "- antiMLM\n",
    "- IDontWorkHereLady\n",
    "- nevertellmetheodds\n",
    "- publicfreakout"
   ]
  },
  {
   "cell_type": "code",
   "execution_count": 3,
   "id": "afda97dc-5471-4c8c-a2b9-82dfc346abc3",
   "metadata": {},
   "outputs": [],
   "source": [
    "SubReddits =    ['science',\n",
    "                'relationship_advice',\n",
    "                'funny',\n",
    "                'NoStupidQuestions',\n",
    "                'AskReddit',\n",
    "                'gaming',\n",
    "                'unresolvedmysteries',\n",
    "                'wewantplates',\n",
    "                'disneyvacation',\n",
    "                'talesfromretail',\n",
    "                'antiMLM',\n",
    "                'IDontWorkHereLady',\n",
    "                'nevertellmetheodds',\n",
    "                'publicfreakout']"
   ]
  },
  {
   "cell_type": "code",
   "execution_count": 4,
   "id": "435a4de0-e118-4656-97ee-6efcad4b54b9",
   "metadata": {},
   "outputs": [],
   "source": [
    "## Read all the SubReddits .csv files \n",
    "read_csv = [pd.read_csv(j) for j in ['../data/'+i+'.csv' for i in SubReddits]]"
   ]
  },
  {
   "cell_type": "code",
   "execution_count": 5,
   "id": "3c5ddddb-794a-461c-9fea-4122de82d835",
   "metadata": {},
   "outputs": [],
   "source": [
    "## Concat all dataframe into a single dataframe\n",
    "data=pd.concat([read_csv[i].drop(columns= ['Unnamed: 0']) for i in range(len(read_csv))])"
   ]
  },
  {
   "cell_type": "code",
   "execution_count": 6,
   "id": "98362cb4-c687-4672-ab89-6e0c95fbf718",
   "metadata": {},
   "outputs": [],
   "source": [
    "### Drop nans\n",
    "data.dropna(inplace= True)"
   ]
  },
  {
   "cell_type": "code",
   "execution_count": 7,
   "id": "77aabb0b-68dd-4e56-aeda-cbffbb22eee8",
   "metadata": {},
   "outputs": [],
   "source": [
    "# Reset the index to make it continuous\n",
    "data.reset_index(drop=True, inplace=True)"
   ]
  },
  {
   "cell_type": "code",
   "execution_count": 8,
   "id": "24559b34-3fd6-4311-8398-ad32cba8f553",
   "metadata": {},
   "outputs": [
    {
     "data": {
      "text/plain": [
       "(6206, 3)"
      ]
     },
     "execution_count": 8,
     "metadata": {},
     "output_type": "execute_result"
    }
   ],
   "source": [
    "data.shape"
   ]
  },
  {
   "cell_type": "code",
   "execution_count": 9,
   "id": "f5f9a308-3b67-40cb-a62a-467673b9cb55",
   "metadata": {},
   "outputs": [
    {
     "data": {
      "text/html": [
       "<div>\n",
       "<style scoped>\n",
       "    .dataframe tbody tr th:only-of-type {\n",
       "        vertical-align: middle;\n",
       "    }\n",
       "\n",
       "    .dataframe tbody tr th {\n",
       "        vertical-align: top;\n",
       "    }\n",
       "\n",
       "    .dataframe thead th {\n",
       "        text-align: right;\n",
       "    }\n",
       "</style>\n",
       "<table border=\"1\" class=\"dataframe\">\n",
       "  <thead>\n",
       "    <tr style=\"text-align: right;\">\n",
       "      <th></th>\n",
       "      <th>question</th>\n",
       "      <th>human_answer</th>\n",
       "      <th>ai_answer</th>\n",
       "    </tr>\n",
       "  </thead>\n",
       "  <tbody>\n",
       "    <tr>\n",
       "      <th>0</th>\n",
       "      <td>Men's shoulder-to-hip ratios influence neuroph...</td>\n",
       "      <td>Y'all, the point isn't that they confirmed tha...</td>\n",
       "      <td>. Men who have shoulder-to-hip ratios of 0.9 o...</td>\n",
       "    </tr>\n",
       "    <tr>\n",
       "      <th>1</th>\n",
       "      <td>Pro-circle arguments for a new futuristic city...</td>\n",
       "      <td>Who would willingly live in a super long priso...</td>\n",
       "      <td>1. This new futuristic city will create an unp...</td>\n",
       "    </tr>\n",
       "    <tr>\n",
       "      <th>2</th>\n",
       "      <td>Researchers have successfully transferred a ge...</td>\n",
       "      <td>For those unfamiliar, tobacco is a plant that ...</td>\n",
       "      <td>.\\n\\nYes, this is possible. Scientists have us...</td>\n",
       "    </tr>\n",
       "    <tr>\n",
       "      <th>3</th>\n",
       "      <td>Boosting the ‘warm glow’ feeling that people e...</td>\n",
       "      <td>I think there’s missing information in that he...</td>\n",
       "      <td>Warm-glow messaging can be used to encourage r...</td>\n",
       "    </tr>\n",
       "    <tr>\n",
       "      <th>4</th>\n",
       "      <td>Social myths on nuclear waste being targeted i...</td>\n",
       "      <td>Great news. The war against nuclear power, fun...</td>\n",
       "      <td>1. Nuclear waste is too dangerous to store saf...</td>\n",
       "    </tr>\n",
       "  </tbody>\n",
       "</table>\n",
       "</div>"
      ],
      "text/plain": [
       "                                            question  \\\n",
       "0  Men's shoulder-to-hip ratios influence neuroph...   \n",
       "1  Pro-circle arguments for a new futuristic city...   \n",
       "2  Researchers have successfully transferred a ge...   \n",
       "3  Boosting the ‘warm glow’ feeling that people e...   \n",
       "4  Social myths on nuclear waste being targeted i...   \n",
       "\n",
       "                                        human_answer  \\\n",
       "0  Y'all, the point isn't that they confirmed tha...   \n",
       "1  Who would willingly live in a super long priso...   \n",
       "2  For those unfamiliar, tobacco is a plant that ...   \n",
       "3  I think there’s missing information in that he...   \n",
       "4  Great news. The war against nuclear power, fun...   \n",
       "\n",
       "                                           ai_answer  \n",
       "0  . Men who have shoulder-to-hip ratios of 0.9 o...  \n",
       "1  1. This new futuristic city will create an unp...  \n",
       "2  .\\n\\nYes, this is possible. Scientists have us...  \n",
       "3  Warm-glow messaging can be used to encourage r...  \n",
       "4  1. Nuclear waste is too dangerous to store saf...  "
      ]
     },
     "execution_count": 9,
     "metadata": {},
     "output_type": "execute_result"
    }
   ],
   "source": [
    "data.head()"
   ]
  },
  {
   "cell_type": "markdown",
   "id": "1325f95a-d366-4a74-986d-912edf7166d6",
   "metadata": {},
   "source": [
    "##### If **Human** return 0,\n",
    "##### If **AI** return 1"
   ]
  },
  {
   "cell_type": "code",
   "execution_count": 10,
   "id": "25251e86-0eda-453f-8ef0-4317763702ca",
   "metadata": {},
   "outputs": [],
   "source": [
    "## Create a separate data frame for human answers\n",
    "data1 = pd.DataFrame({'question':data['question'], 'Answer':data['human_answer'], 'human_ai': 0})"
   ]
  },
  {
   "cell_type": "code",
   "execution_count": 11,
   "id": "88d6b3ea-1008-4557-86b6-509f2828b562",
   "metadata": {},
   "outputs": [],
   "source": [
    "## Create a separate data frame for ai answers\n",
    "data2 = pd.DataFrame({'question':data['question'], 'Answer':data['ai_answer'], 'human_ai': 1})"
   ]
  },
  {
   "cell_type": "code",
   "execution_count": 12,
   "id": "d0006e9b-ddee-40e7-92fd-5ed1fdad3d58",
   "metadata": {},
   "outputs": [],
   "source": [
    "## Concat the two dataframes\n",
    "df = pd.concat([data1,data2])\n",
    "# Reset the index to make it continuous\n",
    "df.reset_index(drop=True, inplace=True)"
   ]
  },
  {
   "cell_type": "code",
   "execution_count": 13,
   "id": "4263a4b4-7bea-4576-9944-55ae87a30d27",
   "metadata": {},
   "outputs": [],
   "source": [
    "df = df.loc[:,'Answer':]"
   ]
  },
  {
   "cell_type": "code",
   "execution_count": 14,
   "id": "bb2f4b87-a048-420e-85d6-fcc278958432",
   "metadata": {},
   "outputs": [],
   "source": [
    "df.columns = ['text','generated']"
   ]
  },
  {
   "cell_type": "code",
   "execution_count": 15,
   "id": "a2d5a875-57a9-4b73-acf4-6858864b6806",
   "metadata": {},
   "outputs": [
    {
     "data": {
      "text/html": [
       "<div>\n",
       "<style scoped>\n",
       "    .dataframe tbody tr th:only-of-type {\n",
       "        vertical-align: middle;\n",
       "    }\n",
       "\n",
       "    .dataframe tbody tr th {\n",
       "        vertical-align: top;\n",
       "    }\n",
       "\n",
       "    .dataframe thead th {\n",
       "        text-align: right;\n",
       "    }\n",
       "</style>\n",
       "<table border=\"1\" class=\"dataframe\">\n",
       "  <thead>\n",
       "    <tr style=\"text-align: right;\">\n",
       "      <th></th>\n",
       "      <th>text</th>\n",
       "      <th>generated</th>\n",
       "    </tr>\n",
       "  </thead>\n",
       "  <tbody>\n",
       "    <tr>\n",
       "      <th>0</th>\n",
       "      <td>Y'all, the point isn't that they confirmed tha...</td>\n",
       "      <td>0</td>\n",
       "    </tr>\n",
       "    <tr>\n",
       "      <th>1</th>\n",
       "      <td>Who would willingly live in a super long priso...</td>\n",
       "      <td>0</td>\n",
       "    </tr>\n",
       "    <tr>\n",
       "      <th>2</th>\n",
       "      <td>For those unfamiliar, tobacco is a plant that ...</td>\n",
       "      <td>0</td>\n",
       "    </tr>\n",
       "    <tr>\n",
       "      <th>3</th>\n",
       "      <td>I think there’s missing information in that he...</td>\n",
       "      <td>0</td>\n",
       "    </tr>\n",
       "    <tr>\n",
       "      <th>4</th>\n",
       "      <td>Great news. The war against nuclear power, fun...</td>\n",
       "      <td>0</td>\n",
       "    </tr>\n",
       "    <tr>\n",
       "      <th>...</th>\n",
       "      <td>...</td>\n",
       "      <td>...</td>\n",
       "    </tr>\n",
       "    <tr>\n",
       "      <th>12407</th>\n",
       "      <td>, but in the end, he was no match for his oppo...</td>\n",
       "      <td>1</td>\n",
       "    </tr>\n",
       "    <tr>\n",
       "      <th>12408</th>\n",
       "      <td>In Argentina, the police will typically appreh...</td>\n",
       "      <td>1</td>\n",
       "    </tr>\n",
       "    <tr>\n",
       "      <th>12409</th>\n",
       "      <td>This is a very serious crime and would be inve...</td>\n",
       "      <td>1</td>\n",
       "    </tr>\n",
       "    <tr>\n",
       "      <th>12410</th>\n",
       "      <td>We're all breaking down in different ways. Som...</td>\n",
       "      <td>1</td>\n",
       "    </tr>\n",
       "    <tr>\n",
       "      <th>12411</th>\n",
       "      <td>Karen, it's time for you to go home. It's gett...</td>\n",
       "      <td>1</td>\n",
       "    </tr>\n",
       "  </tbody>\n",
       "</table>\n",
       "<p>12412 rows × 2 columns</p>\n",
       "</div>"
      ],
      "text/plain": [
       "                                                    text  generated\n",
       "0      Y'all, the point isn't that they confirmed tha...          0\n",
       "1      Who would willingly live in a super long priso...          0\n",
       "2      For those unfamiliar, tobacco is a plant that ...          0\n",
       "3      I think there’s missing information in that he...          0\n",
       "4      Great news. The war against nuclear power, fun...          0\n",
       "...                                                  ...        ...\n",
       "12407  , but in the end, he was no match for his oppo...          1\n",
       "12408  In Argentina, the police will typically appreh...          1\n",
       "12409  This is a very serious crime and would be inve...          1\n",
       "12410  We're all breaking down in different ways. Som...          1\n",
       "12411  Karen, it's time for you to go home. It's gett...          1\n",
       "\n",
       "[12412 rows x 2 columns]"
      ]
     },
     "execution_count": 15,
     "metadata": {},
     "output_type": "execute_result"
    }
   ],
   "source": [
    "df"
   ]
  },
  {
   "cell_type": "code",
   "execution_count": 16,
   "id": "0fdf6d93-807d-4848-86a6-1da7e3268bcf",
   "metadata": {},
   "outputs": [],
   "source": [
    "# Save the dataframe\n",
    "#df.to_csv('../data/human_ai.csv',index=False)"
   ]
  }
 ],
 "metadata": {
  "kernelspec": {
   "display_name": "Python 3 (ipykernel)",
   "language": "python",
   "name": "python3"
  },
  "language_info": {
   "codemirror_mode": {
    "name": "ipython",
    "version": 3
   },
   "file_extension": ".py",
   "mimetype": "text/x-python",
   "name": "python",
   "nbconvert_exporter": "python",
   "pygments_lexer": "ipython3",
   "version": "3.9.17"
  }
 },
 "nbformat": 4,
 "nbformat_minor": 5
}

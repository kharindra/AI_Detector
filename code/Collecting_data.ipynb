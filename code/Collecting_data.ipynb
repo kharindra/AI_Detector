{
 "cells": [
  {
   "cell_type": "markdown",
   "id": "9248be15-1f09-4f6e-a0f7-e1cdb29dd7c3",
   "metadata": {},
   "source": [
    "## Collecting data from subreddit and openai"
   ]
  },
  {
   "cell_type": "markdown",
   "id": "54717972-4c90-4ea0-a17b-01cb8d506c7d",
   "metadata": {},
   "source": [
    "#### From Praw"
   ]
  },
  {
   "cell_type": "code",
   "execution_count": 1,
   "id": "4dc5dd61-b4fc-42ac-8530-67a97dc62f7d",
   "metadata": {},
   "outputs": [],
   "source": [
    "import praw"
   ]
  },
  {
   "cell_type": "markdown",
   "id": "a7cc9170-4ca9-47d2-bf2b-a67c71024a31",
   "metadata": {},
   "source": [
    "#### Using praw credentilas"
   ]
  },
  {
   "cell_type": "code",
   "execution_count": 28,
   "id": "442bd7c0-5d89-4de3-9b72-7a8e30f6db85",
   "metadata": {},
   "outputs": [],
   "source": [
    "reddit = praw.Reddit()"
   ]
  },
  {
   "cell_type": "markdown",
   "id": "4e338eac-da8e-4c67-b1a5-dfd311f808ad",
   "metadata": {},
   "source": [
    "#### Select the specific subreddit"
   ]
  },
  {
   "cell_type": "code",
   "execution_count": 3,
   "id": "efdeea6d-11c9-4d4a-8f82-d484c69515a1",
   "metadata": {},
   "outputs": [],
   "source": [
    "my_subreddit = 'nevertellmetheodds'"
   ]
  },
  {
   "cell_type": "code",
   "execution_count": 4,
   "id": "48ca4bde-5b15-4945-9394-56f3df55562b",
   "metadata": {},
   "outputs": [],
   "source": [
    "try:\n",
    "    posts = reddit.subreddit(my_subreddit).hot(limit=5000)\n",
    "except StopIteration:\n",
    "    print(f\"Less than 5000 posts in subreddit {my_subreddit}\")\n",
    "    posts = []\n",
    "\n",
    "posts_list = []\n",
    "\n",
    "for post in posts:\n",
    "    if not post.over_18:\n",
    "        post.comments.replace_more(limit=0)\n",
    "        highest_ups = -1\n",
    "        best_comment = None\n",
    "        for comment in post.comments.list():\n",
    "            if isinstance(comment, praw.models.MoreComments):\n",
    "                # Handle MoreComments objects if needed\n",
    "                continue  # Skip to the next iteration\n",
    "            if comment.ups > highest_ups:\n",
    "                best_comment = comment.body\n",
    "                highest_ups = comment.ups\n",
    "        posts_list.append({\n",
    "            'title': post.title,\n",
    "            'selftext': post.selftext,\n",
    "            'subreddit': post.subreddit.display_name,  \n",
    "            'post_created_utc': post.created_utc,\n",
    "            'top_comment': best_comment,\n",
    "            'comment_upvotes': highest_ups\n",
    "        })"
   ]
  },
  {
   "cell_type": "markdown",
   "id": "2f710240-b64a-4034-8741-43d44fbf26b8",
   "metadata": {},
   "source": [
    "**The above code is slightly modified from the original version of Eric Bayless**"
   ]
  },
  {
   "cell_type": "code",
   "execution_count": 5,
   "id": "0563ad4f-98f7-45ec-b801-de04ab9684e5",
   "metadata": {},
   "outputs": [
    {
     "name": "stdout",
     "output_type": "stream",
     "text": [
      "Number of posts from reddit: 218\n"
     ]
    }
   ],
   "source": [
    "print(f\"Number of posts from reddit: {len(posts_list)}\")"
   ]
  },
  {
   "cell_type": "markdown",
   "id": "f8e2e8a8-fcad-44ee-8801-09ae552c28c1",
   "metadata": {},
   "source": [
    "## Collecting the ai response from OPENAI"
   ]
  },
  {
   "cell_type": "code",
   "execution_count": 6,
   "id": "e526d265-9961-4c6c-ac9c-5336449b8030",
   "metadata": {},
   "outputs": [],
   "source": [
    "import os\n",
    "import openai\n",
    "from dotenv import load_dotenv\n",
    "\n",
    "# Load the .env file\n",
    "load_dotenv()\n",
    "\n",
    "openai.api_key = os.getenv(\"OPENAI_API_KEY\")"
   ]
  },
  {
   "cell_type": "markdown",
   "id": "f8f28aae-b090-46d6-9f5d-6edcba9d85cf",
   "metadata": {},
   "source": [
    "## Batch inputs"
   ]
  },
  {
   "cell_type": "code",
   "execution_count": 7,
   "id": "42685fc4-c9d4-492f-bc06-9b208e0b0de2",
   "metadata": {},
   "outputs": [
    {
     "data": {
      "text/plain": [
       "218"
      ]
     },
     "execution_count": 7,
     "metadata": {},
     "output_type": "execute_result"
    }
   ],
   "source": [
    "davinci_prompts = [p['title'] for p in posts_list]\n",
    "len(davinci_prompts)"
   ]
  },
  {
   "cell_type": "code",
   "execution_count": 8,
   "id": "26631aa9-2048-4a1a-832e-a1c4549e34a5",
   "metadata": {},
   "outputs": [],
   "source": [
    "import backoff \n",
    "import openai \n",
    "@backoff.on_exception(backoff.expo, openai.error.RateLimitError)\n",
    "def completions_with_backoff(**kwargs):\n",
    "    return openai.Completion.create(**kwargs)"
   ]
  },
  {
   "cell_type": "code",
   "execution_count": 9,
   "id": "87c7ed65-f79a-47c9-9adc-0837a345b614",
   "metadata": {},
   "outputs": [],
   "source": [
    "results= [] \n",
    "for i in range(0,len(davinci_prompts),20):\n",
    "    results.append(completions_with_backoff(model = 'text-davinci-003',\n",
    "    prompt=davinci_prompts[i:i+20],\n",
    "    temperature=0.6,\n",
    "    max_tokens= 500))"
   ]
  },
  {
   "cell_type": "code",
   "execution_count": 12,
   "id": "aa2b8553-099f-49e3-aa3b-0f16ea36dab2",
   "metadata": {},
   "outputs": [
    {
     "name": "stdout",
     "output_type": "stream",
     "text": [
      "IndexError: Skipping index (10, 18) as it is out of range.\n",
      "IndexError: Skipping index (10, 19) as it is out of range.\n"
     ]
    }
   ],
   "source": [
    "ai_responses = []\n",
    "\n",
    "for i in range(len(results)):\n",
    "    for j in range(20):\n",
    "        try:\n",
    "            text = results[i]['choices'][j]['text'].strip()\n",
    "            ai_responses.append(text)\n",
    "        except IndexError:\n",
    "            # Handle the case where the index is out of range\n",
    "            print(f\"IndexError: Skipping index ({i}, {j}) as it is out of range.\")"
   ]
  },
  {
   "cell_type": "markdown",
   "id": "5cd07c1d-c1bb-470f-909f-f70e36e57d57",
   "metadata": {},
   "source": [
    "**The above code is slightly modified from the original version of Eric Bayless**"
   ]
  },
  {
   "cell_type": "code",
   "execution_count": 15,
   "id": "e89bb400-106d-4b73-8d74-c01886e3f78a",
   "metadata": {},
   "outputs": [
    {
     "name": "stdout",
     "output_type": "stream",
     "text": [
      "Number of responses from chatgpt : 218\n"
     ]
    }
   ],
   "source": [
    "print(f\"Number of responses from chatgpt : {len(ai_responses)}\")"
   ]
  },
  {
   "cell_type": "code",
   "execution_count": 16,
   "id": "5a4d42c7-ace5-4da6-9406-59c37e69ee70",
   "metadata": {},
   "outputs": [],
   "source": [
    "ai_responses;"
   ]
  },
  {
   "cell_type": "markdown",
   "id": "91bc577f-5cbe-4c4d-a14c-bd3a99c91b75",
   "metadata": {},
   "source": [
    "# Putting it all together"
   ]
  },
  {
   "cell_type": "code",
   "execution_count": 17,
   "id": "79fb56ac-a28a-48ed-bb3c-7d71467f379c",
   "metadata": {},
   "outputs": [],
   "source": [
    "posts_list;"
   ]
  },
  {
   "cell_type": "code",
   "execution_count": 18,
   "id": "967c7d78-2644-47e9-8ab2-3321dd84010e",
   "metadata": {},
   "outputs": [],
   "source": [
    "full_data = [{\n",
    "    'question': i['title'],\n",
    "    'human_answer' : i['top_comment'],\n",
    "    'ai_answer':j} for i,j in zip(posts_list,ai_responses)]\n",
    "full_data;"
   ]
  },
  {
   "cell_type": "code",
   "execution_count": 19,
   "id": "e6e99327-7618-4adc-bf2d-1a893900e2af",
   "metadata": {},
   "outputs": [],
   "source": [
    "import pandas as pd"
   ]
  },
  {
   "cell_type": "code",
   "execution_count": 20,
   "id": "88dbe4ce-7fe1-46f1-9d90-dc5ea8a44662",
   "metadata": {},
   "outputs": [],
   "source": [
    "df = pd.DataFrame(full_data)"
   ]
  },
  {
   "cell_type": "code",
   "execution_count": 21,
   "id": "368b445b-8358-4055-8546-5e35e5f06d38",
   "metadata": {},
   "outputs": [
    {
     "data": {
      "text/plain": [
       "(218, 3)"
      ]
     },
     "execution_count": 21,
     "metadata": {},
     "output_type": "execute_result"
    }
   ],
   "source": [
    "df.shape"
   ]
  },
  {
   "cell_type": "code",
   "execution_count": 22,
   "id": "cfc70267-1498-4456-a2be-dc74ca5cf072",
   "metadata": {},
   "outputs": [
    {
     "data": {
      "text/plain": [
       "'[META] List of Banned Posts on this sub'"
      ]
     },
     "execution_count": 22,
     "metadata": {},
     "output_type": "execute_result"
    }
   ],
   "source": [
    "df['question'][0]"
   ]
  },
  {
   "cell_type": "code",
   "execution_count": 23,
   "id": "8ac5bcca-bada-4f8e-9a3d-156849a1732f",
   "metadata": {},
   "outputs": [
    {
     "data": {
      "text/plain": [
       "'Can someone be kind enough to type this because the link broke on mobile '"
      ]
     },
     "execution_count": 23,
     "metadata": {},
     "output_type": "execute_result"
    }
   ],
   "source": [
    "df['human_answer'][0]"
   ]
  },
  {
   "cell_type": "code",
   "execution_count": 24,
   "id": "18534fd0-5c99-4ac8-9226-33a8b7250cdb",
   "metadata": {},
   "outputs": [
    {
     "data": {
      "text/plain": [
       "\"This subreddit does not allow posts that are:\\n\\n• Spam\\n• Off-topic\\n• Advertising/promoting of products or services\\n• Posts containing hate speech, racism, sexism, or other forms of discrimination\\n• Posts inciting violence or illegal activities\\n• Posts that are overly aggressive or abusive\\n• Posts that are overly sexual or explicit\\n• Posts that are not related to the topic of this subreddit\\n• Posts that are not civil or respectful\\n• Posts that contain personal information\\n• Posts that are considered trolling or baiting\\n• Posts that are in violation of Reddit's site-wide rules\\n• Posts that are not in English\\n• Posts that are intended to generate revenue or profit without prior approval\""
      ]
     },
     "execution_count": 24,
     "metadata": {},
     "output_type": "execute_result"
    }
   ],
   "source": [
    "df['ai_answer'][0]"
   ]
  },
  {
   "cell_type": "code",
   "execution_count": 25,
   "id": "85153c1a-9dd5-4eaf-8042-023f61c59dc3",
   "metadata": {},
   "outputs": [
    {
     "data": {
      "text/html": [
       "<div>\n",
       "<style scoped>\n",
       "    .dataframe tbody tr th:only-of-type {\n",
       "        vertical-align: middle;\n",
       "    }\n",
       "\n",
       "    .dataframe tbody tr th {\n",
       "        vertical-align: top;\n",
       "    }\n",
       "\n",
       "    .dataframe thead th {\n",
       "        text-align: right;\n",
       "    }\n",
       "</style>\n",
       "<table border=\"1\" class=\"dataframe\">\n",
       "  <thead>\n",
       "    <tr style=\"text-align: right;\">\n",
       "      <th></th>\n",
       "      <th>question</th>\n",
       "      <th>human_answer</th>\n",
       "      <th>ai_answer</th>\n",
       "    </tr>\n",
       "  </thead>\n",
       "  <tbody>\n",
       "    <tr>\n",
       "      <th>0</th>\n",
       "      <td>[META] List of Banned Posts on this sub</td>\n",
       "      <td>Can someone be kind enough to type this becaus...</td>\n",
       "      <td>This subreddit does not allow posts that are:\\...</td>\n",
       "    </tr>\n",
       "    <tr>\n",
       "      <th>1</th>\n",
       "      <td>Dropped my soy sauce and it accidentally made ...</td>\n",
       "      <td>a perfect soycle</td>\n",
       "      <td>Accidents happen! Clean up the soy sauce and t...</td>\n",
       "    </tr>\n",
       "    <tr>\n",
       "      <th>2</th>\n",
       "      <td>The way the sunlight reflected off our neighbo...</td>\n",
       "      <td>I'm a genuine fucking idiot. I thought *\"how i...</td>\n",
       "      <td>.</td>\n",
       "    </tr>\n",
       "    <tr>\n",
       "      <th>3</th>\n",
       "      <td>Guy does 360 spin on horseback!</td>\n",
       "      <td>Aww man, it was supposed to be my turn to post...</td>\n",
       "      <td>Yes, it is possible for a person to do a 360 s...</td>\n",
       "    </tr>\n",
       "    <tr>\n",
       "      <th>4</th>\n",
       "      <td>Boat runs aground, balances on keel alone unti...</td>\n",
       "      <td>That is bizarre. Looks like something you’d se...</td>\n",
       "      <td>If a boat runs aground and is balanced on its ...</td>\n",
       "    </tr>\n",
       "    <tr>\n",
       "      <th>...</th>\n",
       "      <td>...</td>\n",
       "      <td>...</td>\n",
       "      <td>...</td>\n",
       "    </tr>\n",
       "    <tr>\n",
       "      <th>213</th>\n",
       "      <td>Dragonfly ate a mosquito that was about to bite</td>\n",
       "      <td>Should post this to AnimalsbeingBros!</td>\n",
       "      <td>me\\n\\nDragonfly is a beneficial insect for hum...</td>\n",
       "    </tr>\n",
       "    <tr>\n",
       "      <th>214</th>\n",
       "      <td>Federer hitting the ball through the net durin...</td>\n",
       "      <td>Sure it can. I just watched it happen</td>\n",
       "      <td>Yes, it is possible for Roger Federer to hit t...</td>\n",
       "    </tr>\n",
       "    <tr>\n",
       "      <th>215</th>\n",
       "      <td>how?!</td>\n",
       "      <td>As scary as that would be, that would be the b...</td>\n",
       "      <td>There is no single answer to this question as ...</td>\n",
       "    </tr>\n",
       "    <tr>\n",
       "      <th>216</th>\n",
       "      <td>Follow the bouncing ball</td>\n",
       "      <td>Camera operator did a sterling job here</td>\n",
       "      <td>Follow the bouncing ball as it moves across th...</td>\n",
       "    </tr>\n",
       "    <tr>\n",
       "      <th>217</th>\n",
       "      <td>Casually wallking down the street</td>\n",
       "      <td>Clever way to get customers into your shop.</td>\n",
       "      <td>I take in the sights of the city as I casually...</td>\n",
       "    </tr>\n",
       "  </tbody>\n",
       "</table>\n",
       "<p>218 rows × 3 columns</p>\n",
       "</div>"
      ],
      "text/plain": [
       "                                              question  \\\n",
       "0              [META] List of Banned Posts on this sub   \n",
       "1    Dropped my soy sauce and it accidentally made ...   \n",
       "2    The way the sunlight reflected off our neighbo...   \n",
       "3                      Guy does 360 spin on horseback!   \n",
       "4    Boat runs aground, balances on keel alone unti...   \n",
       "..                                                 ...   \n",
       "213    Dragonfly ate a mosquito that was about to bite   \n",
       "214  Federer hitting the ball through the net durin...   \n",
       "215                                              how?!   \n",
       "216                           Follow the bouncing ball   \n",
       "217                  Casually wallking down the street   \n",
       "\n",
       "                                          human_answer  \\\n",
       "0    Can someone be kind enough to type this becaus...   \n",
       "1                                     a perfect soycle   \n",
       "2    I'm a genuine fucking idiot. I thought *\"how i...   \n",
       "3    Aww man, it was supposed to be my turn to post...   \n",
       "4    That is bizarre. Looks like something you’d se...   \n",
       "..                                                 ...   \n",
       "213              Should post this to AnimalsbeingBros!   \n",
       "214              Sure it can. I just watched it happen   \n",
       "215  As scary as that would be, that would be the b...   \n",
       "216            Camera operator did a sterling job here   \n",
       "217        Clever way to get customers into your shop.   \n",
       "\n",
       "                                             ai_answer  \n",
       "0    This subreddit does not allow posts that are:\\...  \n",
       "1    Accidents happen! Clean up the soy sauce and t...  \n",
       "2                                                    .  \n",
       "3    Yes, it is possible for a person to do a 360 s...  \n",
       "4    If a boat runs aground and is balanced on its ...  \n",
       "..                                                 ...  \n",
       "213  me\\n\\nDragonfly is a beneficial insect for hum...  \n",
       "214  Yes, it is possible for Roger Federer to hit t...  \n",
       "215  There is no single answer to this question as ...  \n",
       "216  Follow the bouncing ball as it moves across th...  \n",
       "217  I take in the sights of the city as I casually...  \n",
       "\n",
       "[218 rows x 3 columns]"
      ]
     },
     "execution_count": 25,
     "metadata": {},
     "output_type": "execute_result"
    }
   ],
   "source": [
    "df"
   ]
  },
  {
   "cell_type": "markdown",
   "id": "87bf507b-5b6d-477a-98b3-02aa0ec0f580",
   "metadata": {},
   "source": [
    "#### Save the text dataframes into .csv files."
   ]
  },
  {
   "cell_type": "code",
   "execution_count": 26,
   "id": "70103992-affd-4203-8fe6-e6daccfde018",
   "metadata": {},
   "outputs": [],
   "source": [
    "#df.to_csv(my_subreddit + '.csv')"
   ]
  },
  {
   "cell_type": "code",
   "execution_count": 27,
   "id": "efebbaf1-1801-4f19-a579-41071dac7845",
   "metadata": {},
   "outputs": [
    {
     "data": {
      "text/plain": [
       "question        0\n",
       "human_answer    1\n",
       "ai_answer       0\n",
       "dtype: int64"
      ]
     },
     "execution_count": 27,
     "metadata": {},
     "output_type": "execute_result"
    }
   ],
   "source": [
    "df.isnull().sum() # Check for nulls"
   ]
  }
 ],
 "metadata": {
  "kernelspec": {
   "display_name": "Python 3 (ipykernel)",
   "language": "python",
   "name": "python3"
  },
  "language_info": {
   "codemirror_mode": {
    "name": "ipython",
    "version": 3
   },
   "file_extension": ".py",
   "mimetype": "text/x-python",
   "name": "python",
   "nbconvert_exporter": "python",
   "pygments_lexer": "ipython3",
   "version": "3.9.17"
  }
 },
 "nbformat": 4,
 "nbformat_minor": 5
}

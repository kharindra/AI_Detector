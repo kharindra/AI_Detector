{
 "cells": [
  {
   "cell_type": "markdown",
   "id": "bad9d965-50e8-494e-b5a8-c93f15d24f77",
   "metadata": {},
   "source": [
    "## TfidfVectorizer"
   ]
  },
  {
   "cell_type": "code",
   "execution_count": 7,
   "id": "725bcb05-e29f-4150-bad3-cb1d5d9f20c5",
   "metadata": {},
   "outputs": [],
   "source": [
    "## Import libraries\n",
    "import pandas as pd\n",
    "import numpy as np\n",
    "import warnings\n",
    "warnings.filterwarnings('ignore')\n",
    "from nltk.corpus import stopwords\n",
    "import matplotlib.pyplot as plt\n",
    "import seaborn as sns\n",
    "import pickle\n",
    "import nltk\n",
    "\n",
    "from sklearn.svm import LinearSVC\n",
    "from sklearn.ensemble import AdaBoostClassifier\n",
    "from sklearn.neighbors import KNeighborsClassifier\n",
    "from sklearn.metrics import confusion_matrix, ConfusionMatrixDisplay\n",
    "from sklearn.model_selection import train_test_split,GridSearchCV\n",
    "from sklearn.feature_extraction.text import TfidfVectorizer,CountVectorizer\n",
    "from sklearn.linear_model import LogisticRegressionCV\n",
    "from sklearn.ensemble import RandomForestClassifier\n",
    "from sklearn.pipeline import Pipeline\n",
    "from sklearn.naive_bayes import MultinomialNB, BernoulliNB ,GaussianNB\n",
    "from sklearn.metrics import accuracy_score, classification_report"
   ]
  },
  {
   "cell_type": "markdown",
   "id": "568bfd4e-91f0-482d-8c00-d33e1d917c2a",
   "metadata": {},
   "source": [
    "**The models that we are going to use here:**\n",
    "\n",
    "- LogisticRegressionCV\n",
    "- MultinomialNB\n",
    "- BernoulliNB\n",
    "- KNN Classifier\n",
    "- RandomForest Classifier\n",
    "- AdaBoost Classifier\n",
    "- SVM Classifier"
   ]
  },
  {
   "cell_type": "code",
   "execution_count": 8,
   "id": "7f30fcf6-2195-4c7a-9d2a-264fcb1f7dc7",
   "metadata": {},
   "outputs": [],
   "source": [
    "## Load the data\n",
    "df= pd.read_csv('./data/human_ai.csv')"
   ]
  },
  {
   "cell_type": "code",
   "execution_count": 9,
   "id": "f3ad4591-9cdc-4bb8-98b9-78d76b8ea5e7",
   "metadata": {},
   "outputs": [
    {
     "data": {
      "text/html": [
       "<div>\n",
       "<style scoped>\n",
       "    .dataframe tbody tr th:only-of-type {\n",
       "        vertical-align: middle;\n",
       "    }\n",
       "\n",
       "    .dataframe tbody tr th {\n",
       "        vertical-align: top;\n",
       "    }\n",
       "\n",
       "    .dataframe thead th {\n",
       "        text-align: right;\n",
       "    }\n",
       "</style>\n",
       "<table border=\"1\" class=\"dataframe\">\n",
       "  <thead>\n",
       "    <tr style=\"text-align: right;\">\n",
       "      <th></th>\n",
       "      <th>question</th>\n",
       "      <th>Answer</th>\n",
       "      <th>human_ai</th>\n",
       "    </tr>\n",
       "  </thead>\n",
       "  <tbody>\n",
       "    <tr>\n",
       "      <th>0</th>\n",
       "      <td>Men's shoulder-to-hip ratios influence neuroph...</td>\n",
       "      <td>Y'all, the point isn't that they confirmed tha...</td>\n",
       "      <td>0</td>\n",
       "    </tr>\n",
       "    <tr>\n",
       "      <th>1</th>\n",
       "      <td>Pro-circle arguments for a new futuristic city...</td>\n",
       "      <td>Who would willingly live in a super long priso...</td>\n",
       "      <td>0</td>\n",
       "    </tr>\n",
       "    <tr>\n",
       "      <th>2</th>\n",
       "      <td>Researchers have successfully transferred a ge...</td>\n",
       "      <td>For those unfamiliar, tobacco is a plant that ...</td>\n",
       "      <td>0</td>\n",
       "    </tr>\n",
       "    <tr>\n",
       "      <th>3</th>\n",
       "      <td>Boosting the ‘warm glow’ feeling that people e...</td>\n",
       "      <td>I think there’s missing information in that he...</td>\n",
       "      <td>0</td>\n",
       "    </tr>\n",
       "    <tr>\n",
       "      <th>4</th>\n",
       "      <td>Social myths on nuclear waste being targeted i...</td>\n",
       "      <td>Great news. The war against nuclear power, fun...</td>\n",
       "      <td>0</td>\n",
       "    </tr>\n",
       "  </tbody>\n",
       "</table>\n",
       "</div>"
      ],
      "text/plain": [
       "                                            question  \\\n",
       "0  Men's shoulder-to-hip ratios influence neuroph...   \n",
       "1  Pro-circle arguments for a new futuristic city...   \n",
       "2  Researchers have successfully transferred a ge...   \n",
       "3  Boosting the ‘warm glow’ feeling that people e...   \n",
       "4  Social myths on nuclear waste being targeted i...   \n",
       "\n",
       "                                              Answer  human_ai  \n",
       "0  Y'all, the point isn't that they confirmed tha...         0  \n",
       "1  Who would willingly live in a super long priso...         0  \n",
       "2  For those unfamiliar, tobacco is a plant that ...         0  \n",
       "3  I think there’s missing information in that he...         0  \n",
       "4  Great news. The war against nuclear power, fun...         0  "
      ]
     },
     "execution_count": 9,
     "metadata": {},
     "output_type": "execute_result"
    }
   ],
   "source": [
    "df.head()"
   ]
  },
  {
   "cell_type": "markdown",
   "id": "4f1a396b-0d3e-4371-aa7b-1f3f9c5f6cb3",
   "metadata": {},
   "source": [
    "## Removing non english words in answer"
   ]
  },
  {
   "cell_type": "code",
   "execution_count": 10,
   "id": "b131666f-ea23-42b0-9bc2-1d97ce7d5532",
   "metadata": {},
   "outputs": [
    {
     "data": {
      "text/plain": [
       "(12412,)"
      ]
     },
     "execution_count": 10,
     "metadata": {},
     "output_type": "execute_result"
    }
   ],
   "source": [
    "df['Answer'].shape"
   ]
  },
  {
   "cell_type": "code",
   "execution_count": 11,
   "id": "fbcb23fa-4cd6-45e5-a1fe-ac2ff491105b",
   "metadata": {},
   "outputs": [],
   "source": [
    "answers = [df['Answer'][i] for i in range(len(df['Answer']))]"
   ]
  },
  {
   "cell_type": "code",
   "execution_count": 12,
   "id": "a72a0547-bd74-4599-bfb6-b09e28e09fef",
   "metadata": {},
   "outputs": [],
   "source": [
    "words = set(nltk.corpus.words.words())\n",
    "\n",
    "only_english = []\n",
    "for j in answers:\n",
    "    only_english.append(' '.join(w for w in nltk.wordpunct_tokenize(j) if w.lower() in words or not w.isalpha()))"
   ]
  },
  {
   "cell_type": "markdown",
   "id": "f7552e9f-6766-4b6a-8031-e43e8842a223",
   "metadata": {},
   "source": [
    "cite : https://stackoverflow.com/questions/41290028/removing-non-english-words-from-text-using-python"
   ]
  },
  {
   "cell_type": "code",
   "execution_count": 13,
   "id": "25f17a5f-3ea6-45bb-a936-ea989d4841b4",
   "metadata": {},
   "outputs": [],
   "source": [
    "df['english_answer'] = only_english"
   ]
  },
  {
   "cell_type": "code",
   "execution_count": 14,
   "id": "7f5d3382-2d3e-4f93-9d67-344abf28d16e",
   "metadata": {},
   "outputs": [
    {
     "data": {
      "text/html": [
       "<div>\n",
       "<style scoped>\n",
       "    .dataframe tbody tr th:only-of-type {\n",
       "        vertical-align: middle;\n",
       "    }\n",
       "\n",
       "    .dataframe tbody tr th {\n",
       "        vertical-align: top;\n",
       "    }\n",
       "\n",
       "    .dataframe thead th {\n",
       "        text-align: right;\n",
       "    }\n",
       "</style>\n",
       "<table border=\"1\" class=\"dataframe\">\n",
       "  <thead>\n",
       "    <tr style=\"text-align: right;\">\n",
       "      <th></th>\n",
       "      <th>question</th>\n",
       "      <th>Answer</th>\n",
       "      <th>human_ai</th>\n",
       "      <th>english_answer</th>\n",
       "    </tr>\n",
       "  </thead>\n",
       "  <tbody>\n",
       "    <tr>\n",
       "      <th>0</th>\n",
       "      <td>Men's shoulder-to-hip ratios influence neuroph...</td>\n",
       "      <td>Y'all, the point isn't that they confirmed tha...</td>\n",
       "      <td>0</td>\n",
       "      <td>Y ' all , the point ' t that they confirmed th...</td>\n",
       "    </tr>\n",
       "    <tr>\n",
       "      <th>1</th>\n",
       "      <td>Pro-circle arguments for a new futuristic city...</td>\n",
       "      <td>Who would willingly live in a super long priso...</td>\n",
       "      <td>0</td>\n",
       "      <td>Who would willingly live in a super long priso...</td>\n",
       "    </tr>\n",
       "    <tr>\n",
       "      <th>2</th>\n",
       "      <td>Researchers have successfully transferred a ge...</td>\n",
       "      <td>For those unfamiliar, tobacco is a plant that ...</td>\n",
       "      <td>0</td>\n",
       "      <td>For those unfamiliar , tobacco is a plant that...</td>\n",
       "    </tr>\n",
       "    <tr>\n",
       "      <th>3</th>\n",
       "      <td>Boosting the ‘warm glow’ feeling that people e...</td>\n",
       "      <td>I think there’s missing information in that he...</td>\n",
       "      <td>0</td>\n",
       "      <td>I think there ’ s missing information in that ...</td>\n",
       "    </tr>\n",
       "    <tr>\n",
       "      <th>4</th>\n",
       "      <td>Social myths on nuclear waste being targeted i...</td>\n",
       "      <td>Great news. The war against nuclear power, fun...</td>\n",
       "      <td>0</td>\n",
       "      <td>Great news . The war against nuclear power , f...</td>\n",
       "    </tr>\n",
       "  </tbody>\n",
       "</table>\n",
       "</div>"
      ],
      "text/plain": [
       "                                            question  \\\n",
       "0  Men's shoulder-to-hip ratios influence neuroph...   \n",
       "1  Pro-circle arguments for a new futuristic city...   \n",
       "2  Researchers have successfully transferred a ge...   \n",
       "3  Boosting the ‘warm glow’ feeling that people e...   \n",
       "4  Social myths on nuclear waste being targeted i...   \n",
       "\n",
       "                                              Answer  human_ai  \\\n",
       "0  Y'all, the point isn't that they confirmed tha...         0   \n",
       "1  Who would willingly live in a super long priso...         0   \n",
       "2  For those unfamiliar, tobacco is a plant that ...         0   \n",
       "3  I think there’s missing information in that he...         0   \n",
       "4  Great news. The war against nuclear power, fun...         0   \n",
       "\n",
       "                                      english_answer  \n",
       "0  Y ' all , the point ' t that they confirmed th...  \n",
       "1  Who would willingly live in a super long priso...  \n",
       "2  For those unfamiliar , tobacco is a plant that...  \n",
       "3  I think there ’ s missing information in that ...  \n",
       "4  Great news . The war against nuclear power , f...  "
      ]
     },
     "execution_count": 14,
     "metadata": {},
     "output_type": "execute_result"
    }
   ],
   "source": [
    "df.head()"
   ]
  },
  {
   "cell_type": "code",
   "execution_count": 15,
   "id": "54e33f5a-5b92-40f2-8470-9a6ca276c04a",
   "metadata": {},
   "outputs": [
    {
     "data": {
      "text/plain": [
       "(12412, 4)"
      ]
     },
     "execution_count": 15,
     "metadata": {},
     "output_type": "execute_result"
    }
   ],
   "source": [
    "df.shape"
   ]
  },
  {
   "cell_type": "markdown",
   "id": "e93f62c2-cc32-4f12-9656-2eac6c1ccbdd",
   "metadata": {},
   "source": [
    "# Identify nulls "
   ]
  },
  {
   "cell_type": "code",
   "execution_count": 16,
   "id": "3d338d20-e8a7-4471-aff2-42153be7b830",
   "metadata": {},
   "outputs": [
    {
     "data": {
      "text/plain": [
       "question          0\n",
       "Answer            0\n",
       "human_ai          0\n",
       "english_answer    0\n",
       "dtype: int64"
      ]
     },
     "execution_count": 16,
     "metadata": {},
     "output_type": "execute_result"
    }
   ],
   "source": [
    "df.isna().sum()"
   ]
  },
  {
   "cell_type": "code",
   "execution_count": 17,
   "id": "d960416c-2e05-4dfe-a8bb-aa93495d6b8b",
   "metadata": {},
   "outputs": [],
   "source": [
    "## Already removed nulls during the data cleaning process. (refer the Dataframe for modeling notebook)"
   ]
  },
  {
   "cell_type": "code",
   "execution_count": 18,
   "id": "6fbe8d7c-420a-4a7e-810c-852b0dd91702",
   "metadata": {},
   "outputs": [],
   "source": [
    "## define X and y\n",
    "X = pd.Series(df['english_answer'])\n",
    "y = df['human_ai']"
   ]
  },
  {
   "cell_type": "code",
   "execution_count": 19,
   "id": "88bb5809-6912-4fed-b833-865633a81b74",
   "metadata": {},
   "outputs": [],
   "source": [
    "# Dataset size"
   ]
  },
  {
   "cell_type": "code",
   "execution_count": 20,
   "id": "fc651558-dd5a-4bd7-8e8c-23c5345463fb",
   "metadata": {},
   "outputs": [
    {
     "data": {
      "text/plain": [
       "((12412,), (12412,))"
      ]
     },
     "execution_count": 20,
     "metadata": {},
     "output_type": "execute_result"
    }
   ],
   "source": [
    "X.shape, y.shape"
   ]
  },
  {
   "cell_type": "code",
   "execution_count": 203,
   "id": "e7c9374c-de80-457d-9278-908bbdedaceb",
   "metadata": {},
   "outputs": [
    {
     "data": {
      "text/plain": [
       "human_ai\n",
       "0    0.5\n",
       "1    0.5\n",
       "Name: proportion, dtype: float64"
      ]
     },
     "execution_count": 203,
     "metadata": {},
     "output_type": "execute_result"
    }
   ],
   "source": [
    "#check the baseline score\n",
    "y.value_counts(normalize=True)"
   ]
  },
  {
   "cell_type": "markdown",
   "id": "1b24cf4d-eaf3-4ec9-8067-97dced7bff82",
   "metadata": {},
   "source": [
    "# Top 20 Occurring Words (Only for Human Response)"
   ]
  },
  {
   "cell_type": "code",
   "execution_count": 21,
   "id": "db0e2647-bbd8-48a6-998f-133f3146da6b",
   "metadata": {},
   "outputs": [],
   "source": [
    "# Retreive human only answers after removing non english words"
   ]
  },
  {
   "cell_type": "code",
   "execution_count": 22,
   "id": "82c9b159-84ee-4996-8467-3ab35353ae7e",
   "metadata": {},
   "outputs": [],
   "source": [
    "human = df[df['human_ai'] == 0]"
   ]
  },
  {
   "cell_type": "code",
   "execution_count": 23,
   "id": "3b1de54e-2fef-4c56-8ca5-822370835e5e",
   "metadata": {},
   "outputs": [],
   "source": [
    "human = pd.Series(human['english_answer'])"
   ]
  },
  {
   "cell_type": "code",
   "execution_count": 25,
   "id": "4436ca60-7b37-4434-9650-dd3aacfa34c3",
   "metadata": {},
   "outputs": [],
   "source": [
    "# Instantiate a TfidfVectorizer.\n",
    "tvec = TfidfVectorizer()\n",
    "# Transform the corpus.\n",
    "human = tvec.fit_transform(human)"
   ]
  },
  {
   "cell_type": "code",
   "execution_count": 26,
   "id": "9dcaa2a4-e0cd-4ef6-8258-dbb811aca312",
   "metadata": {},
   "outputs": [],
   "source": [
    "human_features = tvec.get_feature_names_out()"
   ]
  },
  {
   "cell_type": "code",
   "execution_count": 27,
   "id": "3249207a-3399-4c08-bdd8-b590ff86a67d",
   "metadata": {},
   "outputs": [],
   "source": [
    "# Convert human into a DataFrame.\n",
    "\n",
    "human_df = pd.DataFrame(human.todense(), \n",
    "                          columns=human_features)"
   ]
  },
  {
   "cell_type": "code",
   "execution_count": 28,
   "id": "62bf9281-81fd-4958-9e49-a645aa17b9ba",
   "metadata": {},
   "outputs": [
    {
     "data": {
      "image/png": "[encoded data removed]",
      "text/plain": [
       "<Figure size 1000x600 with 1 Axes>"
      ]
     },
     "metadata": {},
     "output_type": "display_data"
    }
   ],
   "source": [
    "# Sort and select the top 20 occurring words\n",
    "top_words = human_df.sum().sort_values().tail(20)\n",
    "\n",
    "# Create a bar plot using Seaborn\n",
    "plt.figure(figsize=(10, 6))  # Set the figure size\n",
    "sns.barplot(x=top_words.values, y=top_words.index, palette='viridis')\n",
    "\n",
    "# Add labels and a title\n",
    "plt.xlabel('Frequency')\n",
    "plt.ylabel('Words')\n",
    "plt.title('Top 20 Occurring Words (Human Response)')\n",
    "\n",
    "# Show the plot\n",
    "plt.show()"
   ]
  },
  {
   "cell_type": "markdown",
   "id": "14b003d6-d8a4-471c-935f-be5a18890015",
   "metadata": {},
   "source": [
    "# Top 20 Occurring Words (Only for AI Response)"
   ]
  },
  {
   "cell_type": "code",
   "execution_count": 29,
   "id": "86eed5e0-6293-4dde-8efb-ff9ef36b6b29",
   "metadata": {},
   "outputs": [],
   "source": [
    "ai = df[df['human_ai'] == 1]"
   ]
  },
  {
   "cell_type": "code",
   "execution_count": 30,
   "id": "41ddadf0-3967-4171-8221-83650ce6ac3e",
   "metadata": {},
   "outputs": [],
   "source": [
    "ai = pd.Series(ai['english_answer'])"
   ]
  },
  {
   "cell_type": "code",
   "execution_count": 31,
   "id": "45a2fa4d-2d32-4b81-a6f4-ad44e9ffcfc8",
   "metadata": {},
   "outputs": [],
   "source": [
    "# Instantiate a TfidfVectorizer.\n",
    "tvec = TfidfVectorizer()\n",
    "# Transform the corpus.\n",
    "ai = tvec.fit_transform(ai)"
   ]
  },
  {
   "cell_type": "code",
   "execution_count": 32,
   "id": "15b70850-74ad-42f2-8b01-6abf2eaa8ffa",
   "metadata": {},
   "outputs": [],
   "source": [
    "ai_features = tvec.get_feature_names_out()"
   ]
  },
  {
   "cell_type": "code",
   "execution_count": 33,
   "id": "710b5375-e0bb-4fb2-8f00-ca1024533dba",
   "metadata": {},
   "outputs": [],
   "source": [
    "# Convert ai into a DataFrame.\n",
    "\n",
    "ai_df = pd.DataFrame(ai.todense(), \n",
    "                          columns=ai_features)"
   ]
  },
  {
   "cell_type": "code",
   "execution_count": 34,
   "id": "e2887690-a9bb-465b-a3bf-e05348a45d73",
   "metadata": {},
   "outputs": [
    {
     "data": {
      "image/png": "[encoded data removed]",
      "text/plain": [
       "<Figure size 1000x600 with 1 Axes>"
      ]
     },
     "metadata": {},
     "output_type": "display_data"
    }
   ],
   "source": [
    "# Sort and select the top 20 occurring words\n",
    "top_words = ai_df.sum().sort_values().tail(20)\n",
    "\n",
    "# Create a bar plot using Seaborn\n",
    "plt.figure(figsize=(10, 6))  # Set the figure size\n",
    "sns.barplot(x=top_words.values, y=top_words.index, palette='viridis')\n",
    "\n",
    "# Add labels and a title\n",
    "plt.xlabel('Frequency')\n",
    "plt.ylabel('Words')\n",
    "plt.title('Top 20 Occurring Words (AI Response)')\n",
    "\n",
    "# Show the plot\n",
    "plt.show()"
   ]
  },
  {
   "cell_type": "code",
   "execution_count": 35,
   "id": "e0850009-8f9e-4a45-95f6-36dcda20619d",
   "metadata": {},
   "outputs": [],
   "source": [
    "#Split the data into training and testing sets\n",
    "X_train, X_test, y_train, y_test = train_test_split(X, y, test_size=0.2, random_state=42)"
   ]
  },
  {
   "cell_type": "markdown",
   "id": "ffb6516a-969c-4f6b-9ad6-78adf7ea9334",
   "metadata": {},
   "source": [
    "### Instantiate a TfidfVectorizer."
   ]
  },
  {
   "cell_type": "code",
   "execution_count": 36,
   "id": "9f55d54d-c0e5-4c69-9bae-00da0a9fcf60",
   "metadata": {},
   "outputs": [],
   "source": [
    "# Instantiate a CountVectorizer.\n",
    "tvec = TfidfVectorizer()\n",
    "# Transform the corpus.\n",
    "X_train = tvec.fit_transform(X_train)\n",
    "X_test = tvec.transform(X_test)"
   ]
  },
  {
   "cell_type": "code",
   "execution_count": 37,
   "id": "e43aabab-bf5a-4b72-8b6c-4013fa95f26a",
   "metadata": {},
   "outputs": [],
   "source": [
    "columns=tvec.get_feature_names_out()"
   ]
  },
  {
   "cell_type": "code",
   "execution_count": 38,
   "id": "24895ed2-181c-4d42-a4fc-efaaddf20dcd",
   "metadata": {},
   "outputs": [],
   "source": [
    "# Convert X_train into a DataFrame.\n",
    "\n",
    "X_train_df = pd.DataFrame(X_train.todense(), \n",
    "                          columns=tvec.get_feature_names_out())"
   ]
  },
  {
   "cell_type": "code",
   "execution_count": 39,
   "id": "12a353a0-4c73-4c61-aa56-8bee5fe1cdf1",
   "metadata": {},
   "outputs": [
    {
     "data": {
      "image/png": "[encoded data removed]",
      "text/plain": [
       "<Figure size 1000x600 with 1 Axes>"
      ]
     },
     "metadata": {},
     "output_type": "display_data"
    }
   ],
   "source": [
    "# Sort and select the top 20 occurring words\n",
    "top_words = X_train_df.sum().sort_values().tail(20)\n",
    "\n",
    "# Create a bar plot using Seaborn\n",
    "plt.figure(figsize=(10, 6))  # Set the figure size\n",
    "sns.barplot(x=top_words.values, y=top_words.index, palette='viridis')\n",
    "\n",
    "# Add labels and a title\n",
    "plt.xlabel('Frequency')\n",
    "plt.ylabel('Words')\n",
    "plt.title('Top 20 Occurring Words')\n",
    "\n",
    "#plt.savefig(\"./img/Top_20_Occurring_Words.jpg\", dpi=300)\n",
    "\n",
    "# Show the plot\n",
    "plt.show()\n"
   ]
  },
  {
   "cell_type": "markdown",
   "id": "86338542-6787-4ee8-9823-ac4ce3822257",
   "metadata": {},
   "source": [
    "### Redefine training and testing sets."
   ]
  },
  {
   "cell_type": "code",
   "execution_count": 40,
   "id": "ee97b2f2-be5a-474e-ac50-33e00036d557",
   "metadata": {},
   "outputs": [],
   "source": [
    "X_train, X_test, y_train, y_test = train_test_split(X,\n",
    "                                                    y,\n",
    "                                                    test_size=0.2,\n",
    "                                                    random_state=42)"
   ]
  },
  {
   "cell_type": "code",
   "execution_count": 41,
   "id": "66662160-502c-4a95-b323-2cc776c06a1c",
   "metadata": {},
   "outputs": [
    {
     "data": {
      "text/plain": [
       "array(['00', '000', '0009', ..., 'zoom', 'zt88pebtw', 'zt9c'],\n",
       "      dtype=object)"
      ]
     },
     "execution_count": 41,
     "metadata": {},
     "output_type": "execute_result"
    }
   ],
   "source": [
    "columns"
   ]
  },
  {
   "cell_type": "code",
   "execution_count": 42,
   "id": "3e9cdfae-69dc-4e3c-b0fd-553f6ea26e9e",
   "metadata": {},
   "outputs": [],
   "source": [
    "english_stopwords = stopwords.words('english')"
   ]
  },
  {
   "cell_type": "markdown",
   "id": "4673c44d-e575-4e74-b1bb-d375cd5478ba",
   "metadata": {},
   "source": [
    "## Function for model evaluation"
   ]
  },
  {
   "cell_type": "code",
   "execution_count": 43,
   "id": "b981ffc0-f093-4f14-be63-2acfc2d59ffa",
   "metadata": {},
   "outputs": [],
   "source": [
    "def evaluation(name_of_the_model ,y_test,preds,gs_model):\n",
    "    ## find the confusion matrix\n",
    "    cm = confusion_matrix(y_test,preds)\n",
    "    tp = cm[1][1]; #True positives\n",
    "    tn = cm[0][0]; #True negatives\n",
    "    fp = cm[0][1]; #False positives\n",
    "    fn = cm[1][0]; #False negatives\n",
    "\n",
    "    #Calculate Accuracy, Sensitivity, Specificity, and Precision\n",
    "    #Accuracy = round((tp + tn) /(tp + tn + fn + fp),3)\n",
    "    Sensitivity = round(tp/(tp+fn),3)\n",
    "    Specificity = round(tn/(tn+fp),3)\n",
    "    Precision = round(tp / (tp + fp),3)\n",
    "\n",
    "    #Model scores for train and test\n",
    "\n",
    "    train_score = round(gs_model.score(X_train, y_train),3)\n",
    "    test_score = round(gs_model.score(X_test,y_test),3)\n",
    "\n",
    "    #Create a dataframe to compare the results\n",
    "    df = pd.DataFrame(\n",
    "        {'Model' :name_of_the_model,\n",
    "        'Score on train':train_score ,\n",
    "         'Score on test': test_score,\n",
    "         'Sensitivity':Sensitivity,\n",
    "         'Specificity':Specificity,\n",
    "         'Precision' : Precision\n",
    "        },index=[0]\n",
    "    )\n",
    "\n",
    "    return df #Display the dataframe"
   ]
  },
  {
   "cell_type": "code",
   "execution_count": 44,
   "id": "e9f2bada-0b12-4eeb-befe-15aaff3ace7f",
   "metadata": {},
   "outputs": [],
   "source": [
    "## Function for plotting the confusion matrix"
   ]
  },
  {
   "cell_type": "code",
   "execution_count": 45,
   "id": "46ba4526-a7e9-4ad3-9305-eeabc3112290",
   "metadata": {},
   "outputs": [],
   "source": [
    "def plot_confusion(y_test,preds,gs_model):\n",
    "    return ConfusionMatrixDisplay(confusion_matrix=confusion_matrix(y_test, preds, labels=gs_model.classes_), \n",
    "                              display_labels=['Human[0]','AI[1]']).plot();"
   ]
  },
  {
   "cell_type": "markdown",
   "id": "522f6c5b-c5f7-4375-ba87-fd125958b92d",
   "metadata": {},
   "source": [
    "# LogisticRegressionCV"
   ]
  },
  {
   "cell_type": "code",
   "execution_count": 46,
   "id": "1e3edf52-bb16-4f10-914a-2b46e7a0deea",
   "metadata": {},
   "outputs": [],
   "source": [
    "# Let's set a pipeline up with two stages:\n",
    "pipe_logr = Pipeline([\n",
    "    ('tvec', TfidfVectorizer()),\n",
    "    ('logr', LogisticRegressionCV(max_iter=5000))\n",
    "])"
   ]
  },
  {
   "cell_type": "code",
   "execution_count": 47,
   "id": "f6965691-dfe6-4a19-b2fc-079c57ca9028",
   "metadata": {},
   "outputs": [],
   "source": [
    "pipe_params_logr = {\n",
    "    'tvec__max_features' : [5000],#[2000, 3000, 4000, 5000]\n",
    "    'tvec__min_df' : [3],#[3,5]\n",
    "    'tvec__max_df' : [0.9],#[0.9,0.95]\n",
    "    'tvec__ngram_range' : [(1,2)],#[(1,1),(1,2)]\n",
    "    'tvec__stop_words' : [ None, 'english']\n",
    "}"
   ]
  },
  {
   "cell_type": "code",
   "execution_count": 48,
   "id": "4b7abac1-66af-4657-9253-8b54df5a9d84",
   "metadata": {},
   "outputs": [],
   "source": [
    "# Instantiate GridSearchCV for LogisticRegressionCV\n",
    "gs_logr = GridSearchCV(pipe_logr,     # what object are we optimizing?\n",
    "                  pipe_params_logr,   # what parameters values are we searching?\n",
    "                  cv=5)               # 5-fold cross-validation."
   ]
  },
  {
   "cell_type": "code",
   "execution_count": 49,
   "id": "26a39a50-01f2-4c7e-9b61-5e6ef731bace",
   "metadata": {},
   "outputs": [
    {
     "data": {
      "text/html": [
       "<style>#sk-container-id-1 {color: black;background-color: white;}#sk-container-id-1 pre{padding: 0;}#sk-container-id-1 div.sk-toggleable {background-color: white;}#sk-container-id-1 label.sk-toggleable__label {cursor: pointer;display: block;width: 100%;margin-bottom: 0;padding: 0.3em;box-sizing: border-box;text-align: center;}#sk-container-id-1 label.sk-toggleable__label-arrow:before {content: \"▸\";float: left;margin-right: 0.25em;color: #696969;}#sk-container-id-1 label.sk-toggleable__label-arrow:hover:before {color: black;}#sk-container-id-1 div.sk-estimator:hover label.sk-toggleable__label-arrow:before {color: black;}#sk-container-id-1 div.sk-toggleable__content {max-height: 0;max-width: 0;overflow: hidden;text-align: left;background-color: #f0f8ff;}#sk-container-id-1 div.sk-toggleable__content pre {margin: 0.2em;color: black;border-radius: 0.25em;background-color: #f0f8ff;}#sk-container-id-1 input.sk-toggleable__control:checked~div.sk-toggleable__content {max-height: 200px;max-width: 100%;overflow: auto;}#sk-container-id-1 input.sk-toggleable__control:checked~label.sk-toggleable__label-arrow:before {content: \"▾\";}#sk-container-id-1 div.sk-estimator input.sk-toggleable__control:checked~label.sk-toggleable__label {background-color: #d4ebff;}#sk-container-id-1 div.sk-label input.sk-toggleable__control:checked~label.sk-toggleable__label {background-color: #d4ebff;}#sk-container-id-1 input.sk-hidden--visually {border: 0;clip: rect(1px 1px 1px 1px);clip: rect(1px, 1px, 1px, 1px);height: 1px;margin: -1px;overflow: hidden;padding: 0;position: absolute;width: 1px;}#sk-container-id-1 div.sk-estimator {font-family: monospace;background-color: #f0f8ff;border: 1px dotted black;border-radius: 0.25em;box-sizing: border-box;margin-bottom: 0.5em;}#sk-container-id-1 div.sk-estimator:hover {background-color: #d4ebff;}#sk-container-id-1 div.sk-parallel-item::after {content: \"\";width: 100%;border-bottom: 1px solid gray;flex-grow: 1;}#sk-container-id-1 div.sk-label:hover label.sk-toggleable__label {background-color: #d4ebff;}#sk-container-id-1 div.sk-serial::before {content: \"\";position: absolute;border-left: 1px solid gray;box-sizing: border-box;top: 0;bottom: 0;left: 50%;z-index: 0;}#sk-container-id-1 div.sk-serial {display: flex;flex-direction: column;align-items: center;background-color: white;padding-right: 0.2em;padding-left: 0.2em;position: relative;}#sk-container-id-1 div.sk-item {position: relative;z-index: 1;}#sk-container-id-1 div.sk-parallel {display: flex;align-items: stretch;justify-content: center;background-color: white;position: relative;}#sk-container-id-1 div.sk-item::before, #sk-container-id-1 div.sk-parallel-item::before {content: \"\";position: absolute;border-left: 1px solid gray;box-sizing: border-box;top: 0;bottom: 0;left: 50%;z-index: -1;}#sk-container-id-1 div.sk-parallel-item {display: flex;flex-direction: column;z-index: 1;position: relative;background-color: white;}#sk-container-id-1 div.sk-parallel-item:first-child::after {align-self: flex-end;width: 50%;}#sk-container-id-1 div.sk-parallel-item:last-child::after {align-self: flex-start;width: 50%;}#sk-container-id-1 div.sk-parallel-item:only-child::after {width: 0;}#sk-container-id-1 div.sk-dashed-wrapped {border: 1px dashed gray;margin: 0 0.4em 0.5em 0.4em;box-sizing: border-box;padding-bottom: 0.4em;background-color: white;}#sk-container-id-1 div.sk-label label {font-family: monospace;font-weight: bold;display: inline-block;line-height: 1.2em;}#sk-container-id-1 div.sk-label-container {text-align: center;}#sk-container-id-1 div.sk-container {/* jupyter's `normalize.less` sets `[hidden] { display: none; }` but bootstrap.min.css set `[hidden] { display: none !important; }` so we also need the `!important` here to be able to override the default hidden behavior on the sphinx rendered scikit-learn.org. See: https://github.com/scikit-learn/scikit-learn/issues/21755 */display: inline-block !important;position: relative;}#sk-container-id-1 div.sk-text-repr-fallback {display: none;}</style><div id=\"sk-container-id-1\" class=\"sk-top-container\"><div class=\"sk-text-repr-fallback\"><pre>GridSearchCV(cv=5,\n",
       "             estimator=Pipeline(steps=[(&#x27;tvec&#x27;, TfidfVectorizer()),\n",
       "                                       (&#x27;logr&#x27;,\n",
       "                                        LogisticRegressionCV(max_iter=5000))]),\n",
       "             param_grid={&#x27;tvec__max_df&#x27;: [0.9], &#x27;tvec__max_features&#x27;: [5000],\n",
       "                         &#x27;tvec__min_df&#x27;: [3], &#x27;tvec__ngram_range&#x27;: [(1, 2)],\n",
       "                         &#x27;tvec__stop_words&#x27;: [None, &#x27;english&#x27;]})</pre><b>In a Jupyter environment, please rerun this cell to show the HTML representation or trust the notebook. <br />On GitHub, the HTML representation is unable to render, please try loading this page with nbviewer.org.</b></div><div class=\"sk-container\" hidden><div class=\"sk-item sk-dashed-wrapped\"><div class=\"sk-label-container\"><div class=\"sk-label sk-toggleable\"><input class=\"sk-toggleable__control sk-hidden--visually\" id=\"sk-estimator-id-1\" type=\"checkbox\" ><label for=\"sk-estimator-id-1\" class=\"sk-toggleable__label sk-toggleable__label-arrow\">GridSearchCV</label><div class=\"sk-toggleable__content\"><pre>GridSearchCV(cv=5,\n",
       "             estimator=Pipeline(steps=[(&#x27;tvec&#x27;, TfidfVectorizer()),\n",
       "                                       (&#x27;logr&#x27;,\n",
       "                                        LogisticRegressionCV(max_iter=5000))]),\n",
       "             param_grid={&#x27;tvec__max_df&#x27;: [0.9], &#x27;tvec__max_features&#x27;: [5000],\n",
       "                         &#x27;tvec__min_df&#x27;: [3], &#x27;tvec__ngram_range&#x27;: [(1, 2)],\n",
       "                         &#x27;tvec__stop_words&#x27;: [None, &#x27;english&#x27;]})</pre></div></div></div><div class=\"sk-parallel\"><div class=\"sk-parallel-item\"><div class=\"sk-item\"><div class=\"sk-label-container\"><div class=\"sk-label sk-toggleable\"><input class=\"sk-toggleable__control sk-hidden--visually\" id=\"sk-estimator-id-2\" type=\"checkbox\" ><label for=\"sk-estimator-id-2\" class=\"sk-toggleable__label sk-toggleable__label-arrow\">estimator: Pipeline</label><div class=\"sk-toggleable__content\"><pre>Pipeline(steps=[(&#x27;tvec&#x27;, TfidfVectorizer()),\n",
       "                (&#x27;logr&#x27;, LogisticRegressionCV(max_iter=5000))])</pre></div></div></div><div class=\"sk-serial\"><div class=\"sk-item\"><div class=\"sk-serial\"><div class=\"sk-item\"><div class=\"sk-estimator sk-toggleable\"><input class=\"sk-toggleable__control sk-hidden--visually\" id=\"sk-estimator-id-3\" type=\"checkbox\" ><label for=\"sk-estimator-id-3\" class=\"sk-toggleable__label sk-toggleable__label-arrow\">TfidfVectorizer</label><div class=\"sk-toggleable__content\"><pre>TfidfVectorizer()</pre></div></div></div><div class=\"sk-item\"><div class=\"sk-estimator sk-toggleable\"><input class=\"sk-toggleable__control sk-hidden--visually\" id=\"sk-estimator-id-4\" type=\"checkbox\" ><label for=\"sk-estimator-id-4\" class=\"sk-toggleable__label sk-toggleable__label-arrow\">LogisticRegressionCV</label><div class=\"sk-toggleable__content\"><pre>LogisticRegressionCV(max_iter=5000)</pre></div></div></div></div></div></div></div></div></div></div></div></div>"
      ],
      "text/plain": [
       "GridSearchCV(cv=5,\n",
       "             estimator=Pipeline(steps=[('tvec', TfidfVectorizer()),\n",
       "                                       ('logr',\n",
       "                                        LogisticRegressionCV(max_iter=5000))]),\n",
       "             param_grid={'tvec__max_df': [0.9], 'tvec__max_features': [5000],\n",
       "                         'tvec__min_df': [3], 'tvec__ngram_range': [(1, 2)],\n",
       "                         'tvec__stop_words': [None, 'english']})"
      ]
     },
     "execution_count": 49,
     "metadata": {},
     "output_type": "execute_result"
    }
   ],
   "source": [
    "# Fit GridSearch to training data.\n",
    "gs_logr.fit(X_train,y_train)"
   ]
  },
  {
   "cell_type": "code",
   "execution_count": 50,
   "id": "43705802-33b2-4e69-9ebc-08755cbebe68",
   "metadata": {},
   "outputs": [
    {
     "data": {
      "text/plain": [
       "{'tvec__max_df': 0.9,\n",
       " 'tvec__max_features': 5000,\n",
       " 'tvec__min_df': 3,\n",
       " 'tvec__ngram_range': (1, 2),\n",
       " 'tvec__stop_words': None}"
      ]
     },
     "execution_count": 50,
     "metadata": {},
     "output_type": "execute_result"
    }
   ],
   "source": [
    "gs_logr.best_params_"
   ]
  },
  {
   "cell_type": "code",
   "execution_count": 52,
   "id": "ddef5400-4bcf-4a25-b707-c3df1dbbd4dd",
   "metadata": {},
   "outputs": [],
   "source": [
    "# Get predictions\n",
    "preds_logr = gs_logr.predict(X_test)"
   ]
  },
  {
   "cell_type": "code",
   "execution_count": 53,
   "id": "ace81a78-0d34-42ad-8cc6-d1e7213a1a95",
   "metadata": {},
   "outputs": [
    {
     "data": {
      "text/html": [
       "<div>\n",
       "<style scoped>\n",
       "    .dataframe tbody tr th:only-of-type {\n",
       "        vertical-align: middle;\n",
       "    }\n",
       "\n",
       "    .dataframe tbody tr th {\n",
       "        vertical-align: top;\n",
       "    }\n",
       "\n",
       "    .dataframe thead th {\n",
       "        text-align: right;\n",
       "    }\n",
       "</style>\n",
       "<table border=\"1\" class=\"dataframe\">\n",
       "  <thead>\n",
       "    <tr style=\"text-align: right;\">\n",
       "      <th></th>\n",
       "      <th>Model</th>\n",
       "      <th>Score on train</th>\n",
       "      <th>Score on test</th>\n",
       "      <th>Sensitivity</th>\n",
       "      <th>Specificity</th>\n",
       "      <th>Precision</th>\n",
       "    </tr>\n",
       "  </thead>\n",
       "  <tbody>\n",
       "    <tr>\n",
       "      <th>0</th>\n",
       "      <td>logr</td>\n",
       "      <td>0.947</td>\n",
       "      <td>0.89</td>\n",
       "      <td>0.866</td>\n",
       "      <td>0.913</td>\n",
       "      <td>0.903</td>\n",
       "    </tr>\n",
       "  </tbody>\n",
       "</table>\n",
       "</div>"
      ],
      "text/plain": [
       "  Model  Score on train  Score on test  Sensitivity  Specificity  Precision\n",
       "0  logr           0.947           0.89        0.866        0.913      0.903"
      ]
     },
     "execution_count": 53,
     "metadata": {},
     "output_type": "execute_result"
    }
   ],
   "source": [
    "logr = evaluation('logr',y_test,preds_logr,gs_logr)\n",
    "logr"
   ]
  },
  {
   "cell_type": "code",
   "execution_count": 54,
   "id": "0308a89b-89e7-4c46-bf7a-944d125ed579",
   "metadata": {},
   "outputs": [
    {
     "data": {
      "image/png": "[encoded data removed]",
      "text/plain": [
       "<Figure size 640x480 with 2 Axes>"
      ]
     },
     "metadata": {},
     "output_type": "display_data"
    }
   ],
   "source": [
    "plot_confusion(y_test,preds_logr,gs_logr);\n",
    "plt.title('Confusion matrix from Logr');\n",
    "plt.savefig(\"./img/Confusion_matrix_from_Logr.jpg\", dpi=300)"
   ]
  },
  {
   "cell_type": "markdown",
   "id": "38b87aca-ce41-4306-9bd8-20a9b9bc7983",
   "metadata": {},
   "source": [
    "From the confusion matrix, we see that the true positives and true negatives are significantly higher compared to the false positives and the false negatives, which means the model can predict the AI texts more accurately and is confirmed from the above evaluation table for the model when looking at the sensitivity, specificity, and precision of the model."
   ]
  },
  {
   "cell_type": "markdown",
   "id": "25b35bda-72f7-4efb-80b3-0704d1e9477d",
   "metadata": {},
   "source": [
    "# RandomForestClassifier"
   ]
  },
  {
   "cell_type": "code",
   "execution_count": 56,
   "id": "b5e68b1e-ec95-415d-b190-1d3e57c692f0",
   "metadata": {},
   "outputs": [],
   "source": [
    "# Let's set a pipeline up with two stages:\n",
    "pipe_rfc = Pipeline([\n",
    "    ('tvec', TfidfVectorizer()),\n",
    "    ('rfc', RandomForestClassifier())\n",
    "])"
   ]
  },
  {
   "cell_type": "code",
   "execution_count": 57,
   "id": "a0a469ad-180b-43a5-90c9-e4c838e92160",
   "metadata": {},
   "outputs": [],
   "source": [
    "pipe_params_rfc = {\n",
    "    'tvec__max_features' : [5000],#[2000, 3000, 4000, 5000]\n",
    "    'tvec__min_df' : [3],# [3,5]\n",
    "    'tvec__max_df' : [0.9],#[0.9,0.95]\n",
    "    'tvec__ngram_range' : [(1,2)],#[(1,1),(1,2)]\n",
    "    'tvec__stop_words' : [ None, 'english']\n",
    "}"
   ]
  },
  {
   "cell_type": "code",
   "execution_count": 58,
   "id": "98674885-cbe6-44c3-9e3b-334f1713cf77",
   "metadata": {},
   "outputs": [],
   "source": [
    "# Instantiate GridSearchCV for RandomForestClassifier\n",
    "gs_rfc = GridSearchCV(pipe_rfc,     # what object are we optimizing?\n",
    "                  pipe_params_rfc,   # what parameters values are we searching?\n",
    "                  cv=5)               # 5-fold cross-validation."
   ]
  },
  {
   "cell_type": "code",
   "execution_count": 59,
   "id": "a6d5202b-9fcb-45d9-9635-2acdec052b97",
   "metadata": {},
   "outputs": [
    {
     "data": {
      "text/html": [
       "<style>#sk-container-id-2 {color: black;background-color: white;}#sk-container-id-2 pre{padding: 0;}#sk-container-id-2 div.sk-toggleable {background-color: white;}#sk-container-id-2 label.sk-toggleable__label {cursor: pointer;display: block;width: 100%;margin-bottom: 0;padding: 0.3em;box-sizing: border-box;text-align: center;}#sk-container-id-2 label.sk-toggleable__label-arrow:before {content: \"▸\";float: left;margin-right: 0.25em;color: #696969;}#sk-container-id-2 label.sk-toggleable__label-arrow:hover:before {color: black;}#sk-container-id-2 div.sk-estimator:hover label.sk-toggleable__label-arrow:before {color: black;}#sk-container-id-2 div.sk-toggleable__content {max-height: 0;max-width: 0;overflow: hidden;text-align: left;background-color: #f0f8ff;}#sk-container-id-2 div.sk-toggleable__content pre {margin: 0.2em;color: black;border-radius: 0.25em;background-color: #f0f8ff;}#sk-container-id-2 input.sk-toggleable__control:checked~div.sk-toggleable__content {max-height: 200px;max-width: 100%;overflow: auto;}#sk-container-id-2 input.sk-toggleable__control:checked~label.sk-toggleable__label-arrow:before {content: \"▾\";}#sk-container-id-2 div.sk-estimator input.sk-toggleable__control:checked~label.sk-toggleable__label {background-color: #d4ebff;}#sk-container-id-2 div.sk-label input.sk-toggleable__control:checked~label.sk-toggleable__label {background-color: #d4ebff;}#sk-container-id-2 input.sk-hidden--visually {border: 0;clip: rect(1px 1px 1px 1px);clip: rect(1px, 1px, 1px, 1px);height: 1px;margin: -1px;overflow: hidden;padding: 0;position: absolute;width: 1px;}#sk-container-id-2 div.sk-estimator {font-family: monospace;background-color: #f0f8ff;border: 1px dotted black;border-radius: 0.25em;box-sizing: border-box;margin-bottom: 0.5em;}#sk-container-id-2 div.sk-estimator:hover {background-color: #d4ebff;}#sk-container-id-2 div.sk-parallel-item::after {content: \"\";width: 100%;border-bottom: 1px solid gray;flex-grow: 1;}#sk-container-id-2 div.sk-label:hover label.sk-toggleable__label {background-color: #d4ebff;}#sk-container-id-2 div.sk-serial::before {content: \"\";position: absolute;border-left: 1px solid gray;box-sizing: border-box;top: 0;bottom: 0;left: 50%;z-index: 0;}#sk-container-id-2 div.sk-serial {display: flex;flex-direction: column;align-items: center;background-color: white;padding-right: 0.2em;padding-left: 0.2em;position: relative;}#sk-container-id-2 div.sk-item {position: relative;z-index: 1;}#sk-container-id-2 div.sk-parallel {display: flex;align-items: stretch;justify-content: center;background-color: white;position: relative;}#sk-container-id-2 div.sk-item::before, #sk-container-id-2 div.sk-parallel-item::before {content: \"\";position: absolute;border-left: 1px solid gray;box-sizing: border-box;top: 0;bottom: 0;left: 50%;z-index: -1;}#sk-container-id-2 div.sk-parallel-item {display: flex;flex-direction: column;z-index: 1;position: relative;background-color: white;}#sk-container-id-2 div.sk-parallel-item:first-child::after {align-self: flex-end;width: 50%;}#sk-container-id-2 div.sk-parallel-item:last-child::after {align-self: flex-start;width: 50%;}#sk-container-id-2 div.sk-parallel-item:only-child::after {width: 0;}#sk-container-id-2 div.sk-dashed-wrapped {border: 1px dashed gray;margin: 0 0.4em 0.5em 0.4em;box-sizing: border-box;padding-bottom: 0.4em;background-color: white;}#sk-container-id-2 div.sk-label label {font-family: monospace;font-weight: bold;display: inline-block;line-height: 1.2em;}#sk-container-id-2 div.sk-label-container {text-align: center;}#sk-container-id-2 div.sk-container {/* jupyter's `normalize.less` sets `[hidden] { display: none; }` but bootstrap.min.css set `[hidden] { display: none !important; }` so we also need the `!important` here to be able to override the default hidden behavior on the sphinx rendered scikit-learn.org. See: https://github.com/scikit-learn/scikit-learn/issues/21755 */display: inline-block !important;position: relative;}#sk-container-id-2 div.sk-text-repr-fallback {display: none;}</style><div id=\"sk-container-id-2\" class=\"sk-top-container\"><div class=\"sk-text-repr-fallback\"><pre>GridSearchCV(cv=5,\n",
       "             estimator=Pipeline(steps=[(&#x27;tvec&#x27;, TfidfVectorizer()),\n",
       "                                       (&#x27;rfc&#x27;, RandomForestClassifier())]),\n",
       "             param_grid={&#x27;tvec__max_df&#x27;: [0.9], &#x27;tvec__max_features&#x27;: [5000],\n",
       "                         &#x27;tvec__min_df&#x27;: [3], &#x27;tvec__ngram_range&#x27;: [(1, 2)],\n",
       "                         &#x27;tvec__stop_words&#x27;: [None, &#x27;english&#x27;]})</pre><b>In a Jupyter environment, please rerun this cell to show the HTML representation or trust the notebook. <br />On GitHub, the HTML representation is unable to render, please try loading this page with nbviewer.org.</b></div><div class=\"sk-container\" hidden><div class=\"sk-item sk-dashed-wrapped\"><div class=\"sk-label-container\"><div class=\"sk-label sk-toggleable\"><input class=\"sk-toggleable__control sk-hidden--visually\" id=\"sk-estimator-id-5\" type=\"checkbox\" ><label for=\"sk-estimator-id-5\" class=\"sk-toggleable__label sk-toggleable__label-arrow\">GridSearchCV</label><div class=\"sk-toggleable__content\"><pre>GridSearchCV(cv=5,\n",
       "             estimator=Pipeline(steps=[(&#x27;tvec&#x27;, TfidfVectorizer()),\n",
       "                                       (&#x27;rfc&#x27;, RandomForestClassifier())]),\n",
       "             param_grid={&#x27;tvec__max_df&#x27;: [0.9], &#x27;tvec__max_features&#x27;: [5000],\n",
       "                         &#x27;tvec__min_df&#x27;: [3], &#x27;tvec__ngram_range&#x27;: [(1, 2)],\n",
       "                         &#x27;tvec__stop_words&#x27;: [None, &#x27;english&#x27;]})</pre></div></div></div><div class=\"sk-parallel\"><div class=\"sk-parallel-item\"><div class=\"sk-item\"><div class=\"sk-label-container\"><div class=\"sk-label sk-toggleable\"><input class=\"sk-toggleable__control sk-hidden--visually\" id=\"sk-estimator-id-6\" type=\"checkbox\" ><label for=\"sk-estimator-id-6\" class=\"sk-toggleable__label sk-toggleable__label-arrow\">estimator: Pipeline</label><div class=\"sk-toggleable__content\"><pre>Pipeline(steps=[(&#x27;tvec&#x27;, TfidfVectorizer()), (&#x27;rfc&#x27;, RandomForestClassifier())])</pre></div></div></div><div class=\"sk-serial\"><div class=\"sk-item\"><div class=\"sk-serial\"><div class=\"sk-item\"><div class=\"sk-estimator sk-toggleable\"><input class=\"sk-toggleable__control sk-hidden--visually\" id=\"sk-estimator-id-7\" type=\"checkbox\" ><label for=\"sk-estimator-id-7\" class=\"sk-toggleable__label sk-toggleable__label-arrow\">TfidfVectorizer</label><div class=\"sk-toggleable__content\"><pre>TfidfVectorizer()</pre></div></div></div><div class=\"sk-item\"><div class=\"sk-estimator sk-toggleable\"><input class=\"sk-toggleable__control sk-hidden--visually\" id=\"sk-estimator-id-8\" type=\"checkbox\" ><label for=\"sk-estimator-id-8\" class=\"sk-toggleable__label sk-toggleable__label-arrow\">RandomForestClassifier</label><div class=\"sk-toggleable__content\"><pre>RandomForestClassifier()</pre></div></div></div></div></div></div></div></div></div></div></div></div>"
      ],
      "text/plain": [
       "GridSearchCV(cv=5,\n",
       "             estimator=Pipeline(steps=[('tvec', TfidfVectorizer()),\n",
       "                                       ('rfc', RandomForestClassifier())]),\n",
       "             param_grid={'tvec__max_df': [0.9], 'tvec__max_features': [5000],\n",
       "                         'tvec__min_df': [3], 'tvec__ngram_range': [(1, 2)],\n",
       "                         'tvec__stop_words': [None, 'english']})"
      ]
     },
     "execution_count": 59,
     "metadata": {},
     "output_type": "execute_result"
    }
   ],
   "source": [
    "# Fit GridSearch to training data.\n",
    "gs_rfc.fit(X_train,y_train)"
   ]
  },
  {
   "cell_type": "code",
   "execution_count": 60,
   "id": "7929ccaa-321d-4f7d-8db5-c2a27bcad0b7",
   "metadata": {},
   "outputs": [
    {
     "data": {
      "text/plain": [
       "{'tvec__max_df': 0.9,\n",
       " 'tvec__max_features': 5000,\n",
       " 'tvec__min_df': 3,\n",
       " 'tvec__ngram_range': (1, 2),\n",
       " 'tvec__stop_words': None}"
      ]
     },
     "execution_count": 60,
     "metadata": {},
     "output_type": "execute_result"
    }
   ],
   "source": [
    "gs_rfc.best_params_"
   ]
  },
  {
   "cell_type": "code",
   "execution_count": 61,
   "id": "f949844c-1872-4997-aaab-01cfba8ec9ec",
   "metadata": {},
   "outputs": [],
   "source": [
    "# Get predictions\n",
    "preds_rfc = gs_rfc.predict(X_test)"
   ]
  },
  {
   "cell_type": "code",
   "execution_count": 62,
   "id": "5c9b6310-456d-4f1e-8129-3c69e386d34d",
   "metadata": {},
   "outputs": [
    {
     "data": {
      "text/html": [
       "<div>\n",
       "<style scoped>\n",
       "    .dataframe tbody tr th:only-of-type {\n",
       "        vertical-align: middle;\n",
       "    }\n",
       "\n",
       "    .dataframe tbody tr th {\n",
       "        vertical-align: top;\n",
       "    }\n",
       "\n",
       "    .dataframe thead th {\n",
       "        text-align: right;\n",
       "    }\n",
       "</style>\n",
       "<table border=\"1\" class=\"dataframe\">\n",
       "  <thead>\n",
       "    <tr style=\"text-align: right;\">\n",
       "      <th></th>\n",
       "      <th>Model</th>\n",
       "      <th>Score on train</th>\n",
       "      <th>Score on test</th>\n",
       "      <th>Sensitivity</th>\n",
       "      <th>Specificity</th>\n",
       "      <th>Precision</th>\n",
       "    </tr>\n",
       "  </thead>\n",
       "  <tbody>\n",
       "    <tr>\n",
       "      <th>0</th>\n",
       "      <td>Randomfc</td>\n",
       "      <td>0.997</td>\n",
       "      <td>0.885</td>\n",
       "      <td>0.861</td>\n",
       "      <td>0.907</td>\n",
       "      <td>0.897</td>\n",
       "    </tr>\n",
       "  </tbody>\n",
       "</table>\n",
       "</div>"
      ],
      "text/plain": [
       "      Model  Score on train  Score on test  Sensitivity  Specificity  \\\n",
       "0  Randomfc           0.997          0.885        0.861        0.907   \n",
       "\n",
       "   Precision  \n",
       "0      0.897  "
      ]
     },
     "execution_count": 62,
     "metadata": {},
     "output_type": "execute_result"
    }
   ],
   "source": [
    "Randomfc=evaluation('Randomfc',y_test,preds_rfc,gs_rfc)\n",
    "Randomfc"
   ]
  },
  {
   "cell_type": "code",
   "execution_count": 63,
   "id": "003072c2-e655-4755-bce8-ddcd74afd5ce",
   "metadata": {},
   "outputs": [
    {
     "data": {
      "image/png": "[encoded data removed]",
      "text/plain": [
       "<Figure size 640x480 with 2 Axes>"
      ]
     },
     "metadata": {},
     "output_type": "display_data"
    }
   ],
   "source": [
    "plot_confusion(y_test,preds_rfc,gs_rfc);\n",
    "plt.title('Confusion matrix from Randomfc');\n",
    "plt.savefig(\"./img/Confusion_matrix_from_Randomfc.jpg\", dpi=300)"
   ]
  },
  {
   "cell_type": "markdown",
   "id": "1e269414-0eb3-41cc-99da-f59c48d7cd48",
   "metadata": {},
   "source": [
    "From the confusion matrix, we see that the true positives and true negatives are significantly higher compared to the false positives and the false negatives, which means the model can predict the AI texts more accurately and is confirmed from the above evaluation table for the model when looking at the sensitivity, specificity, and precision of the model."
   ]
  },
  {
   "cell_type": "markdown",
   "id": "bd8bb3f1-c083-40e0-88c5-a8aedcf97be7",
   "metadata": {},
   "source": [
    "# KNN Classifier"
   ]
  },
  {
   "cell_type": "code",
   "execution_count": 64,
   "id": "08d72fc6-1e35-400f-b8e0-651724a205c9",
   "metadata": {},
   "outputs": [],
   "source": [
    "# Let's set a pipeline up with two stages:\n",
    "pipe_knn = Pipeline([\n",
    "    ('tvec', TfidfVectorizer()),\n",
    "    ('knn', KNeighborsClassifier())\n",
    "])"
   ]
  },
  {
   "cell_type": "code",
   "execution_count": 65,
   "id": "7e34208b-5087-41b4-a3e3-088a7b0f402e",
   "metadata": {},
   "outputs": [],
   "source": [
    "pipe_params_knn = {\n",
    "    'tvec__max_features' : [2000],#[2000, 3000, 4000, 5000]\n",
    "    'tvec__min_df' : [3],#[3,5]\n",
    "    'tvec__max_df' : [0.9],#[0.9,0.95]\n",
    "    'tvec__ngram_range' : [(1,2)],#[(1,1),(1,2)]\n",
    "    'tvec__stop_words' : [ None, 'english'],\n",
    "    'knn__n_neighbors' : [3]#[3,4,5,6,7,8,9,10]\n",
    "}"
   ]
  },
  {
   "cell_type": "code",
   "execution_count": 66,
   "id": "c02e4e04-1790-4d55-b941-8cf7ea2d7732",
   "metadata": {},
   "outputs": [],
   "source": [
    "# Instantiate GridSearchCV for KNN Classifier\n",
    "gs_knn = GridSearchCV(pipe_knn,     # what object are we optimizing?\n",
    "                  pipe_params_knn,   # what parameters values are we searching?\n",
    "                  cv=5)               # 5-fold cross-validation."
   ]
  },
  {
   "cell_type": "code",
   "execution_count": 67,
   "id": "972cbaa7-d73c-4b10-b2f7-204baf6db7aa",
   "metadata": {},
   "outputs": [
    {
     "data": {
      "text/html": [
       "<style>#sk-container-id-3 {color: black;background-color: white;}#sk-container-id-3 pre{padding: 0;}#sk-container-id-3 div.sk-toggleable {background-color: white;}#sk-container-id-3 label.sk-toggleable__label {cursor: pointer;display: block;width: 100%;margin-bottom: 0;padding: 0.3em;box-sizing: border-box;text-align: center;}#sk-container-id-3 label.sk-toggleable__label-arrow:before {content: \"▸\";float: left;margin-right: 0.25em;color: #696969;}#sk-container-id-3 label.sk-toggleable__label-arrow:hover:before {color: black;}#sk-container-id-3 div.sk-estimator:hover label.sk-toggleable__label-arrow:before {color: black;}#sk-container-id-3 div.sk-toggleable__content {max-height: 0;max-width: 0;overflow: hidden;text-align: left;background-color: #f0f8ff;}#sk-container-id-3 div.sk-toggleable__content pre {margin: 0.2em;color: black;border-radius: 0.25em;background-color: #f0f8ff;}#sk-container-id-3 input.sk-toggleable__control:checked~div.sk-toggleable__content {max-height: 200px;max-width: 100%;overflow: auto;}#sk-container-id-3 input.sk-toggleable__control:checked~label.sk-toggleable__label-arrow:before {content: \"▾\";}#sk-container-id-3 div.sk-estimator input.sk-toggleable__control:checked~label.sk-toggleable__label {background-color: #d4ebff;}#sk-container-id-3 div.sk-label input.sk-toggleable__control:checked~label.sk-toggleable__label {background-color: #d4ebff;}#sk-container-id-3 input.sk-hidden--visually {border: 0;clip: rect(1px 1px 1px 1px);clip: rect(1px, 1px, 1px, 1px);height: 1px;margin: -1px;overflow: hidden;padding: 0;position: absolute;width: 1px;}#sk-container-id-3 div.sk-estimator {font-family: monospace;background-color: #f0f8ff;border: 1px dotted black;border-radius: 0.25em;box-sizing: border-box;margin-bottom: 0.5em;}#sk-container-id-3 div.sk-estimator:hover {background-color: #d4ebff;}#sk-container-id-3 div.sk-parallel-item::after {content: \"\";width: 100%;border-bottom: 1px solid gray;flex-grow: 1;}#sk-container-id-3 div.sk-label:hover label.sk-toggleable__label {background-color: #d4ebff;}#sk-container-id-3 div.sk-serial::before {content: \"\";position: absolute;border-left: 1px solid gray;box-sizing: border-box;top: 0;bottom: 0;left: 50%;z-index: 0;}#sk-container-id-3 div.sk-serial {display: flex;flex-direction: column;align-items: center;background-color: white;padding-right: 0.2em;padding-left: 0.2em;position: relative;}#sk-container-id-3 div.sk-item {position: relative;z-index: 1;}#sk-container-id-3 div.sk-parallel {display: flex;align-items: stretch;justify-content: center;background-color: white;position: relative;}#sk-container-id-3 div.sk-item::before, #sk-container-id-3 div.sk-parallel-item::before {content: \"\";position: absolute;border-left: 1px solid gray;box-sizing: border-box;top: 0;bottom: 0;left: 50%;z-index: -1;}#sk-container-id-3 div.sk-parallel-item {display: flex;flex-direction: column;z-index: 1;position: relative;background-color: white;}#sk-container-id-3 div.sk-parallel-item:first-child::after {align-self: flex-end;width: 50%;}#sk-container-id-3 div.sk-parallel-item:last-child::after {align-self: flex-start;width: 50%;}#sk-container-id-3 div.sk-parallel-item:only-child::after {width: 0;}#sk-container-id-3 div.sk-dashed-wrapped {border: 1px dashed gray;margin: 0 0.4em 0.5em 0.4em;box-sizing: border-box;padding-bottom: 0.4em;background-color: white;}#sk-container-id-3 div.sk-label label {font-family: monospace;font-weight: bold;display: inline-block;line-height: 1.2em;}#sk-container-id-3 div.sk-label-container {text-align: center;}#sk-container-id-3 div.sk-container {/* jupyter's `normalize.less` sets `[hidden] { display: none; }` but bootstrap.min.css set `[hidden] { display: none !important; }` so we also need the `!important` here to be able to override the default hidden behavior on the sphinx rendered scikit-learn.org. See: https://github.com/scikit-learn/scikit-learn/issues/21755 */display: inline-block !important;position: relative;}#sk-container-id-3 div.sk-text-repr-fallback {display: none;}</style><div id=\"sk-container-id-3\" class=\"sk-top-container\"><div class=\"sk-text-repr-fallback\"><pre>GridSearchCV(cv=5,\n",
       "             estimator=Pipeline(steps=[(&#x27;tvec&#x27;, TfidfVectorizer()),\n",
       "                                       (&#x27;knn&#x27;, KNeighborsClassifier())]),\n",
       "             param_grid={&#x27;knn__n_neighbors&#x27;: [3], &#x27;tvec__max_df&#x27;: [0.9],\n",
       "                         &#x27;tvec__max_features&#x27;: [2000], &#x27;tvec__min_df&#x27;: [3],\n",
       "                         &#x27;tvec__ngram_range&#x27;: [(1, 2)],\n",
       "                         &#x27;tvec__stop_words&#x27;: [None, &#x27;english&#x27;]})</pre><b>In a Jupyter environment, please rerun this cell to show the HTML representation or trust the notebook. <br />On GitHub, the HTML representation is unable to render, please try loading this page with nbviewer.org.</b></div><div class=\"sk-container\" hidden><div class=\"sk-item sk-dashed-wrapped\"><div class=\"sk-label-container\"><div class=\"sk-label sk-toggleable\"><input class=\"sk-toggleable__control sk-hidden--visually\" id=\"sk-estimator-id-9\" type=\"checkbox\" ><label for=\"sk-estimator-id-9\" class=\"sk-toggleable__label sk-toggleable__label-arrow\">GridSearchCV</label><div class=\"sk-toggleable__content\"><pre>GridSearchCV(cv=5,\n",
       "             estimator=Pipeline(steps=[(&#x27;tvec&#x27;, TfidfVectorizer()),\n",
       "                                       (&#x27;knn&#x27;, KNeighborsClassifier())]),\n",
       "             param_grid={&#x27;knn__n_neighbors&#x27;: [3], &#x27;tvec__max_df&#x27;: [0.9],\n",
       "                         &#x27;tvec__max_features&#x27;: [2000], &#x27;tvec__min_df&#x27;: [3],\n",
       "                         &#x27;tvec__ngram_range&#x27;: [(1, 2)],\n",
       "                         &#x27;tvec__stop_words&#x27;: [None, &#x27;english&#x27;]})</pre></div></div></div><div class=\"sk-parallel\"><div class=\"sk-parallel-item\"><div class=\"sk-item\"><div class=\"sk-label-container\"><div class=\"sk-label sk-toggleable\"><input class=\"sk-toggleable__control sk-hidden--visually\" id=\"sk-estimator-id-10\" type=\"checkbox\" ><label for=\"sk-estimator-id-10\" class=\"sk-toggleable__label sk-toggleable__label-arrow\">estimator: Pipeline</label><div class=\"sk-toggleable__content\"><pre>Pipeline(steps=[(&#x27;tvec&#x27;, TfidfVectorizer()), (&#x27;knn&#x27;, KNeighborsClassifier())])</pre></div></div></div><div class=\"sk-serial\"><div class=\"sk-item\"><div class=\"sk-serial\"><div class=\"sk-item\"><div class=\"sk-estimator sk-toggleable\"><input class=\"sk-toggleable__control sk-hidden--visually\" id=\"sk-estimator-id-11\" type=\"checkbox\" ><label for=\"sk-estimator-id-11\" class=\"sk-toggleable__label sk-toggleable__label-arrow\">TfidfVectorizer</label><div class=\"sk-toggleable__content\"><pre>TfidfVectorizer()</pre></div></div></div><div class=\"sk-item\"><div class=\"sk-estimator sk-toggleable\"><input class=\"sk-toggleable__control sk-hidden--visually\" id=\"sk-estimator-id-12\" type=\"checkbox\" ><label for=\"sk-estimator-id-12\" class=\"sk-toggleable__label sk-toggleable__label-arrow\">KNeighborsClassifier</label><div class=\"sk-toggleable__content\"><pre>KNeighborsClassifier()</pre></div></div></div></div></div></div></div></div></div></div></div></div>"
      ],
      "text/plain": [
       "GridSearchCV(cv=5,\n",
       "             estimator=Pipeline(steps=[('tvec', TfidfVectorizer()),\n",
       "                                       ('knn', KNeighborsClassifier())]),\n",
       "             param_grid={'knn__n_neighbors': [3], 'tvec__max_df': [0.9],\n",
       "                         'tvec__max_features': [2000], 'tvec__min_df': [3],\n",
       "                         'tvec__ngram_range': [(1, 2)],\n",
       "                         'tvec__stop_words': [None, 'english']})"
      ]
     },
     "execution_count": 67,
     "metadata": {},
     "output_type": "execute_result"
    }
   ],
   "source": [
    "# Fit GridSearch to training data.\n",
    "gs_knn.fit(X_train,y_train)"
   ]
  },
  {
   "cell_type": "code",
   "execution_count": 68,
   "id": "f50ceff1-101c-419f-8868-6569a835008d",
   "metadata": {},
   "outputs": [
    {
     "data": {
      "text/plain": [
       "{'knn__n_neighbors': 3,\n",
       " 'tvec__max_df': 0.9,\n",
       " 'tvec__max_features': 2000,\n",
       " 'tvec__min_df': 3,\n",
       " 'tvec__ngram_range': (1, 2),\n",
       " 'tvec__stop_words': None}"
      ]
     },
     "execution_count": 68,
     "metadata": {},
     "output_type": "execute_result"
    }
   ],
   "source": [
    "gs_knn.best_params_"
   ]
  },
  {
   "cell_type": "code",
   "execution_count": 69,
   "id": "5897963f-a91b-4c7b-a2ae-396c4add9633",
   "metadata": {},
   "outputs": [],
   "source": [
    "# Get predictions\n",
    "preds_knn = gs_knn.predict(X_test)"
   ]
  },
  {
   "cell_type": "code",
   "execution_count": 70,
   "id": "2b2b7024-2fda-4cbe-ba9c-c43dbb5c6dfe",
   "metadata": {},
   "outputs": [
    {
     "data": {
      "text/html": [
       "<div>\n",
       "<style scoped>\n",
       "    .dataframe tbody tr th:only-of-type {\n",
       "        vertical-align: middle;\n",
       "    }\n",
       "\n",
       "    .dataframe tbody tr th {\n",
       "        vertical-align: top;\n",
       "    }\n",
       "\n",
       "    .dataframe thead th {\n",
       "        text-align: right;\n",
       "    }\n",
       "</style>\n",
       "<table border=\"1\" class=\"dataframe\">\n",
       "  <thead>\n",
       "    <tr style=\"text-align: right;\">\n",
       "      <th></th>\n",
       "      <th>Model</th>\n",
       "      <th>Score on train</th>\n",
       "      <th>Score on test</th>\n",
       "      <th>Sensitivity</th>\n",
       "      <th>Specificity</th>\n",
       "      <th>Precision</th>\n",
       "    </tr>\n",
       "  </thead>\n",
       "  <tbody>\n",
       "    <tr>\n",
       "      <th>0</th>\n",
       "      <td>KNN</td>\n",
       "      <td>0.639</td>\n",
       "      <td>0.586</td>\n",
       "      <td>0.171</td>\n",
       "      <td>0.976</td>\n",
       "      <td>0.869</td>\n",
       "    </tr>\n",
       "  </tbody>\n",
       "</table>\n",
       "</div>"
      ],
      "text/plain": [
       "  Model  Score on train  Score on test  Sensitivity  Specificity  Precision\n",
       "0   KNN           0.639          0.586        0.171        0.976      0.869"
      ]
     },
     "execution_count": 70,
     "metadata": {},
     "output_type": "execute_result"
    }
   ],
   "source": [
    "knn = evaluation('KNN',y_test,preds_knn,gs_knn)\n",
    "knn"
   ]
  },
  {
   "cell_type": "code",
   "execution_count": 71,
   "id": "0c856ce0-b13c-4cfb-a0ba-4f86d49c3f60",
   "metadata": {},
   "outputs": [
    {
     "data": {
      "image/png": "[encoded data removed]",
      "text/plain": [
       "<Figure size 640x480 with 2 Axes>"
      ]
     },
     "metadata": {},
     "output_type": "display_data"
    }
   ],
   "source": [
    "plot_confusion(y_test,preds_knn,gs_knn);\n",
    "plt.title('Confusion matrix from KNN');\n",
    "plt.savefig(\"./img/Confusion_matrix_from_KNN.jpg\", dpi=300)"
   ]
  },
  {
   "cell_type": "markdown",
   "id": "7a5e5393-f753-4c59-9165-faeca0a3e5d5",
   "metadata": {},
   "source": [
    "From the confusion matrix, we see that the false negatives are significantly higher compared to the true negatives, false positives, and true positives which means the model is good only for predicting the AI texts rather than the human-generated texts and is confirmed from the above evaluation table for the model when looking at the lower sensitivity of the model."
   ]
  },
  {
   "cell_type": "markdown",
   "id": "572ec078-850b-4b2b-a008-538cf11a2954",
   "metadata": {},
   "source": [
    "# MultinomialNB"
   ]
  },
  {
   "cell_type": "code",
   "execution_count": 72,
   "id": "3ea5bb09-e993-4e58-a336-5673a5b8eefb",
   "metadata": {},
   "outputs": [],
   "source": [
    "# Let's set a pipeline up with two stages:\n",
    "pipe_mnb = Pipeline([\n",
    "    ('tvec', TfidfVectorizer()),\n",
    "    ('mnb', MultinomialNB())\n",
    "])"
   ]
  },
  {
   "cell_type": "code",
   "execution_count": 73,
   "id": "496bba0a-8cb2-43c1-8a7d-0cf7b8c6a10b",
   "metadata": {},
   "outputs": [],
   "source": [
    "pipe_params_mnb = {\n",
    "    'tvec__max_features' : [5000],#[2000, 3000, 4000, 5000]\n",
    "    'tvec__min_df' : [5],#[3,5]\n",
    "    'tvec__max_df' : [0.9],#[0.9,0.95]\n",
    "    'tvec__ngram_range' : [(1,1)],#[(1,1),(1,2)]\n",
    "    'tvec__stop_words' : [ None, 'english']\n",
    "}"
   ]
  },
  {
   "cell_type": "code",
   "execution_count": 74,
   "id": "50788220-af1e-47db-be9d-d82007d08ce8",
   "metadata": {},
   "outputs": [],
   "source": [
    "# Instantiate GridSearchCV for MultinomialNB\n",
    "gs_mnb = GridSearchCV(pipe_mnb,     # what object are we optimizing?\n",
    "                  pipe_params_mnb,   # what parameters values are we searching?\n",
    "                  cv=5)               # 5-fold cross-validation."
   ]
  },
  {
   "cell_type": "code",
   "execution_count": 75,
   "id": "0881e900-8e17-4ead-bd46-c39495dbdb5f",
   "metadata": {},
   "outputs": [
    {
     "data": {
      "text/html": [
       "<style>#sk-container-id-4 {color: black;background-color: white;}#sk-container-id-4 pre{padding: 0;}#sk-container-id-4 div.sk-toggleable {background-color: white;}#sk-container-id-4 label.sk-toggleable__label {cursor: pointer;display: block;width: 100%;margin-bottom: 0;padding: 0.3em;box-sizing: border-box;text-align: center;}#sk-container-id-4 label.sk-toggleable__label-arrow:before {content: \"▸\";float: left;margin-right: 0.25em;color: #696969;}#sk-container-id-4 label.sk-toggleable__label-arrow:hover:before {color: black;}#sk-container-id-4 div.sk-estimator:hover label.sk-toggleable__label-arrow:before {color: black;}#sk-container-id-4 div.sk-toggleable__content {max-height: 0;max-width: 0;overflow: hidden;text-align: left;background-color: #f0f8ff;}#sk-container-id-4 div.sk-toggleable__content pre {margin: 0.2em;color: black;border-radius: 0.25em;background-color: #f0f8ff;}#sk-container-id-4 input.sk-toggleable__control:checked~div.sk-toggleable__content {max-height: 200px;max-width: 100%;overflow: auto;}#sk-container-id-4 input.sk-toggleable__control:checked~label.sk-toggleable__label-arrow:before {content: \"▾\";}#sk-container-id-4 div.sk-estimator input.sk-toggleable__control:checked~label.sk-toggleable__label {background-color: #d4ebff;}#sk-container-id-4 div.sk-label input.sk-toggleable__control:checked~label.sk-toggleable__label {background-color: #d4ebff;}#sk-container-id-4 input.sk-hidden--visually {border: 0;clip: rect(1px 1px 1px 1px);clip: rect(1px, 1px, 1px, 1px);height: 1px;margin: -1px;overflow: hidden;padding: 0;position: absolute;width: 1px;}#sk-container-id-4 div.sk-estimator {font-family: monospace;background-color: #f0f8ff;border: 1px dotted black;border-radius: 0.25em;box-sizing: border-box;margin-bottom: 0.5em;}#sk-container-id-4 div.sk-estimator:hover {background-color: #d4ebff;}#sk-container-id-4 div.sk-parallel-item::after {content: \"\";width: 100%;border-bottom: 1px solid gray;flex-grow: 1;}#sk-container-id-4 div.sk-label:hover label.sk-toggleable__label {background-color: #d4ebff;}#sk-container-id-4 div.sk-serial::before {content: \"\";position: absolute;border-left: 1px solid gray;box-sizing: border-box;top: 0;bottom: 0;left: 50%;z-index: 0;}#sk-container-id-4 div.sk-serial {display: flex;flex-direction: column;align-items: center;background-color: white;padding-right: 0.2em;padding-left: 0.2em;position: relative;}#sk-container-id-4 div.sk-item {position: relative;z-index: 1;}#sk-container-id-4 div.sk-parallel {display: flex;align-items: stretch;justify-content: center;background-color: white;position: relative;}#sk-container-id-4 div.sk-item::before, #sk-container-id-4 div.sk-parallel-item::before {content: \"\";position: absolute;border-left: 1px solid gray;box-sizing: border-box;top: 0;bottom: 0;left: 50%;z-index: -1;}#sk-container-id-4 div.sk-parallel-item {display: flex;flex-direction: column;z-index: 1;position: relative;background-color: white;}#sk-container-id-4 div.sk-parallel-item:first-child::after {align-self: flex-end;width: 50%;}#sk-container-id-4 div.sk-parallel-item:last-child::after {align-self: flex-start;width: 50%;}#sk-container-id-4 div.sk-parallel-item:only-child::after {width: 0;}#sk-container-id-4 div.sk-dashed-wrapped {border: 1px dashed gray;margin: 0 0.4em 0.5em 0.4em;box-sizing: border-box;padding-bottom: 0.4em;background-color: white;}#sk-container-id-4 div.sk-label label {font-family: monospace;font-weight: bold;display: inline-block;line-height: 1.2em;}#sk-container-id-4 div.sk-label-container {text-align: center;}#sk-container-id-4 div.sk-container {/* jupyter's `normalize.less` sets `[hidden] { display: none; }` but bootstrap.min.css set `[hidden] { display: none !important; }` so we also need the `!important` here to be able to override the default hidden behavior on the sphinx rendered scikit-learn.org. See: https://github.com/scikit-learn/scikit-learn/issues/21755 */display: inline-block !important;position: relative;}#sk-container-id-4 div.sk-text-repr-fallback {display: none;}</style><div id=\"sk-container-id-4\" class=\"sk-top-container\"><div class=\"sk-text-repr-fallback\"><pre>GridSearchCV(cv=5,\n",
       "             estimator=Pipeline(steps=[(&#x27;tvec&#x27;, TfidfVectorizer()),\n",
       "                                       (&#x27;mnb&#x27;, MultinomialNB())]),\n",
       "             param_grid={&#x27;tvec__max_df&#x27;: [0.9], &#x27;tvec__max_features&#x27;: [5000],\n",
       "                         &#x27;tvec__min_df&#x27;: [5], &#x27;tvec__ngram_range&#x27;: [(1, 1)],\n",
       "                         &#x27;tvec__stop_words&#x27;: [None, &#x27;english&#x27;]})</pre><b>In a Jupyter environment, please rerun this cell to show the HTML representation or trust the notebook. <br />On GitHub, the HTML representation is unable to render, please try loading this page with nbviewer.org.</b></div><div class=\"sk-container\" hidden><div class=\"sk-item sk-dashed-wrapped\"><div class=\"sk-label-container\"><div class=\"sk-label sk-toggleable\"><input class=\"sk-toggleable__control sk-hidden--visually\" id=\"sk-estimator-id-13\" type=\"checkbox\" ><label for=\"sk-estimator-id-13\" class=\"sk-toggleable__label sk-toggleable__label-arrow\">GridSearchCV</label><div class=\"sk-toggleable__content\"><pre>GridSearchCV(cv=5,\n",
       "             estimator=Pipeline(steps=[(&#x27;tvec&#x27;, TfidfVectorizer()),\n",
       "                                       (&#x27;mnb&#x27;, MultinomialNB())]),\n",
       "             param_grid={&#x27;tvec__max_df&#x27;: [0.9], &#x27;tvec__max_features&#x27;: [5000],\n",
       "                         &#x27;tvec__min_df&#x27;: [5], &#x27;tvec__ngram_range&#x27;: [(1, 1)],\n",
       "                         &#x27;tvec__stop_words&#x27;: [None, &#x27;english&#x27;]})</pre></div></div></div><div class=\"sk-parallel\"><div class=\"sk-parallel-item\"><div class=\"sk-item\"><div class=\"sk-label-container\"><div class=\"sk-label sk-toggleable\"><input class=\"sk-toggleable__control sk-hidden--visually\" id=\"sk-estimator-id-14\" type=\"checkbox\" ><label for=\"sk-estimator-id-14\" class=\"sk-toggleable__label sk-toggleable__label-arrow\">estimator: Pipeline</label><div class=\"sk-toggleable__content\"><pre>Pipeline(steps=[(&#x27;tvec&#x27;, TfidfVectorizer()), (&#x27;mnb&#x27;, MultinomialNB())])</pre></div></div></div><div class=\"sk-serial\"><div class=\"sk-item\"><div class=\"sk-serial\"><div class=\"sk-item\"><div class=\"sk-estimator sk-toggleable\"><input class=\"sk-toggleable__control sk-hidden--visually\" id=\"sk-estimator-id-15\" type=\"checkbox\" ><label for=\"sk-estimator-id-15\" class=\"sk-toggleable__label sk-toggleable__label-arrow\">TfidfVectorizer</label><div class=\"sk-toggleable__content\"><pre>TfidfVectorizer()</pre></div></div></div><div class=\"sk-item\"><div class=\"sk-estimator sk-toggleable\"><input class=\"sk-toggleable__control sk-hidden--visually\" id=\"sk-estimator-id-16\" type=\"checkbox\" ><label for=\"sk-estimator-id-16\" class=\"sk-toggleable__label sk-toggleable__label-arrow\">MultinomialNB</label><div class=\"sk-toggleable__content\"><pre>MultinomialNB()</pre></div></div></div></div></div></div></div></div></div></div></div></div>"
      ],
      "text/plain": [
       "GridSearchCV(cv=5,\n",
       "             estimator=Pipeline(steps=[('tvec', TfidfVectorizer()),\n",
       "                                       ('mnb', MultinomialNB())]),\n",
       "             param_grid={'tvec__max_df': [0.9], 'tvec__max_features': [5000],\n",
       "                         'tvec__min_df': [5], 'tvec__ngram_range': [(1, 1)],\n",
       "                         'tvec__stop_words': [None, 'english']})"
      ]
     },
     "execution_count": 75,
     "metadata": {},
     "output_type": "execute_result"
    }
   ],
   "source": [
    "# Fit GridSearch to training data.\n",
    "gs_mnb.fit(X_train,y_train)"
   ]
  },
  {
   "cell_type": "code",
   "execution_count": 76,
   "id": "4a5a682c-c087-400d-be32-dbd4c430ad02",
   "metadata": {},
   "outputs": [
    {
     "data": {
      "text/plain": [
       "{'tvec__max_df': 0.9,\n",
       " 'tvec__max_features': 5000,\n",
       " 'tvec__min_df': 5,\n",
       " 'tvec__ngram_range': (1, 1),\n",
       " 'tvec__stop_words': None}"
      ]
     },
     "execution_count": 76,
     "metadata": {},
     "output_type": "execute_result"
    }
   ],
   "source": [
    "gs_mnb.best_params_"
   ]
  },
  {
   "cell_type": "code",
   "execution_count": 77,
   "id": "8932ce6b-8c12-4070-a5ef-3f75a22fd14e",
   "metadata": {},
   "outputs": [],
   "source": [
    "# Get predictions\n",
    "preds_mnb = gs_mnb.predict(X_test)"
   ]
  },
  {
   "cell_type": "code",
   "execution_count": 78,
   "id": "05b55754-2f72-44c6-91d4-54301bba3704",
   "metadata": {},
   "outputs": [
    {
     "data": {
      "text/html": [
       "<div>\n",
       "<style scoped>\n",
       "    .dataframe tbody tr th:only-of-type {\n",
       "        vertical-align: middle;\n",
       "    }\n",
       "\n",
       "    .dataframe tbody tr th {\n",
       "        vertical-align: top;\n",
       "    }\n",
       "\n",
       "    .dataframe thead th {\n",
       "        text-align: right;\n",
       "    }\n",
       "</style>\n",
       "<table border=\"1\" class=\"dataframe\">\n",
       "  <thead>\n",
       "    <tr style=\"text-align: right;\">\n",
       "      <th></th>\n",
       "      <th>Model</th>\n",
       "      <th>Score on train</th>\n",
       "      <th>Score on test</th>\n",
       "      <th>Sensitivity</th>\n",
       "      <th>Specificity</th>\n",
       "      <th>Precision</th>\n",
       "    </tr>\n",
       "  </thead>\n",
       "  <tbody>\n",
       "    <tr>\n",
       "      <th>0</th>\n",
       "      <td>MultinomialNB</td>\n",
       "      <td>0.879</td>\n",
       "      <td>0.829</td>\n",
       "      <td>0.863</td>\n",
       "      <td>0.798</td>\n",
       "      <td>0.8</td>\n",
       "    </tr>\n",
       "  </tbody>\n",
       "</table>\n",
       "</div>"
      ],
      "text/plain": [
       "           Model  Score on train  Score on test  Sensitivity  Specificity  \\\n",
       "0  MultinomialNB           0.879          0.829        0.863        0.798   \n",
       "\n",
       "   Precision  \n",
       "0        0.8  "
      ]
     },
     "execution_count": 78,
     "metadata": {},
     "output_type": "execute_result"
    }
   ],
   "source": [
    "mnb = evaluation('MultinomialNB',y_test,preds_mnb,gs_mnb)\n",
    "mnb"
   ]
  },
  {
   "cell_type": "code",
   "execution_count": 79,
   "id": "22ec2bf4-37a0-40b7-9264-d2a424a17333",
   "metadata": {},
   "outputs": [
    {
     "data": {
      "image/png": "[encoded data removed]",
      "text/plain": [
       "<Figure size 640x480 with 2 Axes>"
      ]
     },
     "metadata": {},
     "output_type": "display_data"
    }
   ],
   "source": [
    "plot_confusion(y_test,preds_mnb,gs_mnb);\n",
    "plt.title('Confusion matrix from MultinomialNB');\n",
    "plt.savefig(\"./img/Confusion_matrix_from_MultinomialNB.jpg\", dpi=300)"
   ]
  },
  {
   "cell_type": "markdown",
   "id": "4ca0a415-eaf7-4e9e-943d-335d410561f9",
   "metadata": {},
   "source": [
    "From the confusion matrix, we see that the true positives and true negatives are significantly higher compared to the false positives and the false negatives, which means the model can predict the AI texts more accurately and is confirmed from the above evaluation table for the model when looking at the sensitivity, specificity, and precision of the model."
   ]
  },
  {
   "cell_type": "markdown",
   "id": "64931d25-b57d-4f9e-8e8e-d5e79170556f",
   "metadata": {},
   "source": [
    "# BernoulliNB"
   ]
  },
  {
   "cell_type": "code",
   "execution_count": 80,
   "id": "fb4c7a41-e051-475f-82fa-816351cdd768",
   "metadata": {},
   "outputs": [],
   "source": [
    "# Let's set a pipeline up with two stages:\n",
    "pipe_bnb = Pipeline([\n",
    "    ('tvec', TfidfVectorizer()),\n",
    "    ('bnb', BernoulliNB())\n",
    "])"
   ]
  },
  {
   "cell_type": "code",
   "execution_count": 81,
   "id": "971f17b7-24fb-449b-9e4e-0f7ddf9be9d5",
   "metadata": {},
   "outputs": [],
   "source": [
    "pipe_params_bnb = {\n",
    "    'tvec__max_features' : [5000],#[2000, 3000, 4000, 5000]\n",
    "    'tvec__min_df' : [5],#[3,5]\n",
    "    'tvec__max_df' : [0.9],#[0.9,0.95]\n",
    "    'tvec__ngram_range' : [(1,2)],#[(1,1),(1,2)]\n",
    "    'tvec__stop_words' : [ None, 'english']\n",
    "}"
   ]
  },
  {
   "cell_type": "code",
   "execution_count": 82,
   "id": "8e003527-28ef-4016-ad6a-884dd8b3b978",
   "metadata": {},
   "outputs": [],
   "source": [
    "# Instantiate GridSearchCV for BernoulliNB\n",
    "gs_bnb = GridSearchCV(pipe_bnb,     # what object are we optimizing?\n",
    "                  pipe_params_bnb,   # what parameters values are we searching?\n",
    "                  cv=5)               # 5-fold cross-validation."
   ]
  },
  {
   "cell_type": "code",
   "execution_count": 83,
   "id": "3600c2ee-0a84-4dff-954d-2c37e8d11daa",
   "metadata": {},
   "outputs": [
    {
     "data": {
      "text/html": [
       "<style>#sk-container-id-5 {color: black;background-color: white;}#sk-container-id-5 pre{padding: 0;}#sk-container-id-5 div.sk-toggleable {background-color: white;}#sk-container-id-5 label.sk-toggleable__label {cursor: pointer;display: block;width: 100%;margin-bottom: 0;padding: 0.3em;box-sizing: border-box;text-align: center;}#sk-container-id-5 label.sk-toggleable__label-arrow:before {content: \"▸\";float: left;margin-right: 0.25em;color: #696969;}#sk-container-id-5 label.sk-toggleable__label-arrow:hover:before {color: black;}#sk-container-id-5 div.sk-estimator:hover label.sk-toggleable__label-arrow:before {color: black;}#sk-container-id-5 div.sk-toggleable__content {max-height: 0;max-width: 0;overflow: hidden;text-align: left;background-color: #f0f8ff;}#sk-container-id-5 div.sk-toggleable__content pre {margin: 0.2em;color: black;border-radius: 0.25em;background-color: #f0f8ff;}#sk-container-id-5 input.sk-toggleable__control:checked~div.sk-toggleable__content {max-height: 200px;max-width: 100%;overflow: auto;}#sk-container-id-5 input.sk-toggleable__control:checked~label.sk-toggleable__label-arrow:before {content: \"▾\";}#sk-container-id-5 div.sk-estimator input.sk-toggleable__control:checked~label.sk-toggleable__label {background-color: #d4ebff;}#sk-container-id-5 div.sk-label input.sk-toggleable__control:checked~label.sk-toggleable__label {background-color: #d4ebff;}#sk-container-id-5 input.sk-hidden--visually {border: 0;clip: rect(1px 1px 1px 1px);clip: rect(1px, 1px, 1px, 1px);height: 1px;margin: -1px;overflow: hidden;padding: 0;position: absolute;width: 1px;}#sk-container-id-5 div.sk-estimator {font-family: monospace;background-color: #f0f8ff;border: 1px dotted black;border-radius: 0.25em;box-sizing: border-box;margin-bottom: 0.5em;}#sk-container-id-5 div.sk-estimator:hover {background-color: #d4ebff;}#sk-container-id-5 div.sk-parallel-item::after {content: \"\";width: 100%;border-bottom: 1px solid gray;flex-grow: 1;}#sk-container-id-5 div.sk-label:hover label.sk-toggleable__label {background-color: #d4ebff;}#sk-container-id-5 div.sk-serial::before {content: \"\";position: absolute;border-left: 1px solid gray;box-sizing: border-box;top: 0;bottom: 0;left: 50%;z-index: 0;}#sk-container-id-5 div.sk-serial {display: flex;flex-direction: column;align-items: center;background-color: white;padding-right: 0.2em;padding-left: 0.2em;position: relative;}#sk-container-id-5 div.sk-item {position: relative;z-index: 1;}#sk-container-id-5 div.sk-parallel {display: flex;align-items: stretch;justify-content: center;background-color: white;position: relative;}#sk-container-id-5 div.sk-item::before, #sk-container-id-5 div.sk-parallel-item::before {content: \"\";position: absolute;border-left: 1px solid gray;box-sizing: border-box;top: 0;bottom: 0;left: 50%;z-index: -1;}#sk-container-id-5 div.sk-parallel-item {display: flex;flex-direction: column;z-index: 1;position: relative;background-color: white;}#sk-container-id-5 div.sk-parallel-item:first-child::after {align-self: flex-end;width: 50%;}#sk-container-id-5 div.sk-parallel-item:last-child::after {align-self: flex-start;width: 50%;}#sk-container-id-5 div.sk-parallel-item:only-child::after {width: 0;}#sk-container-id-5 div.sk-dashed-wrapped {border: 1px dashed gray;margin: 0 0.4em 0.5em 0.4em;box-sizing: border-box;padding-bottom: 0.4em;background-color: white;}#sk-container-id-5 div.sk-label label {font-family: monospace;font-weight: bold;display: inline-block;line-height: 1.2em;}#sk-container-id-5 div.sk-label-container {text-align: center;}#sk-container-id-5 div.sk-container {/* jupyter's `normalize.less` sets `[hidden] { display: none; }` but bootstrap.min.css set `[hidden] { display: none !important; }` so we also need the `!important` here to be able to override the default hidden behavior on the sphinx rendered scikit-learn.org. See: https://github.com/scikit-learn/scikit-learn/issues/21755 */display: inline-block !important;position: relative;}#sk-container-id-5 div.sk-text-repr-fallback {display: none;}</style><div id=\"sk-container-id-5\" class=\"sk-top-container\"><div class=\"sk-text-repr-fallback\"><pre>GridSearchCV(cv=5,\n",
       "             estimator=Pipeline(steps=[(&#x27;tvec&#x27;, TfidfVectorizer()),\n",
       "                                       (&#x27;bnb&#x27;, BernoulliNB())]),\n",
       "             param_grid={&#x27;tvec__max_df&#x27;: [0.9], &#x27;tvec__max_features&#x27;: [5000],\n",
       "                         &#x27;tvec__min_df&#x27;: [5], &#x27;tvec__ngram_range&#x27;: [(1, 2)],\n",
       "                         &#x27;tvec__stop_words&#x27;: [None, &#x27;english&#x27;]})</pre><b>In a Jupyter environment, please rerun this cell to show the HTML representation or trust the notebook. <br />On GitHub, the HTML representation is unable to render, please try loading this page with nbviewer.org.</b></div><div class=\"sk-container\" hidden><div class=\"sk-item sk-dashed-wrapped\"><div class=\"sk-label-container\"><div class=\"sk-label sk-toggleable\"><input class=\"sk-toggleable__control sk-hidden--visually\" id=\"sk-estimator-id-17\" type=\"checkbox\" ><label for=\"sk-estimator-id-17\" class=\"sk-toggleable__label sk-toggleable__label-arrow\">GridSearchCV</label><div class=\"sk-toggleable__content\"><pre>GridSearchCV(cv=5,\n",
       "             estimator=Pipeline(steps=[(&#x27;tvec&#x27;, TfidfVectorizer()),\n",
       "                                       (&#x27;bnb&#x27;, BernoulliNB())]),\n",
       "             param_grid={&#x27;tvec__max_df&#x27;: [0.9], &#x27;tvec__max_features&#x27;: [5000],\n",
       "                         &#x27;tvec__min_df&#x27;: [5], &#x27;tvec__ngram_range&#x27;: [(1, 2)],\n",
       "                         &#x27;tvec__stop_words&#x27;: [None, &#x27;english&#x27;]})</pre></div></div></div><div class=\"sk-parallel\"><div class=\"sk-parallel-item\"><div class=\"sk-item\"><div class=\"sk-label-container\"><div class=\"sk-label sk-toggleable\"><input class=\"sk-toggleable__control sk-hidden--visually\" id=\"sk-estimator-id-18\" type=\"checkbox\" ><label for=\"sk-estimator-id-18\" class=\"sk-toggleable__label sk-toggleable__label-arrow\">estimator: Pipeline</label><div class=\"sk-toggleable__content\"><pre>Pipeline(steps=[(&#x27;tvec&#x27;, TfidfVectorizer()), (&#x27;bnb&#x27;, BernoulliNB())])</pre></div></div></div><div class=\"sk-serial\"><div class=\"sk-item\"><div class=\"sk-serial\"><div class=\"sk-item\"><div class=\"sk-estimator sk-toggleable\"><input class=\"sk-toggleable__control sk-hidden--visually\" id=\"sk-estimator-id-19\" type=\"checkbox\" ><label for=\"sk-estimator-id-19\" class=\"sk-toggleable__label sk-toggleable__label-arrow\">TfidfVectorizer</label><div class=\"sk-toggleable__content\"><pre>TfidfVectorizer()</pre></div></div></div><div class=\"sk-item\"><div class=\"sk-estimator sk-toggleable\"><input class=\"sk-toggleable__control sk-hidden--visually\" id=\"sk-estimator-id-20\" type=\"checkbox\" ><label for=\"sk-estimator-id-20\" class=\"sk-toggleable__label sk-toggleable__label-arrow\">BernoulliNB</label><div class=\"sk-toggleable__content\"><pre>BernoulliNB()</pre></div></div></div></div></div></div></div></div></div></div></div></div>"
      ],
      "text/plain": [
       "GridSearchCV(cv=5,\n",
       "             estimator=Pipeline(steps=[('tvec', TfidfVectorizer()),\n",
       "                                       ('bnb', BernoulliNB())]),\n",
       "             param_grid={'tvec__max_df': [0.9], 'tvec__max_features': [5000],\n",
       "                         'tvec__min_df': [5], 'tvec__ngram_range': [(1, 2)],\n",
       "                         'tvec__stop_words': [None, 'english']})"
      ]
     },
     "execution_count": 83,
     "metadata": {},
     "output_type": "execute_result"
    }
   ],
   "source": [
    "# Fit GridSearch to training data.\n",
    "gs_bnb.fit(X_train,y_train)"
   ]
  },
  {
   "cell_type": "code",
   "execution_count": 84,
   "id": "6cfb7b46-b14a-4c4c-a614-0a1d9c190930",
   "metadata": {},
   "outputs": [
    {
     "data": {
      "text/plain": [
       "{'tvec__max_df': 0.9,\n",
       " 'tvec__max_features': 5000,\n",
       " 'tvec__min_df': 5,\n",
       " 'tvec__ngram_range': (1, 2),\n",
       " 'tvec__stop_words': 'english'}"
      ]
     },
     "execution_count": 84,
     "metadata": {},
     "output_type": "execute_result"
    }
   ],
   "source": [
    "gs_bnb.best_params_"
   ]
  },
  {
   "cell_type": "code",
   "execution_count": 85,
   "id": "2e45be9d-45f1-4787-9904-b2059e335d9e",
   "metadata": {},
   "outputs": [],
   "source": [
    "# Get predictions\n",
    "preds_bnb = gs_bnb.predict(X_test)"
   ]
  },
  {
   "cell_type": "code",
   "execution_count": 86,
   "id": "efeea52b-4c2f-4dd6-ac91-b53fc00c300d",
   "metadata": {},
   "outputs": [
    {
     "data": {
      "text/html": [
       "<div>\n",
       "<style scoped>\n",
       "    .dataframe tbody tr th:only-of-type {\n",
       "        vertical-align: middle;\n",
       "    }\n",
       "\n",
       "    .dataframe tbody tr th {\n",
       "        vertical-align: top;\n",
       "    }\n",
       "\n",
       "    .dataframe thead th {\n",
       "        text-align: right;\n",
       "    }\n",
       "</style>\n",
       "<table border=\"1\" class=\"dataframe\">\n",
       "  <thead>\n",
       "    <tr style=\"text-align: right;\">\n",
       "      <th></th>\n",
       "      <th>Model</th>\n",
       "      <th>Score on train</th>\n",
       "      <th>Score on test</th>\n",
       "      <th>Sensitivity</th>\n",
       "      <th>Specificity</th>\n",
       "      <th>Precision</th>\n",
       "    </tr>\n",
       "  </thead>\n",
       "  <tbody>\n",
       "    <tr>\n",
       "      <th>0</th>\n",
       "      <td>BernoulliNB</td>\n",
       "      <td>0.871</td>\n",
       "      <td>0.85</td>\n",
       "      <td>0.796</td>\n",
       "      <td>0.9</td>\n",
       "      <td>0.882</td>\n",
       "    </tr>\n",
       "  </tbody>\n",
       "</table>\n",
       "</div>"
      ],
      "text/plain": [
       "         Model  Score on train  Score on test  Sensitivity  Specificity  \\\n",
       "0  BernoulliNB           0.871           0.85        0.796          0.9   \n",
       "\n",
       "   Precision  \n",
       "0      0.882  "
      ]
     },
     "execution_count": 86,
     "metadata": {},
     "output_type": "execute_result"
    }
   ],
   "source": [
    "bnb=evaluation('BernoulliNB',y_test,preds_bnb,gs_bnb)\n",
    "bnb"
   ]
  },
  {
   "cell_type": "code",
   "execution_count": 87,
   "id": "5f0e4195-45b1-4573-8623-5962ec1416ba",
   "metadata": {},
   "outputs": [
    {
     "data": {
      "image/png": "[encoded data removed]",
      "text/plain": [
       "<Figure size 640x480 with 2 Axes>"
      ]
     },
     "metadata": {},
     "output_type": "display_data"
    }
   ],
   "source": [
    "plot_confusion(y_test,preds_bnb,gs_bnb);\n",
    "plt.title('Confusion matrix from BernoulliNB');\n",
    "plt.savefig(\"./img/Confusion_matrix_from_BernoulliNB.jpg\", dpi=300)"
   ]
  },
  {
   "cell_type": "markdown",
   "id": "d385fd66-db9c-4223-b930-b8209e4e072c",
   "metadata": {},
   "source": [
    "From the confusion matrix, we see that the true positives and true negatives are significantly higher compared to the false positives and the false negatives, which means the model can predict the AI texts more accurately and is confirmed from the above evaluation table for the model when looking at the sensitivity, specificity, and precision of the model."
   ]
  },
  {
   "cell_type": "markdown",
   "id": "4c082bb9-8337-4f32-bd11-f35d0ff73b4d",
   "metadata": {},
   "source": [
    "# AdaBoostClassifier"
   ]
  },
  {
   "cell_type": "code",
   "execution_count": 88,
   "id": "5ea0c464-804d-41c1-b99f-e6b6c21fa28e",
   "metadata": {},
   "outputs": [],
   "source": [
    "# Let's set a pipeline up with two stages:\n",
    "pipe_abc = Pipeline([\n",
    "    ('tvec', TfidfVectorizer()),\n",
    "    ('abc', AdaBoostClassifier())\n",
    "])"
   ]
  },
  {
   "cell_type": "code",
   "execution_count": 89,
   "id": "7558b785-36f3-4e23-862f-b2343a259559",
   "metadata": {},
   "outputs": [],
   "source": [
    "pipe_params_abc = {\n",
    "    'tvec__max_features' : [3000],#[2000, 3000, 4000, 5000]\n",
    "    'tvec__min_df' : [3],#[3,5]\n",
    "    'tvec__max_df' : [0.95],#[0.9,0.95]\n",
    "    'tvec__ngram_range' : [(1,2)],#[(1,1),(1,2)]\n",
    "    'tvec__stop_words' : [ None, 'english'],\n",
    "    'abc__n_estimators' : [300]#[100,200,300]\n",
    "}"
   ]
  },
  {
   "cell_type": "code",
   "execution_count": 90,
   "id": "24c91167-0250-401b-956d-e8884d73d5be",
   "metadata": {},
   "outputs": [],
   "source": [
    "# Instantiate GridSearchCV for AdaBoostClassifier\n",
    "gs_abc = GridSearchCV(pipe_abc,     # what object are we optimizing?\n",
    "                  pipe_params_abc,   # what parameters values are we searching?\n",
    "                  cv=5)               # 5-fold cross-validation."
   ]
  },
  {
   "cell_type": "code",
   "execution_count": 91,
   "id": "c8c6bf40-3dee-4d20-855a-66147ad234d1",
   "metadata": {},
   "outputs": [
    {
     "data": {
      "text/html": [
       "<style>#sk-container-id-6 {color: black;background-color: white;}#sk-container-id-6 pre{padding: 0;}#sk-container-id-6 div.sk-toggleable {background-color: white;}#sk-container-id-6 label.sk-toggleable__label {cursor: pointer;display: block;width: 100%;margin-bottom: 0;padding: 0.3em;box-sizing: border-box;text-align: center;}#sk-container-id-6 label.sk-toggleable__label-arrow:before {content: \"▸\";float: left;margin-right: 0.25em;color: #696969;}#sk-container-id-6 label.sk-toggleable__label-arrow:hover:before {color: black;}#sk-container-id-6 div.sk-estimator:hover label.sk-toggleable__label-arrow:before {color: black;}#sk-container-id-6 div.sk-toggleable__content {max-height: 0;max-width: 0;overflow: hidden;text-align: left;background-color: #f0f8ff;}#sk-container-id-6 div.sk-toggleable__content pre {margin: 0.2em;color: black;border-radius: 0.25em;background-color: #f0f8ff;}#sk-container-id-6 input.sk-toggleable__control:checked~div.sk-toggleable__content {max-height: 200px;max-width: 100%;overflow: auto;}#sk-container-id-6 input.sk-toggleable__control:checked~label.sk-toggleable__label-arrow:before {content: \"▾\";}#sk-container-id-6 div.sk-estimator input.sk-toggleable__control:checked~label.sk-toggleable__label {background-color: #d4ebff;}#sk-container-id-6 div.sk-label input.sk-toggleable__control:checked~label.sk-toggleable__label {background-color: #d4ebff;}#sk-container-id-6 input.sk-hidden--visually {border: 0;clip: rect(1px 1px 1px 1px);clip: rect(1px, 1px, 1px, 1px);height: 1px;margin: -1px;overflow: hidden;padding: 0;position: absolute;width: 1px;}#sk-container-id-6 div.sk-estimator {font-family: monospace;background-color: #f0f8ff;border: 1px dotted black;border-radius: 0.25em;box-sizing: border-box;margin-bottom: 0.5em;}#sk-container-id-6 div.sk-estimator:hover {background-color: #d4ebff;}#sk-container-id-6 div.sk-parallel-item::after {content: \"\";width: 100%;border-bottom: 1px solid gray;flex-grow: 1;}#sk-container-id-6 div.sk-label:hover label.sk-toggleable__label {background-color: #d4ebff;}#sk-container-id-6 div.sk-serial::before {content: \"\";position: absolute;border-left: 1px solid gray;box-sizing: border-box;top: 0;bottom: 0;left: 50%;z-index: 0;}#sk-container-id-6 div.sk-serial {display: flex;flex-direction: column;align-items: center;background-color: white;padding-right: 0.2em;padding-left: 0.2em;position: relative;}#sk-container-id-6 div.sk-item {position: relative;z-index: 1;}#sk-container-id-6 div.sk-parallel {display: flex;align-items: stretch;justify-content: center;background-color: white;position: relative;}#sk-container-id-6 div.sk-item::before, #sk-container-id-6 div.sk-parallel-item::before {content: \"\";position: absolute;border-left: 1px solid gray;box-sizing: border-box;top: 0;bottom: 0;left: 50%;z-index: -1;}#sk-container-id-6 div.sk-parallel-item {display: flex;flex-direction: column;z-index: 1;position: relative;background-color: white;}#sk-container-id-6 div.sk-parallel-item:first-child::after {align-self: flex-end;width: 50%;}#sk-container-id-6 div.sk-parallel-item:last-child::after {align-self: flex-start;width: 50%;}#sk-container-id-6 div.sk-parallel-item:only-child::after {width: 0;}#sk-container-id-6 div.sk-dashed-wrapped {border: 1px dashed gray;margin: 0 0.4em 0.5em 0.4em;box-sizing: border-box;padding-bottom: 0.4em;background-color: white;}#sk-container-id-6 div.sk-label label {font-family: monospace;font-weight: bold;display: inline-block;line-height: 1.2em;}#sk-container-id-6 div.sk-label-container {text-align: center;}#sk-container-id-6 div.sk-container {/* jupyter's `normalize.less` sets `[hidden] { display: none; }` but bootstrap.min.css set `[hidden] { display: none !important; }` so we also need the `!important` here to be able to override the default hidden behavior on the sphinx rendered scikit-learn.org. See: https://github.com/scikit-learn/scikit-learn/issues/21755 */display: inline-block !important;position: relative;}#sk-container-id-6 div.sk-text-repr-fallback {display: none;}</style><div id=\"sk-container-id-6\" class=\"sk-top-container\"><div class=\"sk-text-repr-fallback\"><pre>GridSearchCV(cv=5,\n",
       "             estimator=Pipeline(steps=[(&#x27;tvec&#x27;, TfidfVectorizer()),\n",
       "                                       (&#x27;abc&#x27;, AdaBoostClassifier())]),\n",
       "             param_grid={&#x27;abc__n_estimators&#x27;: [300], &#x27;tvec__max_df&#x27;: [0.95],\n",
       "                         &#x27;tvec__max_features&#x27;: [3000], &#x27;tvec__min_df&#x27;: [3],\n",
       "                         &#x27;tvec__ngram_range&#x27;: [(1, 2)],\n",
       "                         &#x27;tvec__stop_words&#x27;: [None, &#x27;english&#x27;]})</pre><b>In a Jupyter environment, please rerun this cell to show the HTML representation or trust the notebook. <br />On GitHub, the HTML representation is unable to render, please try loading this page with nbviewer.org.</b></div><div class=\"sk-container\" hidden><div class=\"sk-item sk-dashed-wrapped\"><div class=\"sk-label-container\"><div class=\"sk-label sk-toggleable\"><input class=\"sk-toggleable__control sk-hidden--visually\" id=\"sk-estimator-id-21\" type=\"checkbox\" ><label for=\"sk-estimator-id-21\" class=\"sk-toggleable__label sk-toggleable__label-arrow\">GridSearchCV</label><div class=\"sk-toggleable__content\"><pre>GridSearchCV(cv=5,\n",
       "             estimator=Pipeline(steps=[(&#x27;tvec&#x27;, TfidfVectorizer()),\n",
       "                                       (&#x27;abc&#x27;, AdaBoostClassifier())]),\n",
       "             param_grid={&#x27;abc__n_estimators&#x27;: [300], &#x27;tvec__max_df&#x27;: [0.95],\n",
       "                         &#x27;tvec__max_features&#x27;: [3000], &#x27;tvec__min_df&#x27;: [3],\n",
       "                         &#x27;tvec__ngram_range&#x27;: [(1, 2)],\n",
       "                         &#x27;tvec__stop_words&#x27;: [None, &#x27;english&#x27;]})</pre></div></div></div><div class=\"sk-parallel\"><div class=\"sk-parallel-item\"><div class=\"sk-item\"><div class=\"sk-label-container\"><div class=\"sk-label sk-toggleable\"><input class=\"sk-toggleable__control sk-hidden--visually\" id=\"sk-estimator-id-22\" type=\"checkbox\" ><label for=\"sk-estimator-id-22\" class=\"sk-toggleable__label sk-toggleable__label-arrow\">estimator: Pipeline</label><div class=\"sk-toggleable__content\"><pre>Pipeline(steps=[(&#x27;tvec&#x27;, TfidfVectorizer()), (&#x27;abc&#x27;, AdaBoostClassifier())])</pre></div></div></div><div class=\"sk-serial\"><div class=\"sk-item\"><div class=\"sk-serial\"><div class=\"sk-item\"><div class=\"sk-estimator sk-toggleable\"><input class=\"sk-toggleable__control sk-hidden--visually\" id=\"sk-estimator-id-23\" type=\"checkbox\" ><label for=\"sk-estimator-id-23\" class=\"sk-toggleable__label sk-toggleable__label-arrow\">TfidfVectorizer</label><div class=\"sk-toggleable__content\"><pre>TfidfVectorizer()</pre></div></div></div><div class=\"sk-item\"><div class=\"sk-estimator sk-toggleable\"><input class=\"sk-toggleable__control sk-hidden--visually\" id=\"sk-estimator-id-24\" type=\"checkbox\" ><label for=\"sk-estimator-id-24\" class=\"sk-toggleable__label sk-toggleable__label-arrow\">AdaBoostClassifier</label><div class=\"sk-toggleable__content\"><pre>AdaBoostClassifier()</pre></div></div></div></div></div></div></div></div></div></div></div></div>"
      ],
      "text/plain": [
       "GridSearchCV(cv=5,\n",
       "             estimator=Pipeline(steps=[('tvec', TfidfVectorizer()),\n",
       "                                       ('abc', AdaBoostClassifier())]),\n",
       "             param_grid={'abc__n_estimators': [300], 'tvec__max_df': [0.95],\n",
       "                         'tvec__max_features': [3000], 'tvec__min_df': [3],\n",
       "                         'tvec__ngram_range': [(1, 2)],\n",
       "                         'tvec__stop_words': [None, 'english']})"
      ]
     },
     "execution_count": 91,
     "metadata": {},
     "output_type": "execute_result"
    }
   ],
   "source": [
    "# Fit GridSearch to training data.\n",
    "gs_abc.fit(X_train,y_train)"
   ]
  },
  {
   "cell_type": "code",
   "execution_count": 92,
   "id": "4e2bdad2-7e45-4681-a03f-427cd1ab731d",
   "metadata": {},
   "outputs": [],
   "source": [
    "# Get predictions\n",
    "preds_abc = gs_abc.predict(X_test)"
   ]
  },
  {
   "cell_type": "code",
   "execution_count": 93,
   "id": "dfd970de-4f3a-404d-9352-faee8961c494",
   "metadata": {},
   "outputs": [
    {
     "data": {
      "text/plain": [
       "{'abc__n_estimators': 300,\n",
       " 'tvec__max_df': 0.95,\n",
       " 'tvec__max_features': 3000,\n",
       " 'tvec__min_df': 3,\n",
       " 'tvec__ngram_range': (1, 2),\n",
       " 'tvec__stop_words': None}"
      ]
     },
     "execution_count": 93,
     "metadata": {},
     "output_type": "execute_result"
    }
   ],
   "source": [
    "gs_abc.best_params_"
   ]
  },
  {
   "cell_type": "code",
   "execution_count": 94,
   "id": "89be8ba5-dda9-407d-954b-3ae02f365f91",
   "metadata": {},
   "outputs": [
    {
     "data": {
      "text/html": [
       "<div>\n",
       "<style scoped>\n",
       "    .dataframe tbody tr th:only-of-type {\n",
       "        vertical-align: middle;\n",
       "    }\n",
       "\n",
       "    .dataframe tbody tr th {\n",
       "        vertical-align: top;\n",
       "    }\n",
       "\n",
       "    .dataframe thead th {\n",
       "        text-align: right;\n",
       "    }\n",
       "</style>\n",
       "<table border=\"1\" class=\"dataframe\">\n",
       "  <thead>\n",
       "    <tr style=\"text-align: right;\">\n",
       "      <th></th>\n",
       "      <th>Model</th>\n",
       "      <th>Score on train</th>\n",
       "      <th>Score on test</th>\n",
       "      <th>Sensitivity</th>\n",
       "      <th>Specificity</th>\n",
       "      <th>Precision</th>\n",
       "    </tr>\n",
       "  </thead>\n",
       "  <tbody>\n",
       "    <tr>\n",
       "      <th>0</th>\n",
       "      <td>AdaBoostClassifier</td>\n",
       "      <td>0.932</td>\n",
       "      <td>0.869</td>\n",
       "      <td>0.846</td>\n",
       "      <td>0.891</td>\n",
       "      <td>0.879</td>\n",
       "    </tr>\n",
       "  </tbody>\n",
       "</table>\n",
       "</div>"
      ],
      "text/plain": [
       "                Model  Score on train  Score on test  Sensitivity  \\\n",
       "0  AdaBoostClassifier           0.932          0.869        0.846   \n",
       "\n",
       "   Specificity  Precision  \n",
       "0        0.891      0.879  "
      ]
     },
     "execution_count": 94,
     "metadata": {},
     "output_type": "execute_result"
    }
   ],
   "source": [
    "abc = evaluation('AdaBoostClassifier',y_test,preds_abc,gs_abc)\n",
    "abc"
   ]
  },
  {
   "cell_type": "code",
   "execution_count": 95,
   "id": "5ff8851e-de07-45c2-b5a6-4b51ee2cf7d2",
   "metadata": {},
   "outputs": [
    {
     "data": {
      "image/png": "[encoded data removed]",
      "text/plain": [
       "<Figure size 640x480 with 2 Axes>"
      ]
     },
     "metadata": {},
     "output_type": "display_data"
    }
   ],
   "source": [
    "plot_confusion(y_test,preds_abc,gs_abc);\n",
    "plt.title('Confusion matrix from AdaBoostClassifier');\n",
    "plt.savefig(\"./img/Confusion_matrix_from_AdaBoostClassifier.jpg\", dpi=300)"
   ]
  },
  {
   "cell_type": "markdown",
   "id": "5ec79b16-03ba-40db-8663-00317dba1171",
   "metadata": {},
   "source": [
    "From the confusion matrix, we see that the true positives and true negatives are significantly higher compared to the false positives and the false negatives, which means the model can predict the AI texts more accurately and is confirmed from the above evaluation table for the model when looking at the sensitivity, specificity, and precision of the model."
   ]
  },
  {
   "cell_type": "markdown",
   "id": "99302d18-5b08-4979-814d-0fb349e1e0f4",
   "metadata": {},
   "source": [
    "# LinearSVC"
   ]
  },
  {
   "cell_type": "code",
   "execution_count": 96,
   "id": "7a36293b-95f4-47bc-a35c-4628b8401bed",
   "metadata": {},
   "outputs": [],
   "source": [
    "# Let's set a pipeline up with two stages:\n",
    "pipe_svc = Pipeline([\n",
    "    ('tvec', TfidfVectorizer()),\n",
    "    ('svc', LinearSVC())\n",
    "])"
   ]
  },
  {
   "cell_type": "code",
   "execution_count": 97,
   "id": "b95759bf-57d7-47dd-bf83-fc7af92029a9",
   "metadata": {},
   "outputs": [],
   "source": [
    "pipe_params_svc = {\n",
    "    'tvec__max_features' : [5000],#[2000, 3000, 4000, 5000]\n",
    "    'tvec__min_df' : [5],#[3,5]\n",
    "    'tvec__max_df' : [0.9],#[0.9,0.95]\n",
    "    'tvec__ngram_range' : [(1,2)],#[(1,1),(1,2)]\n",
    "    'tvec__stop_words' : [ None, 'english'],\n",
    "    'svc__C' : np.linspace(0.0001, 1, 5)\n",
    "}"
   ]
  },
  {
   "cell_type": "code",
   "execution_count": 98,
   "id": "6af5b261-41ea-4bca-a50a-00bf208f972c",
   "metadata": {},
   "outputs": [],
   "source": [
    "# Instantiate GridSearchCV for LinearSVC\n",
    "gs_svc = GridSearchCV(pipe_svc,     # what object are we optimizing?\n",
    "                  pipe_params_svc,   # what parameters values are we searching?\n",
    "                  cv=5)               # 5-fold cross-validation."
   ]
  },
  {
   "cell_type": "code",
   "execution_count": 99,
   "id": "bfce560d-cb40-4e40-bf41-3feb9c78489c",
   "metadata": {},
   "outputs": [
    {
     "data": {
      "text/html": [
       "<style>#sk-container-id-7 {color: black;background-color: white;}#sk-container-id-7 pre{padding: 0;}#sk-container-id-7 div.sk-toggleable {background-color: white;}#sk-container-id-7 label.sk-toggleable__label {cursor: pointer;display: block;width: 100%;margin-bottom: 0;padding: 0.3em;box-sizing: border-box;text-align: center;}#sk-container-id-7 label.sk-toggleable__label-arrow:before {content: \"▸\";float: left;margin-right: 0.25em;color: #696969;}#sk-container-id-7 label.sk-toggleable__label-arrow:hover:before {color: black;}#sk-container-id-7 div.sk-estimator:hover label.sk-toggleable__label-arrow:before {color: black;}#sk-container-id-7 div.sk-toggleable__content {max-height: 0;max-width: 0;overflow: hidden;text-align: left;background-color: #f0f8ff;}#sk-container-id-7 div.sk-toggleable__content pre {margin: 0.2em;color: black;border-radius: 0.25em;background-color: #f0f8ff;}#sk-container-id-7 input.sk-toggleable__control:checked~div.sk-toggleable__content {max-height: 200px;max-width: 100%;overflow: auto;}#sk-container-id-7 input.sk-toggleable__control:checked~label.sk-toggleable__label-arrow:before {content: \"▾\";}#sk-container-id-7 div.sk-estimator input.sk-toggleable__control:checked~label.sk-toggleable__label {background-color: #d4ebff;}#sk-container-id-7 div.sk-label input.sk-toggleable__control:checked~label.sk-toggleable__label {background-color: #d4ebff;}#sk-container-id-7 input.sk-hidden--visually {border: 0;clip: rect(1px 1px 1px 1px);clip: rect(1px, 1px, 1px, 1px);height: 1px;margin: -1px;overflow: hidden;padding: 0;position: absolute;width: 1px;}#sk-container-id-7 div.sk-estimator {font-family: monospace;background-color: #f0f8ff;border: 1px dotted black;border-radius: 0.25em;box-sizing: border-box;margin-bottom: 0.5em;}#sk-container-id-7 div.sk-estimator:hover {background-color: #d4ebff;}#sk-container-id-7 div.sk-parallel-item::after {content: \"\";width: 100%;border-bottom: 1px solid gray;flex-grow: 1;}#sk-container-id-7 div.sk-label:hover label.sk-toggleable__label {background-color: #d4ebff;}#sk-container-id-7 div.sk-serial::before {content: \"\";position: absolute;border-left: 1px solid gray;box-sizing: border-box;top: 0;bottom: 0;left: 50%;z-index: 0;}#sk-container-id-7 div.sk-serial {display: flex;flex-direction: column;align-items: center;background-color: white;padding-right: 0.2em;padding-left: 0.2em;position: relative;}#sk-container-id-7 div.sk-item {position: relative;z-index: 1;}#sk-container-id-7 div.sk-parallel {display: flex;align-items: stretch;justify-content: center;background-color: white;position: relative;}#sk-container-id-7 div.sk-item::before, #sk-container-id-7 div.sk-parallel-item::before {content: \"\";position: absolute;border-left: 1px solid gray;box-sizing: border-box;top: 0;bottom: 0;left: 50%;z-index: -1;}#sk-container-id-7 div.sk-parallel-item {display: flex;flex-direction: column;z-index: 1;position: relative;background-color: white;}#sk-container-id-7 div.sk-parallel-item:first-child::after {align-self: flex-end;width: 50%;}#sk-container-id-7 div.sk-parallel-item:last-child::after {align-self: flex-start;width: 50%;}#sk-container-id-7 div.sk-parallel-item:only-child::after {width: 0;}#sk-container-id-7 div.sk-dashed-wrapped {border: 1px dashed gray;margin: 0 0.4em 0.5em 0.4em;box-sizing: border-box;padding-bottom: 0.4em;background-color: white;}#sk-container-id-7 div.sk-label label {font-family: monospace;font-weight: bold;display: inline-block;line-height: 1.2em;}#sk-container-id-7 div.sk-label-container {text-align: center;}#sk-container-id-7 div.sk-container {/* jupyter's `normalize.less` sets `[hidden] { display: none; }` but bootstrap.min.css set `[hidden] { display: none !important; }` so we also need the `!important` here to be able to override the default hidden behavior on the sphinx rendered scikit-learn.org. See: https://github.com/scikit-learn/scikit-learn/issues/21755 */display: inline-block !important;position: relative;}#sk-container-id-7 div.sk-text-repr-fallback {display: none;}</style><div id=\"sk-container-id-7\" class=\"sk-top-container\"><div class=\"sk-text-repr-fallback\"><pre>GridSearchCV(cv=5,\n",
       "             estimator=Pipeline(steps=[(&#x27;tvec&#x27;, TfidfVectorizer()),\n",
       "                                       (&#x27;svc&#x27;, LinearSVC())]),\n",
       "             param_grid={&#x27;svc__C&#x27;: array([1.00000e-04, 2.50075e-01, 5.00050e-01, 7.50025e-01, 1.00000e+00]),\n",
       "                         &#x27;tvec__max_df&#x27;: [0.9], &#x27;tvec__max_features&#x27;: [5000],\n",
       "                         &#x27;tvec__min_df&#x27;: [5], &#x27;tvec__ngram_range&#x27;: [(1, 2)],\n",
       "                         &#x27;tvec__stop_words&#x27;: [None, &#x27;english&#x27;]})</pre><b>In a Jupyter environment, please rerun this cell to show the HTML representation or trust the notebook. <br />On GitHub, the HTML representation is unable to render, please try loading this page with nbviewer.org.</b></div><div class=\"sk-container\" hidden><div class=\"sk-item sk-dashed-wrapped\"><div class=\"sk-label-container\"><div class=\"sk-label sk-toggleable\"><input class=\"sk-toggleable__control sk-hidden--visually\" id=\"sk-estimator-id-25\" type=\"checkbox\" ><label for=\"sk-estimator-id-25\" class=\"sk-toggleable__label sk-toggleable__label-arrow\">GridSearchCV</label><div class=\"sk-toggleable__content\"><pre>GridSearchCV(cv=5,\n",
       "             estimator=Pipeline(steps=[(&#x27;tvec&#x27;, TfidfVectorizer()),\n",
       "                                       (&#x27;svc&#x27;, LinearSVC())]),\n",
       "             param_grid={&#x27;svc__C&#x27;: array([1.00000e-04, 2.50075e-01, 5.00050e-01, 7.50025e-01, 1.00000e+00]),\n",
       "                         &#x27;tvec__max_df&#x27;: [0.9], &#x27;tvec__max_features&#x27;: [5000],\n",
       "                         &#x27;tvec__min_df&#x27;: [5], &#x27;tvec__ngram_range&#x27;: [(1, 2)],\n",
       "                         &#x27;tvec__stop_words&#x27;: [None, &#x27;english&#x27;]})</pre></div></div></div><div class=\"sk-parallel\"><div class=\"sk-parallel-item\"><div class=\"sk-item\"><div class=\"sk-label-container\"><div class=\"sk-label sk-toggleable\"><input class=\"sk-toggleable__control sk-hidden--visually\" id=\"sk-estimator-id-26\" type=\"checkbox\" ><label for=\"sk-estimator-id-26\" class=\"sk-toggleable__label sk-toggleable__label-arrow\">estimator: Pipeline</label><div class=\"sk-toggleable__content\"><pre>Pipeline(steps=[(&#x27;tvec&#x27;, TfidfVectorizer()), (&#x27;svc&#x27;, LinearSVC())])</pre></div></div></div><div class=\"sk-serial\"><div class=\"sk-item\"><div class=\"sk-serial\"><div class=\"sk-item\"><div class=\"sk-estimator sk-toggleable\"><input class=\"sk-toggleable__control sk-hidden--visually\" id=\"sk-estimator-id-27\" type=\"checkbox\" ><label for=\"sk-estimator-id-27\" class=\"sk-toggleable__label sk-toggleable__label-arrow\">TfidfVectorizer</label><div class=\"sk-toggleable__content\"><pre>TfidfVectorizer()</pre></div></div></div><div class=\"sk-item\"><div class=\"sk-estimator sk-toggleable\"><input class=\"sk-toggleable__control sk-hidden--visually\" id=\"sk-estimator-id-28\" type=\"checkbox\" ><label for=\"sk-estimator-id-28\" class=\"sk-toggleable__label sk-toggleable__label-arrow\">LinearSVC</label><div class=\"sk-toggleable__content\"><pre>LinearSVC()</pre></div></div></div></div></div></div></div></div></div></div></div></div>"
      ],
      "text/plain": [
       "GridSearchCV(cv=5,\n",
       "             estimator=Pipeline(steps=[('tvec', TfidfVectorizer()),\n",
       "                                       ('svc', LinearSVC())]),\n",
       "             param_grid={'svc__C': array([1.00000e-04, 2.50075e-01, 5.00050e-01, 7.50025e-01, 1.00000e+00]),\n",
       "                         'tvec__max_df': [0.9], 'tvec__max_features': [5000],\n",
       "                         'tvec__min_df': [5], 'tvec__ngram_range': [(1, 2)],\n",
       "                         'tvec__stop_words': [None, 'english']})"
      ]
     },
     "execution_count": 99,
     "metadata": {},
     "output_type": "execute_result"
    }
   ],
   "source": [
    "# Fit GridSearch to training data.\n",
    "gs_svc.fit(X_train,y_train)"
   ]
  },
  {
   "cell_type": "code",
   "execution_count": 100,
   "id": "f2fc702b-ddf8-41f0-a0e4-145106d40b11",
   "metadata": {},
   "outputs": [
    {
     "data": {
      "text/plain": [
       "{'svc__C': 0.250075,\n",
       " 'tvec__max_df': 0.9,\n",
       " 'tvec__max_features': 5000,\n",
       " 'tvec__min_df': 5,\n",
       " 'tvec__ngram_range': (1, 2),\n",
       " 'tvec__stop_words': None}"
      ]
     },
     "execution_count": 100,
     "metadata": {},
     "output_type": "execute_result"
    }
   ],
   "source": [
    "gs_svc.best_params_"
   ]
  },
  {
   "cell_type": "code",
   "execution_count": 101,
   "id": "729dfec9-d774-4a6a-8bcd-0acabf3f899d",
   "metadata": {},
   "outputs": [],
   "source": [
    "# Get predictions\n",
    "preds_svc = gs_svc.predict(X_test)"
   ]
  },
  {
   "cell_type": "code",
   "execution_count": 102,
   "id": "b129446b-872b-4460-985e-ab889d574e21",
   "metadata": {},
   "outputs": [
    {
     "data": {
      "text/html": [
       "<div>\n",
       "<style scoped>\n",
       "    .dataframe tbody tr th:only-of-type {\n",
       "        vertical-align: middle;\n",
       "    }\n",
       "\n",
       "    .dataframe tbody tr th {\n",
       "        vertical-align: top;\n",
       "    }\n",
       "\n",
       "    .dataframe thead th {\n",
       "        text-align: right;\n",
       "    }\n",
       "</style>\n",
       "<table border=\"1\" class=\"dataframe\">\n",
       "  <thead>\n",
       "    <tr style=\"text-align: right;\">\n",
       "      <th></th>\n",
       "      <th>Model</th>\n",
       "      <th>Score on train</th>\n",
       "      <th>Score on test</th>\n",
       "      <th>Sensitivity</th>\n",
       "      <th>Specificity</th>\n",
       "      <th>Precision</th>\n",
       "    </tr>\n",
       "  </thead>\n",
       "  <tbody>\n",
       "    <tr>\n",
       "      <th>0</th>\n",
       "      <td>LinearSVC</td>\n",
       "      <td>0.946</td>\n",
       "      <td>0.891</td>\n",
       "      <td>0.865</td>\n",
       "      <td>0.916</td>\n",
       "      <td>0.906</td>\n",
       "    </tr>\n",
       "  </tbody>\n",
       "</table>\n",
       "</div>"
      ],
      "text/plain": [
       "       Model  Score on train  Score on test  Sensitivity  Specificity  \\\n",
       "0  LinearSVC           0.946          0.891        0.865        0.916   \n",
       "\n",
       "   Precision  \n",
       "0      0.906  "
      ]
     },
     "execution_count": 102,
     "metadata": {},
     "output_type": "execute_result"
    }
   ],
   "source": [
    "svc = evaluation('LinearSVC',y_test,preds_svc,gs_svc)\n",
    "svc"
   ]
  },
  {
   "cell_type": "code",
   "execution_count": 103,
   "id": "b9f36dda-0f80-4567-9422-c580dedd805d",
   "metadata": {},
   "outputs": [
    {
     "data": {
      "image/png": "[encoded data removed]",
      "text/plain": [
       "<Figure size 640x480 with 2 Axes>"
      ]
     },
     "metadata": {},
     "output_type": "display_data"
    }
   ],
   "source": [
    "plot_confusion(y_test,preds_svc,gs_svc);\n",
    "plt.title('Confusion matrix from LinearSVC');\n",
    "plt.savefig(\"./img/Confusion_matrix_from_LinearSVC.jpg\", dpi=300)"
   ]
  },
  {
   "cell_type": "markdown",
   "id": "953d7551-d42b-413a-9cd8-70e967073aad",
   "metadata": {},
   "source": [
    "From the confusion matrix, we see that the true positives and true negatives are significantly higher compared to the false positives and the false negatives, which means the model can predict the AI texts more accurately and is confirmed from the above evaluation table for the model when looking at the sensitivity, specificity, and precision of the model."
   ]
  },
  {
   "cell_type": "markdown",
   "id": "43469cef-c8a8-434b-b959-1e4c24e41a18",
   "metadata": {},
   "source": [
    "### Illustrate all scores in one table"
   ]
  },
  {
   "cell_type": "code",
   "execution_count": 104,
   "id": "7706aa2f-a350-424d-9aaf-5d9cf4b1d50b",
   "metadata": {},
   "outputs": [],
   "source": [
    "Table = pd.concat([logr,Randomfc,knn,mnb,bnb,abc,svc],ignore_index=True)"
   ]
  },
  {
   "cell_type": "code",
   "execution_count": 105,
   "id": "962e7d18-71ba-49af-ab90-ff676dbe5fb9",
   "metadata": {
    "scrolled": true
   },
   "outputs": [
    {
     "data": {
      "text/html": [
       "<div>\n",
       "<style scoped>\n",
       "    .dataframe tbody tr th:only-of-type {\n",
       "        vertical-align: middle;\n",
       "    }\n",
       "\n",
       "    .dataframe tbody tr th {\n",
       "        vertical-align: top;\n",
       "    }\n",
       "\n",
       "    .dataframe thead th {\n",
       "        text-align: right;\n",
       "    }\n",
       "</style>\n",
       "<table border=\"1\" class=\"dataframe\">\n",
       "  <thead>\n",
       "    <tr style=\"text-align: right;\">\n",
       "      <th></th>\n",
       "      <th>Score on train</th>\n",
       "      <th>Score on test</th>\n",
       "      <th>Sensitivity</th>\n",
       "      <th>Specificity</th>\n",
       "      <th>Precision</th>\n",
       "    </tr>\n",
       "    <tr>\n",
       "      <th>Model</th>\n",
       "      <th></th>\n",
       "      <th></th>\n",
       "      <th></th>\n",
       "      <th></th>\n",
       "      <th></th>\n",
       "    </tr>\n",
       "  </thead>\n",
       "  <tbody>\n",
       "    <tr>\n",
       "      <th>logr</th>\n",
       "      <td>0.947</td>\n",
       "      <td>0.890</td>\n",
       "      <td>0.866</td>\n",
       "      <td>0.913</td>\n",
       "      <td>0.903</td>\n",
       "    </tr>\n",
       "    <tr>\n",
       "      <th>Randomfc</th>\n",
       "      <td>0.997</td>\n",
       "      <td>0.885</td>\n",
       "      <td>0.861</td>\n",
       "      <td>0.907</td>\n",
       "      <td>0.897</td>\n",
       "    </tr>\n",
       "    <tr>\n",
       "      <th>KNN</th>\n",
       "      <td>0.639</td>\n",
       "      <td>0.586</td>\n",
       "      <td>0.171</td>\n",
       "      <td>0.976</td>\n",
       "      <td>0.869</td>\n",
       "    </tr>\n",
       "    <tr>\n",
       "      <th>MultinomialNB</th>\n",
       "      <td>0.879</td>\n",
       "      <td>0.829</td>\n",
       "      <td>0.863</td>\n",
       "      <td>0.798</td>\n",
       "      <td>0.800</td>\n",
       "    </tr>\n",
       "    <tr>\n",
       "      <th>BernoulliNB</th>\n",
       "      <td>0.871</td>\n",
       "      <td>0.850</td>\n",
       "      <td>0.796</td>\n",
       "      <td>0.900</td>\n",
       "      <td>0.882</td>\n",
       "    </tr>\n",
       "    <tr>\n",
       "      <th>AdaBoostClassifier</th>\n",
       "      <td>0.932</td>\n",
       "      <td>0.869</td>\n",
       "      <td>0.846</td>\n",
       "      <td>0.891</td>\n",
       "      <td>0.879</td>\n",
       "    </tr>\n",
       "    <tr>\n",
       "      <th>LinearSVC</th>\n",
       "      <td>0.946</td>\n",
       "      <td>0.891</td>\n",
       "      <td>0.865</td>\n",
       "      <td>0.916</td>\n",
       "      <td>0.906</td>\n",
       "    </tr>\n",
       "  </tbody>\n",
       "</table>\n",
       "</div>"
      ],
      "text/plain": [
       "                    Score on train  Score on test  Sensitivity  Specificity  \\\n",
       "Model                                                                         \n",
       "logr                         0.947          0.890        0.866        0.913   \n",
       "Randomfc                     0.997          0.885        0.861        0.907   \n",
       "KNN                          0.639          0.586        0.171        0.976   \n",
       "MultinomialNB                0.879          0.829        0.863        0.798   \n",
       "BernoulliNB                  0.871          0.850        0.796        0.900   \n",
       "AdaBoostClassifier           0.932          0.869        0.846        0.891   \n",
       "LinearSVC                    0.946          0.891        0.865        0.916   \n",
       "\n",
       "                    Precision  \n",
       "Model                          \n",
       "logr                    0.903  \n",
       "Randomfc                0.897  \n",
       "KNN                     0.869  \n",
       "MultinomialNB           0.800  \n",
       "BernoulliNB             0.882  \n",
       "AdaBoostClassifier      0.879  \n",
       "LinearSVC               0.906  "
      ]
     },
     "execution_count": 105,
     "metadata": {},
     "output_type": "execute_result"
    }
   ],
   "source": [
    "Table.set_index('Model')"
   ]
  },
  {
   "cell_type": "markdown",
   "id": "3e156ba8-a4c8-4be4-bb64-7c3cc91c5838",
   "metadata": {},
   "source": [
    "# Identify the best model"
   ]
  },
  {
   "cell_type": "code",
   "execution_count": 225,
   "id": "f4f233b0-bc0c-43e3-abc5-0e6a00526d5b",
   "metadata": {},
   "outputs": [],
   "source": [
    "# Pickle the best fitted pipeline\n",
    "with open('./models/logr_pipe.pkl', 'wb') as f:\n",
    "    pickle.dump(pipe_logr, f)"
   ]
  },
  {
   "cell_type": "markdown",
   "id": "7b47e5a9-1cff-4ba6-8319-96679a96d246",
   "metadata": {},
   "source": [
    "**Ref: The idea for the model evaluation function and for the confusion matrix display function was taken from the GA lecture notebooks.**"
   ]
  }
 ],
 "metadata": {
  "kernelspec": {
   "display_name": "Python 3 (ipykernel)",
   "language": "python",
   "name": "python3"
  },
  "language_info": {
   "codemirror_mode": {
    "name": "ipython",
    "version": 3
   },
   "file_extension": ".py",
   "mimetype": "text/x-python",
   "name": "python",
   "nbconvert_exporter": "python",
   "pygments_lexer": "ipython3",
   "version": "3.9.17"
  }
 },
 "nbformat": 4,
 "nbformat_minor": 5
}
